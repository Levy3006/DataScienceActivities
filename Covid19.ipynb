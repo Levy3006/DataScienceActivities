{
  "nbformat": 4,
  "nbformat_minor": 0,
  "metadata": {
    "colab": {
      "provenance": []
    },
    "kernelspec": {
      "name": "python3",
      "display_name": "Python 3"
    },
    "language_info": {
      "name": "python"
    }
  },
  "cells": [
    {
      "cell_type": "markdown",
      "source": [
        "# Vacinações Covid 19\n",
        "\n",
        "---\n",
        "\n"
      ],
      "metadata": {
        "id": "uACORmMo_qWK"
      }
    },
    {
      "cell_type": "markdown",
      "source": [
        "Vamos iniciar a vizualização de dados em uma tabela de vacinações, primeiramente analisando a tabela e os dados, identificando possiveis inconsistências nos dados, e assim limpando-os, tratando-os ou eliminando-os, conforme a nossa necessidade. Vamos lá?"
      ],
      "metadata": {
        "id": "S9nL_S3c_3gj"
      }
    },
    {
      "cell_type": "markdown",
      "source": [
        "# Importando as principais bibliotecas"
      ],
      "metadata": {
        "id": "PvoMEDNTBRoe"
      }
    },
    {
      "cell_type": "code",
      "execution_count": null,
      "metadata": {
        "id": "cONhRxyFgpap"
      },
      "outputs": [],
      "source": [
        "import pandas as pd\n",
        "import numpy as np\n",
        "import seaborn as sns\n",
        "import matplotlib.pyplot as plt"
      ]
    },
    {
      "cell_type": "markdown",
      "source": [
        "# lendo o csv e transformando num DataFrame"
      ],
      "metadata": {
        "id": "CbnrHCxPKUbq"
      }
    },
    {
      "cell_type": "code",
      "source": [
        "df = pd.read_csv('https://raw.githubusercontent.com/Levy3006/DataSetsKaggle/main/country_vaccinations.csv')"
      ],
      "metadata": {
        "id": "EahLMcg3hKfk"
      },
      "execution_count": null,
      "outputs": []
    },
    {
      "cell_type": "markdown",
      "source": [
        "# Vizualizando o DataFrame"
      ],
      "metadata": {
        "id": "xV-jj8nUKidz"
      }
    },
    {
      "cell_type": "code",
      "source": [
        "df"
      ],
      "metadata": {
        "colab": {
          "base_uri": "https://localhost:8080/",
          "height": 791
        },
        "id": "wG0RSi4Yusc1",
        "outputId": "5f1a8930-e234-4139-f993-9feadfdadea4"
      },
      "execution_count": null,
      "outputs": [
        {
          "output_type": "execute_result",
          "data": {
            "text/plain": [
              "           country iso_code        date  total_vaccinations  \\\n",
              "0      Afghanistan      AFG  2021-02-22                 0.0   \n",
              "1      Afghanistan      AFG  2021-02-23                 NaN   \n",
              "2      Afghanistan      AFG  2021-02-24                 NaN   \n",
              "3      Afghanistan      AFG  2021-02-25                 NaN   \n",
              "4      Afghanistan      AFG  2021-02-26                 NaN   \n",
              "...            ...      ...         ...                 ...   \n",
              "86507     Zimbabwe      ZWE  2022-03-25           8691642.0   \n",
              "86508     Zimbabwe      ZWE  2022-03-26           8791728.0   \n",
              "86509     Zimbabwe      ZWE  2022-03-27           8845039.0   \n",
              "86510     Zimbabwe      ZWE  2022-03-28           8934360.0   \n",
              "86511     Zimbabwe      ZWE  2022-03-29           9039729.0   \n",
              "\n",
              "       people_vaccinated  people_fully_vaccinated  daily_vaccinations_raw  \\\n",
              "0                    0.0                      NaN                     NaN   \n",
              "1                    NaN                      NaN                     NaN   \n",
              "2                    NaN                      NaN                     NaN   \n",
              "3                    NaN                      NaN                     NaN   \n",
              "4                    NaN                      NaN                     NaN   \n",
              "...                  ...                      ...                     ...   \n",
              "86507          4814582.0                3473523.0                139213.0   \n",
              "86508          4886242.0                3487962.0                100086.0   \n",
              "86509          4918147.0                3493763.0                 53311.0   \n",
              "86510          4975433.0                3501493.0                 89321.0   \n",
              "86511          5053114.0                3510256.0                105369.0   \n",
              "\n",
              "       daily_vaccinations  total_vaccinations_per_hundred  \\\n",
              "0                     NaN                            0.00   \n",
              "1                  1367.0                             NaN   \n",
              "2                  1367.0                             NaN   \n",
              "3                  1367.0                             NaN   \n",
              "4                  1367.0                             NaN   \n",
              "...                   ...                             ...   \n",
              "86507             69579.0                           57.59   \n",
              "86508             83429.0                           58.25   \n",
              "86509             90629.0                           58.61   \n",
              "86510            100614.0                           59.20   \n",
              "86511            103751.0                           59.90   \n",
              "\n",
              "       people_vaccinated_per_hundred  people_fully_vaccinated_per_hundred  \\\n",
              "0                               0.00                                  NaN   \n",
              "1                                NaN                                  NaN   \n",
              "2                                NaN                                  NaN   \n",
              "3                                NaN                                  NaN   \n",
              "4                                NaN                                  NaN   \n",
              "...                              ...                                  ...   \n",
              "86507                          31.90                                23.02   \n",
              "86508                          32.38                                23.11   \n",
              "86509                          32.59                                23.15   \n",
              "86510                          32.97                                23.20   \n",
              "86511                          33.48                                23.26   \n",
              "\n",
              "       daily_vaccinations_per_million  \\\n",
              "0                                 NaN   \n",
              "1                                34.0   \n",
              "2                                34.0   \n",
              "3                                34.0   \n",
              "4                                34.0   \n",
              "...                               ...   \n",
              "86507                          4610.0   \n",
              "86508                          5528.0   \n",
              "86509                          6005.0   \n",
              "86510                          6667.0   \n",
              "86511                          6874.0   \n",
              "\n",
              "                                                vaccines  \\\n",
              "0      Johnson&Johnson, Oxford/AstraZeneca, Pfizer/Bi...   \n",
              "1      Johnson&Johnson, Oxford/AstraZeneca, Pfizer/Bi...   \n",
              "2      Johnson&Johnson, Oxford/AstraZeneca, Pfizer/Bi...   \n",
              "3      Johnson&Johnson, Oxford/AstraZeneca, Pfizer/Bi...   \n",
              "4      Johnson&Johnson, Oxford/AstraZeneca, Pfizer/Bi...   \n",
              "...                                                  ...   \n",
              "86507  Oxford/AstraZeneca, Sinopharm/Beijing, Sinovac...   \n",
              "86508  Oxford/AstraZeneca, Sinopharm/Beijing, Sinovac...   \n",
              "86509  Oxford/AstraZeneca, Sinopharm/Beijing, Sinovac...   \n",
              "86510  Oxford/AstraZeneca, Sinopharm/Beijing, Sinovac...   \n",
              "86511  Oxford/AstraZeneca, Sinopharm/Beijing, Sinovac...   \n",
              "\n",
              "                     source_name  \\\n",
              "0      World Health Organization   \n",
              "1      World Health Organization   \n",
              "2      World Health Organization   \n",
              "3      World Health Organization   \n",
              "4      World Health Organization   \n",
              "...                          ...   \n",
              "86507         Ministry of Health   \n",
              "86508         Ministry of Health   \n",
              "86509         Ministry of Health   \n",
              "86510         Ministry of Health   \n",
              "86511         Ministry of Health   \n",
              "\n",
              "                                          source_website  \n",
              "0                               https://covid19.who.int/  \n",
              "1                               https://covid19.who.int/  \n",
              "2                               https://covid19.who.int/  \n",
              "3                               https://covid19.who.int/  \n",
              "4                               https://covid19.who.int/  \n",
              "...                                                  ...  \n",
              "86507  https://www.arcgis.com/home/webmap/viewer.html...  \n",
              "86508  https://www.arcgis.com/home/webmap/viewer.html...  \n",
              "86509  https://www.arcgis.com/home/webmap/viewer.html...  \n",
              "86510  https://www.arcgis.com/home/webmap/viewer.html...  \n",
              "86511  https://www.arcgis.com/home/webmap/viewer.html...  \n",
              "\n",
              "[86512 rows x 15 columns]"
            ],
            "text/html": [
              "\n",
              "  <div id=\"df-0526f954-7af8-4861-8f2f-64cb42064978\" class=\"colab-df-container\">\n",
              "    <div>\n",
              "<style scoped>\n",
              "    .dataframe tbody tr th:only-of-type {\n",
              "        vertical-align: middle;\n",
              "    }\n",
              "\n",
              "    .dataframe tbody tr th {\n",
              "        vertical-align: top;\n",
              "    }\n",
              "\n",
              "    .dataframe thead th {\n",
              "        text-align: right;\n",
              "    }\n",
              "</style>\n",
              "<table border=\"1\" class=\"dataframe\">\n",
              "  <thead>\n",
              "    <tr style=\"text-align: right;\">\n",
              "      <th></th>\n",
              "      <th>country</th>\n",
              "      <th>iso_code</th>\n",
              "      <th>date</th>\n",
              "      <th>total_vaccinations</th>\n",
              "      <th>people_vaccinated</th>\n",
              "      <th>people_fully_vaccinated</th>\n",
              "      <th>daily_vaccinations_raw</th>\n",
              "      <th>daily_vaccinations</th>\n",
              "      <th>total_vaccinations_per_hundred</th>\n",
              "      <th>people_vaccinated_per_hundred</th>\n",
              "      <th>people_fully_vaccinated_per_hundred</th>\n",
              "      <th>daily_vaccinations_per_million</th>\n",
              "      <th>vaccines</th>\n",
              "      <th>source_name</th>\n",
              "      <th>source_website</th>\n",
              "    </tr>\n",
              "  </thead>\n",
              "  <tbody>\n",
              "    <tr>\n",
              "      <th>0</th>\n",
              "      <td>Afghanistan</td>\n",
              "      <td>AFG</td>\n",
              "      <td>2021-02-22</td>\n",
              "      <td>0.0</td>\n",
              "      <td>0.0</td>\n",
              "      <td>NaN</td>\n",
              "      <td>NaN</td>\n",
              "      <td>NaN</td>\n",
              "      <td>0.00</td>\n",
              "      <td>0.00</td>\n",
              "      <td>NaN</td>\n",
              "      <td>NaN</td>\n",
              "      <td>Johnson&amp;Johnson, Oxford/AstraZeneca, Pfizer/Bi...</td>\n",
              "      <td>World Health Organization</td>\n",
              "      <td>https://covid19.who.int/</td>\n",
              "    </tr>\n",
              "    <tr>\n",
              "      <th>1</th>\n",
              "      <td>Afghanistan</td>\n",
              "      <td>AFG</td>\n",
              "      <td>2021-02-23</td>\n",
              "      <td>NaN</td>\n",
              "      <td>NaN</td>\n",
              "      <td>NaN</td>\n",
              "      <td>NaN</td>\n",
              "      <td>1367.0</td>\n",
              "      <td>NaN</td>\n",
              "      <td>NaN</td>\n",
              "      <td>NaN</td>\n",
              "      <td>34.0</td>\n",
              "      <td>Johnson&amp;Johnson, Oxford/AstraZeneca, Pfizer/Bi...</td>\n",
              "      <td>World Health Organization</td>\n",
              "      <td>https://covid19.who.int/</td>\n",
              "    </tr>\n",
              "    <tr>\n",
              "      <th>2</th>\n",
              "      <td>Afghanistan</td>\n",
              "      <td>AFG</td>\n",
              "      <td>2021-02-24</td>\n",
              "      <td>NaN</td>\n",
              "      <td>NaN</td>\n",
              "      <td>NaN</td>\n",
              "      <td>NaN</td>\n",
              "      <td>1367.0</td>\n",
              "      <td>NaN</td>\n",
              "      <td>NaN</td>\n",
              "      <td>NaN</td>\n",
              "      <td>34.0</td>\n",
              "      <td>Johnson&amp;Johnson, Oxford/AstraZeneca, Pfizer/Bi...</td>\n",
              "      <td>World Health Organization</td>\n",
              "      <td>https://covid19.who.int/</td>\n",
              "    </tr>\n",
              "    <tr>\n",
              "      <th>3</th>\n",
              "      <td>Afghanistan</td>\n",
              "      <td>AFG</td>\n",
              "      <td>2021-02-25</td>\n",
              "      <td>NaN</td>\n",
              "      <td>NaN</td>\n",
              "      <td>NaN</td>\n",
              "      <td>NaN</td>\n",
              "      <td>1367.0</td>\n",
              "      <td>NaN</td>\n",
              "      <td>NaN</td>\n",
              "      <td>NaN</td>\n",
              "      <td>34.0</td>\n",
              "      <td>Johnson&amp;Johnson, Oxford/AstraZeneca, Pfizer/Bi...</td>\n",
              "      <td>World Health Organization</td>\n",
              "      <td>https://covid19.who.int/</td>\n",
              "    </tr>\n",
              "    <tr>\n",
              "      <th>4</th>\n",
              "      <td>Afghanistan</td>\n",
              "      <td>AFG</td>\n",
              "      <td>2021-02-26</td>\n",
              "      <td>NaN</td>\n",
              "      <td>NaN</td>\n",
              "      <td>NaN</td>\n",
              "      <td>NaN</td>\n",
              "      <td>1367.0</td>\n",
              "      <td>NaN</td>\n",
              "      <td>NaN</td>\n",
              "      <td>NaN</td>\n",
              "      <td>34.0</td>\n",
              "      <td>Johnson&amp;Johnson, Oxford/AstraZeneca, Pfizer/Bi...</td>\n",
              "      <td>World Health Organization</td>\n",
              "      <td>https://covid19.who.int/</td>\n",
              "    </tr>\n",
              "    <tr>\n",
              "      <th>...</th>\n",
              "      <td>...</td>\n",
              "      <td>...</td>\n",
              "      <td>...</td>\n",
              "      <td>...</td>\n",
              "      <td>...</td>\n",
              "      <td>...</td>\n",
              "      <td>...</td>\n",
              "      <td>...</td>\n",
              "      <td>...</td>\n",
              "      <td>...</td>\n",
              "      <td>...</td>\n",
              "      <td>...</td>\n",
              "      <td>...</td>\n",
              "      <td>...</td>\n",
              "      <td>...</td>\n",
              "    </tr>\n",
              "    <tr>\n",
              "      <th>86507</th>\n",
              "      <td>Zimbabwe</td>\n",
              "      <td>ZWE</td>\n",
              "      <td>2022-03-25</td>\n",
              "      <td>8691642.0</td>\n",
              "      <td>4814582.0</td>\n",
              "      <td>3473523.0</td>\n",
              "      <td>139213.0</td>\n",
              "      <td>69579.0</td>\n",
              "      <td>57.59</td>\n",
              "      <td>31.90</td>\n",
              "      <td>23.02</td>\n",
              "      <td>4610.0</td>\n",
              "      <td>Oxford/AstraZeneca, Sinopharm/Beijing, Sinovac...</td>\n",
              "      <td>Ministry of Health</td>\n",
              "      <td>https://www.arcgis.com/home/webmap/viewer.html...</td>\n",
              "    </tr>\n",
              "    <tr>\n",
              "      <th>86508</th>\n",
              "      <td>Zimbabwe</td>\n",
              "      <td>ZWE</td>\n",
              "      <td>2022-03-26</td>\n",
              "      <td>8791728.0</td>\n",
              "      <td>4886242.0</td>\n",
              "      <td>3487962.0</td>\n",
              "      <td>100086.0</td>\n",
              "      <td>83429.0</td>\n",
              "      <td>58.25</td>\n",
              "      <td>32.38</td>\n",
              "      <td>23.11</td>\n",
              "      <td>5528.0</td>\n",
              "      <td>Oxford/AstraZeneca, Sinopharm/Beijing, Sinovac...</td>\n",
              "      <td>Ministry of Health</td>\n",
              "      <td>https://www.arcgis.com/home/webmap/viewer.html...</td>\n",
              "    </tr>\n",
              "    <tr>\n",
              "      <th>86509</th>\n",
              "      <td>Zimbabwe</td>\n",
              "      <td>ZWE</td>\n",
              "      <td>2022-03-27</td>\n",
              "      <td>8845039.0</td>\n",
              "      <td>4918147.0</td>\n",
              "      <td>3493763.0</td>\n",
              "      <td>53311.0</td>\n",
              "      <td>90629.0</td>\n",
              "      <td>58.61</td>\n",
              "      <td>32.59</td>\n",
              "      <td>23.15</td>\n",
              "      <td>6005.0</td>\n",
              "      <td>Oxford/AstraZeneca, Sinopharm/Beijing, Sinovac...</td>\n",
              "      <td>Ministry of Health</td>\n",
              "      <td>https://www.arcgis.com/home/webmap/viewer.html...</td>\n",
              "    </tr>\n",
              "    <tr>\n",
              "      <th>86510</th>\n",
              "      <td>Zimbabwe</td>\n",
              "      <td>ZWE</td>\n",
              "      <td>2022-03-28</td>\n",
              "      <td>8934360.0</td>\n",
              "      <td>4975433.0</td>\n",
              "      <td>3501493.0</td>\n",
              "      <td>89321.0</td>\n",
              "      <td>100614.0</td>\n",
              "      <td>59.20</td>\n",
              "      <td>32.97</td>\n",
              "      <td>23.20</td>\n",
              "      <td>6667.0</td>\n",
              "      <td>Oxford/AstraZeneca, Sinopharm/Beijing, Sinovac...</td>\n",
              "      <td>Ministry of Health</td>\n",
              "      <td>https://www.arcgis.com/home/webmap/viewer.html...</td>\n",
              "    </tr>\n",
              "    <tr>\n",
              "      <th>86511</th>\n",
              "      <td>Zimbabwe</td>\n",
              "      <td>ZWE</td>\n",
              "      <td>2022-03-29</td>\n",
              "      <td>9039729.0</td>\n",
              "      <td>5053114.0</td>\n",
              "      <td>3510256.0</td>\n",
              "      <td>105369.0</td>\n",
              "      <td>103751.0</td>\n",
              "      <td>59.90</td>\n",
              "      <td>33.48</td>\n",
              "      <td>23.26</td>\n",
              "      <td>6874.0</td>\n",
              "      <td>Oxford/AstraZeneca, Sinopharm/Beijing, Sinovac...</td>\n",
              "      <td>Ministry of Health</td>\n",
              "      <td>https://www.arcgis.com/home/webmap/viewer.html...</td>\n",
              "    </tr>\n",
              "  </tbody>\n",
              "</table>\n",
              "<p>86512 rows × 15 columns</p>\n",
              "</div>\n",
              "    <div class=\"colab-df-buttons\">\n",
              "\n",
              "  <div class=\"colab-df-container\">\n",
              "    <button class=\"colab-df-convert\" onclick=\"convertToInteractive('df-0526f954-7af8-4861-8f2f-64cb42064978')\"\n",
              "            title=\"Convert this dataframe to an interactive table.\"\n",
              "            style=\"display:none;\">\n",
              "\n",
              "  <svg xmlns=\"http://www.w3.org/2000/svg\" height=\"24px\" viewBox=\"0 -960 960 960\">\n",
              "    <path d=\"M120-120v-720h720v720H120Zm60-500h600v-160H180v160Zm220 220h160v-160H400v160Zm0 220h160v-160H400v160ZM180-400h160v-160H180v160Zm440 0h160v-160H620v160ZM180-180h160v-160H180v160Zm440 0h160v-160H620v160Z\"/>\n",
              "  </svg>\n",
              "    </button>\n",
              "\n",
              "  <style>\n",
              "    .colab-df-container {\n",
              "      display:flex;\n",
              "      gap: 12px;\n",
              "    }\n",
              "\n",
              "    .colab-df-convert {\n",
              "      background-color: #E8F0FE;\n",
              "      border: none;\n",
              "      border-radius: 50%;\n",
              "      cursor: pointer;\n",
              "      display: none;\n",
              "      fill: #1967D2;\n",
              "      height: 32px;\n",
              "      padding: 0 0 0 0;\n",
              "      width: 32px;\n",
              "    }\n",
              "\n",
              "    .colab-df-convert:hover {\n",
              "      background-color: #E2EBFA;\n",
              "      box-shadow: 0px 1px 2px rgba(60, 64, 67, 0.3), 0px 1px 3px 1px rgba(60, 64, 67, 0.15);\n",
              "      fill: #174EA6;\n",
              "    }\n",
              "\n",
              "    .colab-df-buttons div {\n",
              "      margin-bottom: 4px;\n",
              "    }\n",
              "\n",
              "    [theme=dark] .colab-df-convert {\n",
              "      background-color: #3B4455;\n",
              "      fill: #D2E3FC;\n",
              "    }\n",
              "\n",
              "    [theme=dark] .colab-df-convert:hover {\n",
              "      background-color: #434B5C;\n",
              "      box-shadow: 0px 1px 3px 1px rgba(0, 0, 0, 0.15);\n",
              "      filter: drop-shadow(0px 1px 2px rgba(0, 0, 0, 0.3));\n",
              "      fill: #FFFFFF;\n",
              "    }\n",
              "  </style>\n",
              "\n",
              "    <script>\n",
              "      const buttonEl =\n",
              "        document.querySelector('#df-0526f954-7af8-4861-8f2f-64cb42064978 button.colab-df-convert');\n",
              "      buttonEl.style.display =\n",
              "        google.colab.kernel.accessAllowed ? 'block' : 'none';\n",
              "\n",
              "      async function convertToInteractive(key) {\n",
              "        const element = document.querySelector('#df-0526f954-7af8-4861-8f2f-64cb42064978');\n",
              "        const dataTable =\n",
              "          await google.colab.kernel.invokeFunction('convertToInteractive',\n",
              "                                                    [key], {});\n",
              "        if (!dataTable) return;\n",
              "\n",
              "        const docLinkHtml = 'Like what you see? Visit the ' +\n",
              "          '<a target=\"_blank\" href=https://colab.research.google.com/notebooks/data_table.ipynb>data table notebook</a>'\n",
              "          + ' to learn more about interactive tables.';\n",
              "        element.innerHTML = '';\n",
              "        dataTable['output_type'] = 'display_data';\n",
              "        await google.colab.output.renderOutput(dataTable, element);\n",
              "        const docLink = document.createElement('div');\n",
              "        docLink.innerHTML = docLinkHtml;\n",
              "        element.appendChild(docLink);\n",
              "      }\n",
              "    </script>\n",
              "  </div>\n",
              "\n",
              "\n",
              "<div id=\"df-fcf2a0df-540d-4ef5-aea9-f5682d9c6998\">\n",
              "  <button class=\"colab-df-quickchart\" onclick=\"quickchart('df-fcf2a0df-540d-4ef5-aea9-f5682d9c6998')\"\n",
              "            title=\"Suggest charts\"\n",
              "            style=\"display:none;\">\n",
              "\n",
              "<svg xmlns=\"http://www.w3.org/2000/svg\" height=\"24px\"viewBox=\"0 0 24 24\"\n",
              "     width=\"24px\">\n",
              "    <g>\n",
              "        <path d=\"M19 3H5c-1.1 0-2 .9-2 2v14c0 1.1.9 2 2 2h14c1.1 0 2-.9 2-2V5c0-1.1-.9-2-2-2zM9 17H7v-7h2v7zm4 0h-2V7h2v10zm4 0h-2v-4h2v4z\"/>\n",
              "    </g>\n",
              "</svg>\n",
              "  </button>\n",
              "\n",
              "<style>\n",
              "  .colab-df-quickchart {\n",
              "      --bg-color: #E8F0FE;\n",
              "      --fill-color: #1967D2;\n",
              "      --hover-bg-color: #E2EBFA;\n",
              "      --hover-fill-color: #174EA6;\n",
              "      --disabled-fill-color: #AAA;\n",
              "      --disabled-bg-color: #DDD;\n",
              "  }\n",
              "\n",
              "  [theme=dark] .colab-df-quickchart {\n",
              "      --bg-color: #3B4455;\n",
              "      --fill-color: #D2E3FC;\n",
              "      --hover-bg-color: #434B5C;\n",
              "      --hover-fill-color: #FFFFFF;\n",
              "      --disabled-bg-color: #3B4455;\n",
              "      --disabled-fill-color: #666;\n",
              "  }\n",
              "\n",
              "  .colab-df-quickchart {\n",
              "    background-color: var(--bg-color);\n",
              "    border: none;\n",
              "    border-radius: 50%;\n",
              "    cursor: pointer;\n",
              "    display: none;\n",
              "    fill: var(--fill-color);\n",
              "    height: 32px;\n",
              "    padding: 0;\n",
              "    width: 32px;\n",
              "  }\n",
              "\n",
              "  .colab-df-quickchart:hover {\n",
              "    background-color: var(--hover-bg-color);\n",
              "    box-shadow: 0 1px 2px rgba(60, 64, 67, 0.3), 0 1px 3px 1px rgba(60, 64, 67, 0.15);\n",
              "    fill: var(--button-hover-fill-color);\n",
              "  }\n",
              "\n",
              "  .colab-df-quickchart-complete:disabled,\n",
              "  .colab-df-quickchart-complete:disabled:hover {\n",
              "    background-color: var(--disabled-bg-color);\n",
              "    fill: var(--disabled-fill-color);\n",
              "    box-shadow: none;\n",
              "  }\n",
              "\n",
              "  .colab-df-spinner {\n",
              "    border: 2px solid var(--fill-color);\n",
              "    border-color: transparent;\n",
              "    border-bottom-color: var(--fill-color);\n",
              "    animation:\n",
              "      spin 1s steps(1) infinite;\n",
              "  }\n",
              "\n",
              "  @keyframes spin {\n",
              "    0% {\n",
              "      border-color: transparent;\n",
              "      border-bottom-color: var(--fill-color);\n",
              "      border-left-color: var(--fill-color);\n",
              "    }\n",
              "    20% {\n",
              "      border-color: transparent;\n",
              "      border-left-color: var(--fill-color);\n",
              "      border-top-color: var(--fill-color);\n",
              "    }\n",
              "    30% {\n",
              "      border-color: transparent;\n",
              "      border-left-color: var(--fill-color);\n",
              "      border-top-color: var(--fill-color);\n",
              "      border-right-color: var(--fill-color);\n",
              "    }\n",
              "    40% {\n",
              "      border-color: transparent;\n",
              "      border-right-color: var(--fill-color);\n",
              "      border-top-color: var(--fill-color);\n",
              "    }\n",
              "    60% {\n",
              "      border-color: transparent;\n",
              "      border-right-color: var(--fill-color);\n",
              "    }\n",
              "    80% {\n",
              "      border-color: transparent;\n",
              "      border-right-color: var(--fill-color);\n",
              "      border-bottom-color: var(--fill-color);\n",
              "    }\n",
              "    90% {\n",
              "      border-color: transparent;\n",
              "      border-bottom-color: var(--fill-color);\n",
              "    }\n",
              "  }\n",
              "</style>\n",
              "\n",
              "  <script>\n",
              "    async function quickchart(key) {\n",
              "      const quickchartButtonEl =\n",
              "        document.querySelector('#' + key + ' button');\n",
              "      quickchartButtonEl.disabled = true;  // To prevent multiple clicks.\n",
              "      quickchartButtonEl.classList.add('colab-df-spinner');\n",
              "      try {\n",
              "        const charts = await google.colab.kernel.invokeFunction(\n",
              "            'suggestCharts', [key], {});\n",
              "      } catch (error) {\n",
              "        console.error('Error during call to suggestCharts:', error);\n",
              "      }\n",
              "      quickchartButtonEl.classList.remove('colab-df-spinner');\n",
              "      quickchartButtonEl.classList.add('colab-df-quickchart-complete');\n",
              "    }\n",
              "    (() => {\n",
              "      let quickchartButtonEl =\n",
              "        document.querySelector('#df-fcf2a0df-540d-4ef5-aea9-f5682d9c6998 button');\n",
              "      quickchartButtonEl.style.display =\n",
              "        google.colab.kernel.accessAllowed ? 'block' : 'none';\n",
              "    })();\n",
              "  </script>\n",
              "</div>\n",
              "    </div>\n",
              "  </div>\n"
            ]
          },
          "metadata": {},
          "execution_count": 38
        }
      ]
    },
    {
      "cell_type": "markdown",
      "source": [
        "# Informações gerais sobre o Dataframe"
      ],
      "metadata": {
        "id": "RK9qBiY4LqTD"
      }
    },
    {
      "cell_type": "code",
      "source": [
        "df.info()"
      ],
      "metadata": {
        "colab": {
          "base_uri": "https://localhost:8080/"
        },
        "id": "wCJ1hABpm5Ws",
        "outputId": "d3d29ee1-b079-499f-fd89-c8b57a62088b"
      },
      "execution_count": null,
      "outputs": [
        {
          "output_type": "stream",
          "name": "stdout",
          "text": [
            "<class 'pandas.core.frame.DataFrame'>\n",
            "RangeIndex: 86512 entries, 0 to 86511\n",
            "Data columns (total 15 columns):\n",
            " #   Column                               Non-Null Count  Dtype  \n",
            "---  ------                               --------------  -----  \n",
            " 0   country                              86512 non-null  object \n",
            " 1   iso_code                             86512 non-null  object \n",
            " 2   date                                 86512 non-null  object \n",
            " 3   total_vaccinations                   43607 non-null  float64\n",
            " 4   people_vaccinated                    41294 non-null  float64\n",
            " 5   people_fully_vaccinated              38802 non-null  float64\n",
            " 6   daily_vaccinations_raw               35362 non-null  float64\n",
            " 7   daily_vaccinations                   86213 non-null  float64\n",
            " 8   total_vaccinations_per_hundred       43607 non-null  float64\n",
            " 9   people_vaccinated_per_hundred        41294 non-null  float64\n",
            " 10  people_fully_vaccinated_per_hundred  38802 non-null  float64\n",
            " 11  daily_vaccinations_per_million       86213 non-null  float64\n",
            " 12  vaccines                             86512 non-null  object \n",
            " 13  source_name                          86512 non-null  object \n",
            " 14  source_website                       86512 non-null  object \n",
            "dtypes: float64(9), object(6)\n",
            "memory usage: 9.9+ MB\n"
          ]
        }
      ]
    },
    {
      "cell_type": "markdown",
      "source": [
        "# Tratando Valores NaN"
      ],
      "metadata": {
        "id": "6n7BxoJ3CWuG"
      }
    },
    {
      "cell_type": "code",
      "source": [
        "df = df.fillna(0)"
      ],
      "metadata": {
        "id": "IWqQs_K5ChZs"
      },
      "execution_count": null,
      "outputs": []
    },
    {
      "cell_type": "markdown",
      "source": [
        "# Informações estatísticas sobre o Dataframe"
      ],
      "metadata": {
        "id": "uZvYzsYdaGua"
      }
    },
    {
      "cell_type": "code",
      "source": [
        "display(df.describe())"
      ],
      "metadata": {
        "colab": {
          "base_uri": "https://localhost:8080/",
          "height": 320
        },
        "id": "9fNrVApQaO7M",
        "outputId": "674678ed-1b26-48d4-b4c3-9a65952753c0"
      },
      "execution_count": null,
      "outputs": [
        {
          "output_type": "display_data",
          "data": {
            "text/plain": [
              "       total_vaccinations  people_vaccinated  people_fully_vaccinated  \\\n",
              "count        8.651200e+04       8.651200e+04             8.651200e+04   \n",
              "mean         2.315117e+07       8.451007e+06             6.341251e+06   \n",
              "std          1.611037e+08       4.969867e+07             3.890729e+07   \n",
              "min          0.000000e+00       0.000000e+00             0.000000e+00   \n",
              "25%          0.000000e+00       0.000000e+00             0.000000e+00   \n",
              "50%          1.008000e+03       0.000000e+00             0.000000e+00   \n",
              "75%          3.697554e+06       1.843103e+06             1.137869e+06   \n",
              "max          3.263129e+09       1.275541e+09             1.240777e+09   \n",
              "\n",
              "       daily_vaccinations_raw  daily_vaccinations  \\\n",
              "count            8.651200e+04        8.651200e+04   \n",
              "mean             1.106083e+05        1.308517e+05   \n",
              "std              7.864756e+05        7.669487e+05   \n",
              "min              0.000000e+00        0.000000e+00   \n",
              "25%              0.000000e+00        8.770000e+02   \n",
              "50%              0.000000e+00        7.245000e+03   \n",
              "75%              1.280625e+04        4.370450e+04   \n",
              "max              2.474100e+07        2.242429e+07   \n",
              "\n",
              "       total_vaccinations_per_hundred  people_vaccinated_per_hundred  \\\n",
              "count                    86512.000000                   86512.000000   \n",
              "mean                        40.419616                      19.535471   \n",
              "std                         62.707869                      28.764846   \n",
              "min                          0.000000                       0.000000   \n",
              "25%                          0.000000                       0.000000   \n",
              "50%                          0.010000                       0.000000   \n",
              "75%                         68.750000                      38.270000   \n",
              "max                        345.370000                     124.760000   \n",
              "\n",
              "       people_fully_vaccinated_per_hundred  daily_vaccinations_per_million  \n",
              "count                         86512.000000                    86512.000000  \n",
              "mean                             15.932736                     3245.792248  \n",
              "std                              25.947621                     3932.156455  \n",
              "min                               0.000000                        0.000000  \n",
              "25%                               0.000000                      629.000000  \n",
              "50%                               0.000000                     2036.000000  \n",
              "75%                              25.220000                     4667.000000  \n",
              "max                             122.370000                   117497.000000  "
            ],
            "text/html": [
              "\n",
              "  <div id=\"df-93f5fa28-ef6b-4faa-a75d-d24480869de9\" class=\"colab-df-container\">\n",
              "    <div>\n",
              "<style scoped>\n",
              "    .dataframe tbody tr th:only-of-type {\n",
              "        vertical-align: middle;\n",
              "    }\n",
              "\n",
              "    .dataframe tbody tr th {\n",
              "        vertical-align: top;\n",
              "    }\n",
              "\n",
              "    .dataframe thead th {\n",
              "        text-align: right;\n",
              "    }\n",
              "</style>\n",
              "<table border=\"1\" class=\"dataframe\">\n",
              "  <thead>\n",
              "    <tr style=\"text-align: right;\">\n",
              "      <th></th>\n",
              "      <th>total_vaccinations</th>\n",
              "      <th>people_vaccinated</th>\n",
              "      <th>people_fully_vaccinated</th>\n",
              "      <th>daily_vaccinations_raw</th>\n",
              "      <th>daily_vaccinations</th>\n",
              "      <th>total_vaccinations_per_hundred</th>\n",
              "      <th>people_vaccinated_per_hundred</th>\n",
              "      <th>people_fully_vaccinated_per_hundred</th>\n",
              "      <th>daily_vaccinations_per_million</th>\n",
              "    </tr>\n",
              "  </thead>\n",
              "  <tbody>\n",
              "    <tr>\n",
              "      <th>count</th>\n",
              "      <td>8.651200e+04</td>\n",
              "      <td>8.651200e+04</td>\n",
              "      <td>8.651200e+04</td>\n",
              "      <td>8.651200e+04</td>\n",
              "      <td>8.651200e+04</td>\n",
              "      <td>86512.000000</td>\n",
              "      <td>86512.000000</td>\n",
              "      <td>86512.000000</td>\n",
              "      <td>86512.000000</td>\n",
              "    </tr>\n",
              "    <tr>\n",
              "      <th>mean</th>\n",
              "      <td>2.315117e+07</td>\n",
              "      <td>8.451007e+06</td>\n",
              "      <td>6.341251e+06</td>\n",
              "      <td>1.106083e+05</td>\n",
              "      <td>1.308517e+05</td>\n",
              "      <td>40.419616</td>\n",
              "      <td>19.535471</td>\n",
              "      <td>15.932736</td>\n",
              "      <td>3245.792248</td>\n",
              "    </tr>\n",
              "    <tr>\n",
              "      <th>std</th>\n",
              "      <td>1.611037e+08</td>\n",
              "      <td>4.969867e+07</td>\n",
              "      <td>3.890729e+07</td>\n",
              "      <td>7.864756e+05</td>\n",
              "      <td>7.669487e+05</td>\n",
              "      <td>62.707869</td>\n",
              "      <td>28.764846</td>\n",
              "      <td>25.947621</td>\n",
              "      <td>3932.156455</td>\n",
              "    </tr>\n",
              "    <tr>\n",
              "      <th>min</th>\n",
              "      <td>0.000000e+00</td>\n",
              "      <td>0.000000e+00</td>\n",
              "      <td>0.000000e+00</td>\n",
              "      <td>0.000000e+00</td>\n",
              "      <td>0.000000e+00</td>\n",
              "      <td>0.000000</td>\n",
              "      <td>0.000000</td>\n",
              "      <td>0.000000</td>\n",
              "      <td>0.000000</td>\n",
              "    </tr>\n",
              "    <tr>\n",
              "      <th>25%</th>\n",
              "      <td>0.000000e+00</td>\n",
              "      <td>0.000000e+00</td>\n",
              "      <td>0.000000e+00</td>\n",
              "      <td>0.000000e+00</td>\n",
              "      <td>8.770000e+02</td>\n",
              "      <td>0.000000</td>\n",
              "      <td>0.000000</td>\n",
              "      <td>0.000000</td>\n",
              "      <td>629.000000</td>\n",
              "    </tr>\n",
              "    <tr>\n",
              "      <th>50%</th>\n",
              "      <td>1.008000e+03</td>\n",
              "      <td>0.000000e+00</td>\n",
              "      <td>0.000000e+00</td>\n",
              "      <td>0.000000e+00</td>\n",
              "      <td>7.245000e+03</td>\n",
              "      <td>0.010000</td>\n",
              "      <td>0.000000</td>\n",
              "      <td>0.000000</td>\n",
              "      <td>2036.000000</td>\n",
              "    </tr>\n",
              "    <tr>\n",
              "      <th>75%</th>\n",
              "      <td>3.697554e+06</td>\n",
              "      <td>1.843103e+06</td>\n",
              "      <td>1.137869e+06</td>\n",
              "      <td>1.280625e+04</td>\n",
              "      <td>4.370450e+04</td>\n",
              "      <td>68.750000</td>\n",
              "      <td>38.270000</td>\n",
              "      <td>25.220000</td>\n",
              "      <td>4667.000000</td>\n",
              "    </tr>\n",
              "    <tr>\n",
              "      <th>max</th>\n",
              "      <td>3.263129e+09</td>\n",
              "      <td>1.275541e+09</td>\n",
              "      <td>1.240777e+09</td>\n",
              "      <td>2.474100e+07</td>\n",
              "      <td>2.242429e+07</td>\n",
              "      <td>345.370000</td>\n",
              "      <td>124.760000</td>\n",
              "      <td>122.370000</td>\n",
              "      <td>117497.000000</td>\n",
              "    </tr>\n",
              "  </tbody>\n",
              "</table>\n",
              "</div>\n",
              "    <div class=\"colab-df-buttons\">\n",
              "\n",
              "  <div class=\"colab-df-container\">\n",
              "    <button class=\"colab-df-convert\" onclick=\"convertToInteractive('df-93f5fa28-ef6b-4faa-a75d-d24480869de9')\"\n",
              "            title=\"Convert this dataframe to an interactive table.\"\n",
              "            style=\"display:none;\">\n",
              "\n",
              "  <svg xmlns=\"http://www.w3.org/2000/svg\" height=\"24px\" viewBox=\"0 -960 960 960\">\n",
              "    <path d=\"M120-120v-720h720v720H120Zm60-500h600v-160H180v160Zm220 220h160v-160H400v160Zm0 220h160v-160H400v160ZM180-400h160v-160H180v160Zm440 0h160v-160H620v160ZM180-180h160v-160H180v160Zm440 0h160v-160H620v160Z\"/>\n",
              "  </svg>\n",
              "    </button>\n",
              "\n",
              "  <style>\n",
              "    .colab-df-container {\n",
              "      display:flex;\n",
              "      gap: 12px;\n",
              "    }\n",
              "\n",
              "    .colab-df-convert {\n",
              "      background-color: #E8F0FE;\n",
              "      border: none;\n",
              "      border-radius: 50%;\n",
              "      cursor: pointer;\n",
              "      display: none;\n",
              "      fill: #1967D2;\n",
              "      height: 32px;\n",
              "      padding: 0 0 0 0;\n",
              "      width: 32px;\n",
              "    }\n",
              "\n",
              "    .colab-df-convert:hover {\n",
              "      background-color: #E2EBFA;\n",
              "      box-shadow: 0px 1px 2px rgba(60, 64, 67, 0.3), 0px 1px 3px 1px rgba(60, 64, 67, 0.15);\n",
              "      fill: #174EA6;\n",
              "    }\n",
              "\n",
              "    .colab-df-buttons div {\n",
              "      margin-bottom: 4px;\n",
              "    }\n",
              "\n",
              "    [theme=dark] .colab-df-convert {\n",
              "      background-color: #3B4455;\n",
              "      fill: #D2E3FC;\n",
              "    }\n",
              "\n",
              "    [theme=dark] .colab-df-convert:hover {\n",
              "      background-color: #434B5C;\n",
              "      box-shadow: 0px 1px 3px 1px rgba(0, 0, 0, 0.15);\n",
              "      filter: drop-shadow(0px 1px 2px rgba(0, 0, 0, 0.3));\n",
              "      fill: #FFFFFF;\n",
              "    }\n",
              "  </style>\n",
              "\n",
              "    <script>\n",
              "      const buttonEl =\n",
              "        document.querySelector('#df-93f5fa28-ef6b-4faa-a75d-d24480869de9 button.colab-df-convert');\n",
              "      buttonEl.style.display =\n",
              "        google.colab.kernel.accessAllowed ? 'block' : 'none';\n",
              "\n",
              "      async function convertToInteractive(key) {\n",
              "        const element = document.querySelector('#df-93f5fa28-ef6b-4faa-a75d-d24480869de9');\n",
              "        const dataTable =\n",
              "          await google.colab.kernel.invokeFunction('convertToInteractive',\n",
              "                                                    [key], {});\n",
              "        if (!dataTable) return;\n",
              "\n",
              "        const docLinkHtml = 'Like what you see? Visit the ' +\n",
              "          '<a target=\"_blank\" href=https://colab.research.google.com/notebooks/data_table.ipynb>data table notebook</a>'\n",
              "          + ' to learn more about interactive tables.';\n",
              "        element.innerHTML = '';\n",
              "        dataTable['output_type'] = 'display_data';\n",
              "        await google.colab.output.renderOutput(dataTable, element);\n",
              "        const docLink = document.createElement('div');\n",
              "        docLink.innerHTML = docLinkHtml;\n",
              "        element.appendChild(docLink);\n",
              "      }\n",
              "    </script>\n",
              "  </div>\n",
              "\n",
              "\n",
              "<div id=\"df-989abe30-d753-47ac-8a92-411574bf6b73\">\n",
              "  <button class=\"colab-df-quickchart\" onclick=\"quickchart('df-989abe30-d753-47ac-8a92-411574bf6b73')\"\n",
              "            title=\"Suggest charts\"\n",
              "            style=\"display:none;\">\n",
              "\n",
              "<svg xmlns=\"http://www.w3.org/2000/svg\" height=\"24px\"viewBox=\"0 0 24 24\"\n",
              "     width=\"24px\">\n",
              "    <g>\n",
              "        <path d=\"M19 3H5c-1.1 0-2 .9-2 2v14c0 1.1.9 2 2 2h14c1.1 0 2-.9 2-2V5c0-1.1-.9-2-2-2zM9 17H7v-7h2v7zm4 0h-2V7h2v10zm4 0h-2v-4h2v4z\"/>\n",
              "    </g>\n",
              "</svg>\n",
              "  </button>\n",
              "\n",
              "<style>\n",
              "  .colab-df-quickchart {\n",
              "      --bg-color: #E8F0FE;\n",
              "      --fill-color: #1967D2;\n",
              "      --hover-bg-color: #E2EBFA;\n",
              "      --hover-fill-color: #174EA6;\n",
              "      --disabled-fill-color: #AAA;\n",
              "      --disabled-bg-color: #DDD;\n",
              "  }\n",
              "\n",
              "  [theme=dark] .colab-df-quickchart {\n",
              "      --bg-color: #3B4455;\n",
              "      --fill-color: #D2E3FC;\n",
              "      --hover-bg-color: #434B5C;\n",
              "      --hover-fill-color: #FFFFFF;\n",
              "      --disabled-bg-color: #3B4455;\n",
              "      --disabled-fill-color: #666;\n",
              "  }\n",
              "\n",
              "  .colab-df-quickchart {\n",
              "    background-color: var(--bg-color);\n",
              "    border: none;\n",
              "    border-radius: 50%;\n",
              "    cursor: pointer;\n",
              "    display: none;\n",
              "    fill: var(--fill-color);\n",
              "    height: 32px;\n",
              "    padding: 0;\n",
              "    width: 32px;\n",
              "  }\n",
              "\n",
              "  .colab-df-quickchart:hover {\n",
              "    background-color: var(--hover-bg-color);\n",
              "    box-shadow: 0 1px 2px rgba(60, 64, 67, 0.3), 0 1px 3px 1px rgba(60, 64, 67, 0.15);\n",
              "    fill: var(--button-hover-fill-color);\n",
              "  }\n",
              "\n",
              "  .colab-df-quickchart-complete:disabled,\n",
              "  .colab-df-quickchart-complete:disabled:hover {\n",
              "    background-color: var(--disabled-bg-color);\n",
              "    fill: var(--disabled-fill-color);\n",
              "    box-shadow: none;\n",
              "  }\n",
              "\n",
              "  .colab-df-spinner {\n",
              "    border: 2px solid var(--fill-color);\n",
              "    border-color: transparent;\n",
              "    border-bottom-color: var(--fill-color);\n",
              "    animation:\n",
              "      spin 1s steps(1) infinite;\n",
              "  }\n",
              "\n",
              "  @keyframes spin {\n",
              "    0% {\n",
              "      border-color: transparent;\n",
              "      border-bottom-color: var(--fill-color);\n",
              "      border-left-color: var(--fill-color);\n",
              "    }\n",
              "    20% {\n",
              "      border-color: transparent;\n",
              "      border-left-color: var(--fill-color);\n",
              "      border-top-color: var(--fill-color);\n",
              "    }\n",
              "    30% {\n",
              "      border-color: transparent;\n",
              "      border-left-color: var(--fill-color);\n",
              "      border-top-color: var(--fill-color);\n",
              "      border-right-color: var(--fill-color);\n",
              "    }\n",
              "    40% {\n",
              "      border-color: transparent;\n",
              "      border-right-color: var(--fill-color);\n",
              "      border-top-color: var(--fill-color);\n",
              "    }\n",
              "    60% {\n",
              "      border-color: transparent;\n",
              "      border-right-color: var(--fill-color);\n",
              "    }\n",
              "    80% {\n",
              "      border-color: transparent;\n",
              "      border-right-color: var(--fill-color);\n",
              "      border-bottom-color: var(--fill-color);\n",
              "    }\n",
              "    90% {\n",
              "      border-color: transparent;\n",
              "      border-bottom-color: var(--fill-color);\n",
              "    }\n",
              "  }\n",
              "</style>\n",
              "\n",
              "  <script>\n",
              "    async function quickchart(key) {\n",
              "      const quickchartButtonEl =\n",
              "        document.querySelector('#' + key + ' button');\n",
              "      quickchartButtonEl.disabled = true;  // To prevent multiple clicks.\n",
              "      quickchartButtonEl.classList.add('colab-df-spinner');\n",
              "      try {\n",
              "        const charts = await google.colab.kernel.invokeFunction(\n",
              "            'suggestCharts', [key], {});\n",
              "      } catch (error) {\n",
              "        console.error('Error during call to suggestCharts:', error);\n",
              "      }\n",
              "      quickchartButtonEl.classList.remove('colab-df-spinner');\n",
              "      quickchartButtonEl.classList.add('colab-df-quickchart-complete');\n",
              "    }\n",
              "    (() => {\n",
              "      let quickchartButtonEl =\n",
              "        document.querySelector('#df-989abe30-d753-47ac-8a92-411574bf6b73 button');\n",
              "      quickchartButtonEl.style.display =\n",
              "        google.colab.kernel.accessAllowed ? 'block' : 'none';\n",
              "    })();\n",
              "  </script>\n",
              "</div>\n",
              "    </div>\n",
              "  </div>\n"
            ]
          },
          "metadata": {}
        }
      ]
    },
    {
      "cell_type": "markdown",
      "source": [
        "# Lista de Países"
      ],
      "metadata": {
        "id": "lvr7Zx7lgXKg"
      }
    },
    {
      "cell_type": "code",
      "source": [
        "\n",
        "#.l Vaccinations_Per_Country = df.loc[df['country'] == 'China']\n",
        "# Vaccinations_Per_Country\n",
        "countriesList = df['country'].drop_duplicates()\n",
        "print(\"Countries Number:\",len(countriesList))\n",
        "display(countriesList)"
      ],
      "metadata": {
        "colab": {
          "base_uri": "https://localhost:8080/",
          "height": 243
        },
        "id": "-pxfYaRqhYHr",
        "outputId": "7207c501-cfa8-4ee5-8769-77b2ef00f1b3"
      },
      "execution_count": null,
      "outputs": [
        {
          "output_type": "stream",
          "name": "stdout",
          "text": [
            "Countries Number: 223\n"
          ]
        },
        {
          "output_type": "display_data",
          "data": {
            "text/plain": [
              "0              Afghanistan\n",
              "394                Albania\n",
              "833                Algeria\n",
              "1238               Andorra\n",
              "1651                Angola\n",
              "               ...        \n",
              "84631                Wales\n",
              "85074    Wallis and Futuna\n",
              "85445                Yemen\n",
              "85757               Zambia\n",
              "86107             Zimbabwe\n",
              "Name: country, Length: 223, dtype: object"
            ]
          },
          "metadata": {}
        }
      ]
    },
    {
      "cell_type": "markdown",
      "source": [
        "# Vizualizando Datas"
      ],
      "metadata": {
        "id": "ryjm-0gGF4Fy"
      }
    },
    {
      "cell_type": "code",
      "source": [
        "print(df['date']) #datas ja estão em ordem crescente\n",
        "datesNaN = df.loc[df['date'].isna(),'date'].count()\n",
        "print('dates NaN: ',datesNaN)"
      ],
      "metadata": {
        "colab": {
          "base_uri": "https://localhost:8080/"
        },
        "id": "tRLAIUeuM3RO",
        "outputId": "1164a47c-fcb3-4828-ca03-8ccf56032ce8"
      },
      "execution_count": null,
      "outputs": [
        {
          "output_type": "stream",
          "name": "stdout",
          "text": [
            "0        2021-02-22\n",
            "1        2021-02-23\n",
            "2        2021-02-24\n",
            "3        2021-02-25\n",
            "4        2021-02-26\n",
            "            ...    \n",
            "86507    2022-03-25\n",
            "86508    2022-03-26\n",
            "86509    2022-03-27\n",
            "86510    2022-03-28\n",
            "86511    2022-03-29\n",
            "Name: date, Length: 86512, dtype: object\n",
            "dates NaN:  0\n"
          ]
        }
      ]
    },
    {
      "cell_type": "markdown",
      "source": [
        "# Quais países tiveram o maior indice de vacinações diárias? e quais tiveram os menores indices?"
      ],
      "metadata": {
        "id": "ns6Fx8-j2mmx"
      }
    },
    {
      "cell_type": "code",
      "source": [
        "print(\"==========================  MAIORES INDICES DE VACINAÇÃO DIÁRIA (EM MÉDIA) ==========================\")\n",
        "maiorVaccDiaria = df[['country','daily_vaccinations_raw']].groupby(by='country').mean().sort_values(by='daily_vaccinations_raw', ascending = False)\n",
        "display(maiorVaccDiaria)\n",
        "#\n",
        "print(\"==========================  MENORES INDICES DE VACINAÇÃO DIÁRIA (EM MÉDIA) ==========================\")\n",
        "menorVaccDiaria = df[['country','daily_vaccinations_raw']].groupby(by='country').mean().sort_values(by='daily_vaccinations_raw', ascending = True)\n",
        "display(menorVaccDiaria)"
      ],
      "metadata": {
        "colab": {
          "base_uri": "https://localhost:8080/",
          "height": 928
        },
        "id": "K1T-BRk12nK8",
        "outputId": "28a6a307-447d-4fa3-e97c-7e0d9ad1a952"
      },
      "execution_count": null,
      "outputs": [
        {
          "output_type": "stream",
          "name": "stdout",
          "text": [
            "==========================  MAIORES INDICES DE VACINAÇÃO DIÁRIA (EM MÉDIA) ==========================\n"
          ]
        },
        {
          "output_type": "display_data",
          "data": {
            "text/plain": [
              "               daily_vaccinations_raw\n",
              "country                              \n",
              "China                    6.771636e+06\n",
              "India                    4.020994e+06\n",
              "United States            1.189281e+06\n",
              "Brazil                   9.375762e+05\n",
              "Indonesia                7.092473e+05\n",
              "...                               ...\n",
              "Benin                    0.000000e+00\n",
              "Cook Islands             0.000000e+00\n",
              "Mali                     0.000000e+00\n",
              "Costa Rica               0.000000e+00\n",
              "Jersey                   0.000000e+00\n",
              "\n",
              "[223 rows x 1 columns]"
            ],
            "text/html": [
              "\n",
              "  <div id=\"df-8a8d1202-b8a9-414d-a73c-296d4ab6e234\" class=\"colab-df-container\">\n",
              "    <div>\n",
              "<style scoped>\n",
              "    .dataframe tbody tr th:only-of-type {\n",
              "        vertical-align: middle;\n",
              "    }\n",
              "\n",
              "    .dataframe tbody tr th {\n",
              "        vertical-align: top;\n",
              "    }\n",
              "\n",
              "    .dataframe thead th {\n",
              "        text-align: right;\n",
              "    }\n",
              "</style>\n",
              "<table border=\"1\" class=\"dataframe\">\n",
              "  <thead>\n",
              "    <tr style=\"text-align: right;\">\n",
              "      <th></th>\n",
              "      <th>daily_vaccinations_raw</th>\n",
              "    </tr>\n",
              "    <tr>\n",
              "      <th>country</th>\n",
              "      <th></th>\n",
              "    </tr>\n",
              "  </thead>\n",
              "  <tbody>\n",
              "    <tr>\n",
              "      <th>China</th>\n",
              "      <td>6.771636e+06</td>\n",
              "    </tr>\n",
              "    <tr>\n",
              "      <th>India</th>\n",
              "      <td>4.020994e+06</td>\n",
              "    </tr>\n",
              "    <tr>\n",
              "      <th>United States</th>\n",
              "      <td>1.189281e+06</td>\n",
              "    </tr>\n",
              "    <tr>\n",
              "      <th>Brazil</th>\n",
              "      <td>9.375762e+05</td>\n",
              "    </tr>\n",
              "    <tr>\n",
              "      <th>Indonesia</th>\n",
              "      <td>7.092473e+05</td>\n",
              "    </tr>\n",
              "    <tr>\n",
              "      <th>...</th>\n",
              "      <td>...</td>\n",
              "    </tr>\n",
              "    <tr>\n",
              "      <th>Benin</th>\n",
              "      <td>0.000000e+00</td>\n",
              "    </tr>\n",
              "    <tr>\n",
              "      <th>Cook Islands</th>\n",
              "      <td>0.000000e+00</td>\n",
              "    </tr>\n",
              "    <tr>\n",
              "      <th>Mali</th>\n",
              "      <td>0.000000e+00</td>\n",
              "    </tr>\n",
              "    <tr>\n",
              "      <th>Costa Rica</th>\n",
              "      <td>0.000000e+00</td>\n",
              "    </tr>\n",
              "    <tr>\n",
              "      <th>Jersey</th>\n",
              "      <td>0.000000e+00</td>\n",
              "    </tr>\n",
              "  </tbody>\n",
              "</table>\n",
              "<p>223 rows × 1 columns</p>\n",
              "</div>\n",
              "    <div class=\"colab-df-buttons\">\n",
              "\n",
              "  <div class=\"colab-df-container\">\n",
              "    <button class=\"colab-df-convert\" onclick=\"convertToInteractive('df-8a8d1202-b8a9-414d-a73c-296d4ab6e234')\"\n",
              "            title=\"Convert this dataframe to an interactive table.\"\n",
              "            style=\"display:none;\">\n",
              "\n",
              "  <svg xmlns=\"http://www.w3.org/2000/svg\" height=\"24px\" viewBox=\"0 -960 960 960\">\n",
              "    <path d=\"M120-120v-720h720v720H120Zm60-500h600v-160H180v160Zm220 220h160v-160H400v160Zm0 220h160v-160H400v160ZM180-400h160v-160H180v160Zm440 0h160v-160H620v160ZM180-180h160v-160H180v160Zm440 0h160v-160H620v160Z\"/>\n",
              "  </svg>\n",
              "    </button>\n",
              "\n",
              "  <style>\n",
              "    .colab-df-container {\n",
              "      display:flex;\n",
              "      gap: 12px;\n",
              "    }\n",
              "\n",
              "    .colab-df-convert {\n",
              "      background-color: #E8F0FE;\n",
              "      border: none;\n",
              "      border-radius: 50%;\n",
              "      cursor: pointer;\n",
              "      display: none;\n",
              "      fill: #1967D2;\n",
              "      height: 32px;\n",
              "      padding: 0 0 0 0;\n",
              "      width: 32px;\n",
              "    }\n",
              "\n",
              "    .colab-df-convert:hover {\n",
              "      background-color: #E2EBFA;\n",
              "      box-shadow: 0px 1px 2px rgba(60, 64, 67, 0.3), 0px 1px 3px 1px rgba(60, 64, 67, 0.15);\n",
              "      fill: #174EA6;\n",
              "    }\n",
              "\n",
              "    .colab-df-buttons div {\n",
              "      margin-bottom: 4px;\n",
              "    }\n",
              "\n",
              "    [theme=dark] .colab-df-convert {\n",
              "      background-color: #3B4455;\n",
              "      fill: #D2E3FC;\n",
              "    }\n",
              "\n",
              "    [theme=dark] .colab-df-convert:hover {\n",
              "      background-color: #434B5C;\n",
              "      box-shadow: 0px 1px 3px 1px rgba(0, 0, 0, 0.15);\n",
              "      filter: drop-shadow(0px 1px 2px rgba(0, 0, 0, 0.3));\n",
              "      fill: #FFFFFF;\n",
              "    }\n",
              "  </style>\n",
              "\n",
              "    <script>\n",
              "      const buttonEl =\n",
              "        document.querySelector('#df-8a8d1202-b8a9-414d-a73c-296d4ab6e234 button.colab-df-convert');\n",
              "      buttonEl.style.display =\n",
              "        google.colab.kernel.accessAllowed ? 'block' : 'none';\n",
              "\n",
              "      async function convertToInteractive(key) {\n",
              "        const element = document.querySelector('#df-8a8d1202-b8a9-414d-a73c-296d4ab6e234');\n",
              "        const dataTable =\n",
              "          await google.colab.kernel.invokeFunction('convertToInteractive',\n",
              "                                                    [key], {});\n",
              "        if (!dataTable) return;\n",
              "\n",
              "        const docLinkHtml = 'Like what you see? Visit the ' +\n",
              "          '<a target=\"_blank\" href=https://colab.research.google.com/notebooks/data_table.ipynb>data table notebook</a>'\n",
              "          + ' to learn more about interactive tables.';\n",
              "        element.innerHTML = '';\n",
              "        dataTable['output_type'] = 'display_data';\n",
              "        await google.colab.output.renderOutput(dataTable, element);\n",
              "        const docLink = document.createElement('div');\n",
              "        docLink.innerHTML = docLinkHtml;\n",
              "        element.appendChild(docLink);\n",
              "      }\n",
              "    </script>\n",
              "  </div>\n",
              "\n",
              "\n",
              "<div id=\"df-27395730-a35a-487b-a5bc-b7e9a548deef\">\n",
              "  <button class=\"colab-df-quickchart\" onclick=\"quickchart('df-27395730-a35a-487b-a5bc-b7e9a548deef')\"\n",
              "            title=\"Suggest charts\"\n",
              "            style=\"display:none;\">\n",
              "\n",
              "<svg xmlns=\"http://www.w3.org/2000/svg\" height=\"24px\"viewBox=\"0 0 24 24\"\n",
              "     width=\"24px\">\n",
              "    <g>\n",
              "        <path d=\"M19 3H5c-1.1 0-2 .9-2 2v14c0 1.1.9 2 2 2h14c1.1 0 2-.9 2-2V5c0-1.1-.9-2-2-2zM9 17H7v-7h2v7zm4 0h-2V7h2v10zm4 0h-2v-4h2v4z\"/>\n",
              "    </g>\n",
              "</svg>\n",
              "  </button>\n",
              "\n",
              "<style>\n",
              "  .colab-df-quickchart {\n",
              "      --bg-color: #E8F0FE;\n",
              "      --fill-color: #1967D2;\n",
              "      --hover-bg-color: #E2EBFA;\n",
              "      --hover-fill-color: #174EA6;\n",
              "      --disabled-fill-color: #AAA;\n",
              "      --disabled-bg-color: #DDD;\n",
              "  }\n",
              "\n",
              "  [theme=dark] .colab-df-quickchart {\n",
              "      --bg-color: #3B4455;\n",
              "      --fill-color: #D2E3FC;\n",
              "      --hover-bg-color: #434B5C;\n",
              "      --hover-fill-color: #FFFFFF;\n",
              "      --disabled-bg-color: #3B4455;\n",
              "      --disabled-fill-color: #666;\n",
              "  }\n",
              "\n",
              "  .colab-df-quickchart {\n",
              "    background-color: var(--bg-color);\n",
              "    border: none;\n",
              "    border-radius: 50%;\n",
              "    cursor: pointer;\n",
              "    display: none;\n",
              "    fill: var(--fill-color);\n",
              "    height: 32px;\n",
              "    padding: 0;\n",
              "    width: 32px;\n",
              "  }\n",
              "\n",
              "  .colab-df-quickchart:hover {\n",
              "    background-color: var(--hover-bg-color);\n",
              "    box-shadow: 0 1px 2px rgba(60, 64, 67, 0.3), 0 1px 3px 1px rgba(60, 64, 67, 0.15);\n",
              "    fill: var(--button-hover-fill-color);\n",
              "  }\n",
              "\n",
              "  .colab-df-quickchart-complete:disabled,\n",
              "  .colab-df-quickchart-complete:disabled:hover {\n",
              "    background-color: var(--disabled-bg-color);\n",
              "    fill: var(--disabled-fill-color);\n",
              "    box-shadow: none;\n",
              "  }\n",
              "\n",
              "  .colab-df-spinner {\n",
              "    border: 2px solid var(--fill-color);\n",
              "    border-color: transparent;\n",
              "    border-bottom-color: var(--fill-color);\n",
              "    animation:\n",
              "      spin 1s steps(1) infinite;\n",
              "  }\n",
              "\n",
              "  @keyframes spin {\n",
              "    0% {\n",
              "      border-color: transparent;\n",
              "      border-bottom-color: var(--fill-color);\n",
              "      border-left-color: var(--fill-color);\n",
              "    }\n",
              "    20% {\n",
              "      border-color: transparent;\n",
              "      border-left-color: var(--fill-color);\n",
              "      border-top-color: var(--fill-color);\n",
              "    }\n",
              "    30% {\n",
              "      border-color: transparent;\n",
              "      border-left-color: var(--fill-color);\n",
              "      border-top-color: var(--fill-color);\n",
              "      border-right-color: var(--fill-color);\n",
              "    }\n",
              "    40% {\n",
              "      border-color: transparent;\n",
              "      border-right-color: var(--fill-color);\n",
              "      border-top-color: var(--fill-color);\n",
              "    }\n",
              "    60% {\n",
              "      border-color: transparent;\n",
              "      border-right-color: var(--fill-color);\n",
              "    }\n",
              "    80% {\n",
              "      border-color: transparent;\n",
              "      border-right-color: var(--fill-color);\n",
              "      border-bottom-color: var(--fill-color);\n",
              "    }\n",
              "    90% {\n",
              "      border-color: transparent;\n",
              "      border-bottom-color: var(--fill-color);\n",
              "    }\n",
              "  }\n",
              "</style>\n",
              "\n",
              "  <script>\n",
              "    async function quickchart(key) {\n",
              "      const quickchartButtonEl =\n",
              "        document.querySelector('#' + key + ' button');\n",
              "      quickchartButtonEl.disabled = true;  // To prevent multiple clicks.\n",
              "      quickchartButtonEl.classList.add('colab-df-spinner');\n",
              "      try {\n",
              "        const charts = await google.colab.kernel.invokeFunction(\n",
              "            'suggestCharts', [key], {});\n",
              "      } catch (error) {\n",
              "        console.error('Error during call to suggestCharts:', error);\n",
              "      }\n",
              "      quickchartButtonEl.classList.remove('colab-df-spinner');\n",
              "      quickchartButtonEl.classList.add('colab-df-quickchart-complete');\n",
              "    }\n",
              "    (() => {\n",
              "      let quickchartButtonEl =\n",
              "        document.querySelector('#df-27395730-a35a-487b-a5bc-b7e9a548deef button');\n",
              "      quickchartButtonEl.style.display =\n",
              "        google.colab.kernel.accessAllowed ? 'block' : 'none';\n",
              "    })();\n",
              "  </script>\n",
              "</div>\n",
              "    </div>\n",
              "  </div>\n"
            ]
          },
          "metadata": {}
        },
        {
          "output_type": "stream",
          "name": "stdout",
          "text": [
            "==========================  MENORES INDICES DE VACINAÇÃO DIÁRIA (EM MÉDIA) ==========================\n"
          ]
        },
        {
          "output_type": "display_data",
          "data": {
            "text/plain": [
              "                          daily_vaccinations_raw\n",
              "country                                         \n",
              "Jersey                              0.000000e+00\n",
              "Turks and Caicos Islands            0.000000e+00\n",
              "Djibouti                            0.000000e+00\n",
              "Nicaragua                           0.000000e+00\n",
              "New Caledonia                       0.000000e+00\n",
              "...                                          ...\n",
              "Indonesia                           7.092473e+05\n",
              "Brazil                              9.375762e+05\n",
              "United States                       1.189281e+06\n",
              "India                               4.020994e+06\n",
              "China                               6.771636e+06\n",
              "\n",
              "[223 rows x 1 columns]"
            ],
            "text/html": [
              "\n",
              "  <div id=\"df-364b434c-2e20-408c-a7d3-ff2f8713880c\" class=\"colab-df-container\">\n",
              "    <div>\n",
              "<style scoped>\n",
              "    .dataframe tbody tr th:only-of-type {\n",
              "        vertical-align: middle;\n",
              "    }\n",
              "\n",
              "    .dataframe tbody tr th {\n",
              "        vertical-align: top;\n",
              "    }\n",
              "\n",
              "    .dataframe thead th {\n",
              "        text-align: right;\n",
              "    }\n",
              "</style>\n",
              "<table border=\"1\" class=\"dataframe\">\n",
              "  <thead>\n",
              "    <tr style=\"text-align: right;\">\n",
              "      <th></th>\n",
              "      <th>daily_vaccinations_raw</th>\n",
              "    </tr>\n",
              "    <tr>\n",
              "      <th>country</th>\n",
              "      <th></th>\n",
              "    </tr>\n",
              "  </thead>\n",
              "  <tbody>\n",
              "    <tr>\n",
              "      <th>Jersey</th>\n",
              "      <td>0.000000e+00</td>\n",
              "    </tr>\n",
              "    <tr>\n",
              "      <th>Turks and Caicos Islands</th>\n",
              "      <td>0.000000e+00</td>\n",
              "    </tr>\n",
              "    <tr>\n",
              "      <th>Djibouti</th>\n",
              "      <td>0.000000e+00</td>\n",
              "    </tr>\n",
              "    <tr>\n",
              "      <th>Nicaragua</th>\n",
              "      <td>0.000000e+00</td>\n",
              "    </tr>\n",
              "    <tr>\n",
              "      <th>New Caledonia</th>\n",
              "      <td>0.000000e+00</td>\n",
              "    </tr>\n",
              "    <tr>\n",
              "      <th>...</th>\n",
              "      <td>...</td>\n",
              "    </tr>\n",
              "    <tr>\n",
              "      <th>Indonesia</th>\n",
              "      <td>7.092473e+05</td>\n",
              "    </tr>\n",
              "    <tr>\n",
              "      <th>Brazil</th>\n",
              "      <td>9.375762e+05</td>\n",
              "    </tr>\n",
              "    <tr>\n",
              "      <th>United States</th>\n",
              "      <td>1.189281e+06</td>\n",
              "    </tr>\n",
              "    <tr>\n",
              "      <th>India</th>\n",
              "      <td>4.020994e+06</td>\n",
              "    </tr>\n",
              "    <tr>\n",
              "      <th>China</th>\n",
              "      <td>6.771636e+06</td>\n",
              "    </tr>\n",
              "  </tbody>\n",
              "</table>\n",
              "<p>223 rows × 1 columns</p>\n",
              "</div>\n",
              "    <div class=\"colab-df-buttons\">\n",
              "\n",
              "  <div class=\"colab-df-container\">\n",
              "    <button class=\"colab-df-convert\" onclick=\"convertToInteractive('df-364b434c-2e20-408c-a7d3-ff2f8713880c')\"\n",
              "            title=\"Convert this dataframe to an interactive table.\"\n",
              "            style=\"display:none;\">\n",
              "\n",
              "  <svg xmlns=\"http://www.w3.org/2000/svg\" height=\"24px\" viewBox=\"0 -960 960 960\">\n",
              "    <path d=\"M120-120v-720h720v720H120Zm60-500h600v-160H180v160Zm220 220h160v-160H400v160Zm0 220h160v-160H400v160ZM180-400h160v-160H180v160Zm440 0h160v-160H620v160ZM180-180h160v-160H180v160Zm440 0h160v-160H620v160Z\"/>\n",
              "  </svg>\n",
              "    </button>\n",
              "\n",
              "  <style>\n",
              "    .colab-df-container {\n",
              "      display:flex;\n",
              "      gap: 12px;\n",
              "    }\n",
              "\n",
              "    .colab-df-convert {\n",
              "      background-color: #E8F0FE;\n",
              "      border: none;\n",
              "      border-radius: 50%;\n",
              "      cursor: pointer;\n",
              "      display: none;\n",
              "      fill: #1967D2;\n",
              "      height: 32px;\n",
              "      padding: 0 0 0 0;\n",
              "      width: 32px;\n",
              "    }\n",
              "\n",
              "    .colab-df-convert:hover {\n",
              "      background-color: #E2EBFA;\n",
              "      box-shadow: 0px 1px 2px rgba(60, 64, 67, 0.3), 0px 1px 3px 1px rgba(60, 64, 67, 0.15);\n",
              "      fill: #174EA6;\n",
              "    }\n",
              "\n",
              "    .colab-df-buttons div {\n",
              "      margin-bottom: 4px;\n",
              "    }\n",
              "\n",
              "    [theme=dark] .colab-df-convert {\n",
              "      background-color: #3B4455;\n",
              "      fill: #D2E3FC;\n",
              "    }\n",
              "\n",
              "    [theme=dark] .colab-df-convert:hover {\n",
              "      background-color: #434B5C;\n",
              "      box-shadow: 0px 1px 3px 1px rgba(0, 0, 0, 0.15);\n",
              "      filter: drop-shadow(0px 1px 2px rgba(0, 0, 0, 0.3));\n",
              "      fill: #FFFFFF;\n",
              "    }\n",
              "  </style>\n",
              "\n",
              "    <script>\n",
              "      const buttonEl =\n",
              "        document.querySelector('#df-364b434c-2e20-408c-a7d3-ff2f8713880c button.colab-df-convert');\n",
              "      buttonEl.style.display =\n",
              "        google.colab.kernel.accessAllowed ? 'block' : 'none';\n",
              "\n",
              "      async function convertToInteractive(key) {\n",
              "        const element = document.querySelector('#df-364b434c-2e20-408c-a7d3-ff2f8713880c');\n",
              "        const dataTable =\n",
              "          await google.colab.kernel.invokeFunction('convertToInteractive',\n",
              "                                                    [key], {});\n",
              "        if (!dataTable) return;\n",
              "\n",
              "        const docLinkHtml = 'Like what you see? Visit the ' +\n",
              "          '<a target=\"_blank\" href=https://colab.research.google.com/notebooks/data_table.ipynb>data table notebook</a>'\n",
              "          + ' to learn more about interactive tables.';\n",
              "        element.innerHTML = '';\n",
              "        dataTable['output_type'] = 'display_data';\n",
              "        await google.colab.output.renderOutput(dataTable, element);\n",
              "        const docLink = document.createElement('div');\n",
              "        docLink.innerHTML = docLinkHtml;\n",
              "        element.appendChild(docLink);\n",
              "      }\n",
              "    </script>\n",
              "  </div>\n",
              "\n",
              "\n",
              "<div id=\"df-1c6fa7d4-e3da-46a3-a23c-1f43c1d286c7\">\n",
              "  <button class=\"colab-df-quickchart\" onclick=\"quickchart('df-1c6fa7d4-e3da-46a3-a23c-1f43c1d286c7')\"\n",
              "            title=\"Suggest charts\"\n",
              "            style=\"display:none;\">\n",
              "\n",
              "<svg xmlns=\"http://www.w3.org/2000/svg\" height=\"24px\"viewBox=\"0 0 24 24\"\n",
              "     width=\"24px\">\n",
              "    <g>\n",
              "        <path d=\"M19 3H5c-1.1 0-2 .9-2 2v14c0 1.1.9 2 2 2h14c1.1 0 2-.9 2-2V5c0-1.1-.9-2-2-2zM9 17H7v-7h2v7zm4 0h-2V7h2v10zm4 0h-2v-4h2v4z\"/>\n",
              "    </g>\n",
              "</svg>\n",
              "  </button>\n",
              "\n",
              "<style>\n",
              "  .colab-df-quickchart {\n",
              "      --bg-color: #E8F0FE;\n",
              "      --fill-color: #1967D2;\n",
              "      --hover-bg-color: #E2EBFA;\n",
              "      --hover-fill-color: #174EA6;\n",
              "      --disabled-fill-color: #AAA;\n",
              "      --disabled-bg-color: #DDD;\n",
              "  }\n",
              "\n",
              "  [theme=dark] .colab-df-quickchart {\n",
              "      --bg-color: #3B4455;\n",
              "      --fill-color: #D2E3FC;\n",
              "      --hover-bg-color: #434B5C;\n",
              "      --hover-fill-color: #FFFFFF;\n",
              "      --disabled-bg-color: #3B4455;\n",
              "      --disabled-fill-color: #666;\n",
              "  }\n",
              "\n",
              "  .colab-df-quickchart {\n",
              "    background-color: var(--bg-color);\n",
              "    border: none;\n",
              "    border-radius: 50%;\n",
              "    cursor: pointer;\n",
              "    display: none;\n",
              "    fill: var(--fill-color);\n",
              "    height: 32px;\n",
              "    padding: 0;\n",
              "    width: 32px;\n",
              "  }\n",
              "\n",
              "  .colab-df-quickchart:hover {\n",
              "    background-color: var(--hover-bg-color);\n",
              "    box-shadow: 0 1px 2px rgba(60, 64, 67, 0.3), 0 1px 3px 1px rgba(60, 64, 67, 0.15);\n",
              "    fill: var(--button-hover-fill-color);\n",
              "  }\n",
              "\n",
              "  .colab-df-quickchart-complete:disabled,\n",
              "  .colab-df-quickchart-complete:disabled:hover {\n",
              "    background-color: var(--disabled-bg-color);\n",
              "    fill: var(--disabled-fill-color);\n",
              "    box-shadow: none;\n",
              "  }\n",
              "\n",
              "  .colab-df-spinner {\n",
              "    border: 2px solid var(--fill-color);\n",
              "    border-color: transparent;\n",
              "    border-bottom-color: var(--fill-color);\n",
              "    animation:\n",
              "      spin 1s steps(1) infinite;\n",
              "  }\n",
              "\n",
              "  @keyframes spin {\n",
              "    0% {\n",
              "      border-color: transparent;\n",
              "      border-bottom-color: var(--fill-color);\n",
              "      border-left-color: var(--fill-color);\n",
              "    }\n",
              "    20% {\n",
              "      border-color: transparent;\n",
              "      border-left-color: var(--fill-color);\n",
              "      border-top-color: var(--fill-color);\n",
              "    }\n",
              "    30% {\n",
              "      border-color: transparent;\n",
              "      border-left-color: var(--fill-color);\n",
              "      border-top-color: var(--fill-color);\n",
              "      border-right-color: var(--fill-color);\n",
              "    }\n",
              "    40% {\n",
              "      border-color: transparent;\n",
              "      border-right-color: var(--fill-color);\n",
              "      border-top-color: var(--fill-color);\n",
              "    }\n",
              "    60% {\n",
              "      border-color: transparent;\n",
              "      border-right-color: var(--fill-color);\n",
              "    }\n",
              "    80% {\n",
              "      border-color: transparent;\n",
              "      border-right-color: var(--fill-color);\n",
              "      border-bottom-color: var(--fill-color);\n",
              "    }\n",
              "    90% {\n",
              "      border-color: transparent;\n",
              "      border-bottom-color: var(--fill-color);\n",
              "    }\n",
              "  }\n",
              "</style>\n",
              "\n",
              "  <script>\n",
              "    async function quickchart(key) {\n",
              "      const quickchartButtonEl =\n",
              "        document.querySelector('#' + key + ' button');\n",
              "      quickchartButtonEl.disabled = true;  // To prevent multiple clicks.\n",
              "      quickchartButtonEl.classList.add('colab-df-spinner');\n",
              "      try {\n",
              "        const charts = await google.colab.kernel.invokeFunction(\n",
              "            'suggestCharts', [key], {});\n",
              "      } catch (error) {\n",
              "        console.error('Error during call to suggestCharts:', error);\n",
              "      }\n",
              "      quickchartButtonEl.classList.remove('colab-df-spinner');\n",
              "      quickchartButtonEl.classList.add('colab-df-quickchart-complete');\n",
              "    }\n",
              "    (() => {\n",
              "      let quickchartButtonEl =\n",
              "        document.querySelector('#df-1c6fa7d4-e3da-46a3-a23c-1f43c1d286c7 button');\n",
              "      quickchartButtonEl.style.display =\n",
              "        google.colab.kernel.accessAllowed ? 'block' : 'none';\n",
              "    })();\n",
              "  </script>\n",
              "</div>\n",
              "    </div>\n",
              "  </div>\n"
            ]
          },
          "metadata": {}
        }
      ]
    },
    {
      "cell_type": "markdown",
      "source": [
        "# Quais e Quantos são os países com Vacinações Diárias nulas?"
      ],
      "metadata": {
        "id": "7F7sKvbSGRF1"
      }
    },
    {
      "cell_type": "code",
      "source": [
        "vaccNulas = menorVaccDiaria.loc[menorVaccDiaria['daily_vaccinations_raw'] == 0.0]\n",
        "display(vaccNulas)\n",
        "display('Quantidade: ',vaccNulas.count())"
      ],
      "metadata": {
        "colab": {
          "base_uri": "https://localhost:8080/",
          "height": 1000
        },
        "id": "QQLzOwUEE7Nb",
        "outputId": "a33e0617-41f4-4178-915d-3b23202227fa"
      },
      "execution_count": 42,
      "outputs": [
        {
          "output_type": "display_data",
          "data": {
            "text/plain": [
              "                                 daily_vaccinations_raw\n",
              "country                                                \n",
              "Jersey                                              0.0\n",
              "Turks and Caicos Islands                            0.0\n",
              "Djibouti                                            0.0\n",
              "Nicaragua                                           0.0\n",
              "New Caledonia                                       0.0\n",
              "Burkina Faso                                        0.0\n",
              "Turkmenistan                                        0.0\n",
              "Saint Helena                                        0.0\n",
              "Netherlands                                         0.0\n",
              "Chad                                                0.0\n",
              "Tonga                                               0.0\n",
              "Tokelau                                             0.0\n",
              "Togo                                                0.0\n",
              "Comoros                                             0.0\n",
              "Cook Islands                                        0.0\n",
              "Costa Rica                                          0.0\n",
              "Pitcairn                                            0.0\n",
              "Mali                                                0.0\n",
              "Falkland Islands                                    0.0\n",
              "Montserrat                                          0.0\n",
              "Tanzania                                            0.0\n",
              "Monaco                                              0.0\n",
              "Solomon Islands                                     0.0\n",
              "Bonaire Sint Eustatius and Saba                     0.0\n",
              "British Virgin Islands                              0.0\n",
              "Venezuela                                           0.0\n",
              "Samoa                                               0.0\n",
              "Sao Tome and Principe                               0.0\n",
              "Kiribati                                            0.0\n",
              "Angola                                              0.0\n",
              "Sint Maarten (Dutch part)                           0.0\n",
              "Yemen                                               0.0\n",
              "Armenia                                             0.0\n",
              "Lesotho                                             0.0\n",
              "Wallis and Futuna                                   0.0\n",
              "Austria                                             0.0\n",
              "Tuvalu                                              0.0\n",
              "Syria                                               0.0\n",
              "Niue                                                0.0\n",
              "Niger                                               0.0\n",
              "Papua New Guinea                                    0.0\n",
              "Vanuatu                                             0.0\n",
              "Bermuda                                             0.0\n",
              "Benin                                               0.0\n",
              "Belarus                                             0.0\n",
              "Slovakia                                            0.0"
            ],
            "text/html": [
              "\n",
              "  <div id=\"df-63b6abac-3527-43ce-b3fc-0e7c3595528f\" class=\"colab-df-container\">\n",
              "    <div>\n",
              "<style scoped>\n",
              "    .dataframe tbody tr th:only-of-type {\n",
              "        vertical-align: middle;\n",
              "    }\n",
              "\n",
              "    .dataframe tbody tr th {\n",
              "        vertical-align: top;\n",
              "    }\n",
              "\n",
              "    .dataframe thead th {\n",
              "        text-align: right;\n",
              "    }\n",
              "</style>\n",
              "<table border=\"1\" class=\"dataframe\">\n",
              "  <thead>\n",
              "    <tr style=\"text-align: right;\">\n",
              "      <th></th>\n",
              "      <th>daily_vaccinations_raw</th>\n",
              "    </tr>\n",
              "    <tr>\n",
              "      <th>country</th>\n",
              "      <th></th>\n",
              "    </tr>\n",
              "  </thead>\n",
              "  <tbody>\n",
              "    <tr>\n",
              "      <th>Jersey</th>\n",
              "      <td>0.0</td>\n",
              "    </tr>\n",
              "    <tr>\n",
              "      <th>Turks and Caicos Islands</th>\n",
              "      <td>0.0</td>\n",
              "    </tr>\n",
              "    <tr>\n",
              "      <th>Djibouti</th>\n",
              "      <td>0.0</td>\n",
              "    </tr>\n",
              "    <tr>\n",
              "      <th>Nicaragua</th>\n",
              "      <td>0.0</td>\n",
              "    </tr>\n",
              "    <tr>\n",
              "      <th>New Caledonia</th>\n",
              "      <td>0.0</td>\n",
              "    </tr>\n",
              "    <tr>\n",
              "      <th>Burkina Faso</th>\n",
              "      <td>0.0</td>\n",
              "    </tr>\n",
              "    <tr>\n",
              "      <th>Turkmenistan</th>\n",
              "      <td>0.0</td>\n",
              "    </tr>\n",
              "    <tr>\n",
              "      <th>Saint Helena</th>\n",
              "      <td>0.0</td>\n",
              "    </tr>\n",
              "    <tr>\n",
              "      <th>Netherlands</th>\n",
              "      <td>0.0</td>\n",
              "    </tr>\n",
              "    <tr>\n",
              "      <th>Chad</th>\n",
              "      <td>0.0</td>\n",
              "    </tr>\n",
              "    <tr>\n",
              "      <th>Tonga</th>\n",
              "      <td>0.0</td>\n",
              "    </tr>\n",
              "    <tr>\n",
              "      <th>Tokelau</th>\n",
              "      <td>0.0</td>\n",
              "    </tr>\n",
              "    <tr>\n",
              "      <th>Togo</th>\n",
              "      <td>0.0</td>\n",
              "    </tr>\n",
              "    <tr>\n",
              "      <th>Comoros</th>\n",
              "      <td>0.0</td>\n",
              "    </tr>\n",
              "    <tr>\n",
              "      <th>Cook Islands</th>\n",
              "      <td>0.0</td>\n",
              "    </tr>\n",
              "    <tr>\n",
              "      <th>Costa Rica</th>\n",
              "      <td>0.0</td>\n",
              "    </tr>\n",
              "    <tr>\n",
              "      <th>Pitcairn</th>\n",
              "      <td>0.0</td>\n",
              "    </tr>\n",
              "    <tr>\n",
              "      <th>Mali</th>\n",
              "      <td>0.0</td>\n",
              "    </tr>\n",
              "    <tr>\n",
              "      <th>Falkland Islands</th>\n",
              "      <td>0.0</td>\n",
              "    </tr>\n",
              "    <tr>\n",
              "      <th>Montserrat</th>\n",
              "      <td>0.0</td>\n",
              "    </tr>\n",
              "    <tr>\n",
              "      <th>Tanzania</th>\n",
              "      <td>0.0</td>\n",
              "    </tr>\n",
              "    <tr>\n",
              "      <th>Monaco</th>\n",
              "      <td>0.0</td>\n",
              "    </tr>\n",
              "    <tr>\n",
              "      <th>Solomon Islands</th>\n",
              "      <td>0.0</td>\n",
              "    </tr>\n",
              "    <tr>\n",
              "      <th>Bonaire Sint Eustatius and Saba</th>\n",
              "      <td>0.0</td>\n",
              "    </tr>\n",
              "    <tr>\n",
              "      <th>British Virgin Islands</th>\n",
              "      <td>0.0</td>\n",
              "    </tr>\n",
              "    <tr>\n",
              "      <th>Venezuela</th>\n",
              "      <td>0.0</td>\n",
              "    </tr>\n",
              "    <tr>\n",
              "      <th>Samoa</th>\n",
              "      <td>0.0</td>\n",
              "    </tr>\n",
              "    <tr>\n",
              "      <th>Sao Tome and Principe</th>\n",
              "      <td>0.0</td>\n",
              "    </tr>\n",
              "    <tr>\n",
              "      <th>Kiribati</th>\n",
              "      <td>0.0</td>\n",
              "    </tr>\n",
              "    <tr>\n",
              "      <th>Angola</th>\n",
              "      <td>0.0</td>\n",
              "    </tr>\n",
              "    <tr>\n",
              "      <th>Sint Maarten (Dutch part)</th>\n",
              "      <td>0.0</td>\n",
              "    </tr>\n",
              "    <tr>\n",
              "      <th>Yemen</th>\n",
              "      <td>0.0</td>\n",
              "    </tr>\n",
              "    <tr>\n",
              "      <th>Armenia</th>\n",
              "      <td>0.0</td>\n",
              "    </tr>\n",
              "    <tr>\n",
              "      <th>Lesotho</th>\n",
              "      <td>0.0</td>\n",
              "    </tr>\n",
              "    <tr>\n",
              "      <th>Wallis and Futuna</th>\n",
              "      <td>0.0</td>\n",
              "    </tr>\n",
              "    <tr>\n",
              "      <th>Austria</th>\n",
              "      <td>0.0</td>\n",
              "    </tr>\n",
              "    <tr>\n",
              "      <th>Tuvalu</th>\n",
              "      <td>0.0</td>\n",
              "    </tr>\n",
              "    <tr>\n",
              "      <th>Syria</th>\n",
              "      <td>0.0</td>\n",
              "    </tr>\n",
              "    <tr>\n",
              "      <th>Niue</th>\n",
              "      <td>0.0</td>\n",
              "    </tr>\n",
              "    <tr>\n",
              "      <th>Niger</th>\n",
              "      <td>0.0</td>\n",
              "    </tr>\n",
              "    <tr>\n",
              "      <th>Papua New Guinea</th>\n",
              "      <td>0.0</td>\n",
              "    </tr>\n",
              "    <tr>\n",
              "      <th>Vanuatu</th>\n",
              "      <td>0.0</td>\n",
              "    </tr>\n",
              "    <tr>\n",
              "      <th>Bermuda</th>\n",
              "      <td>0.0</td>\n",
              "    </tr>\n",
              "    <tr>\n",
              "      <th>Benin</th>\n",
              "      <td>0.0</td>\n",
              "    </tr>\n",
              "    <tr>\n",
              "      <th>Belarus</th>\n",
              "      <td>0.0</td>\n",
              "    </tr>\n",
              "    <tr>\n",
              "      <th>Slovakia</th>\n",
              "      <td>0.0</td>\n",
              "    </tr>\n",
              "  </tbody>\n",
              "</table>\n",
              "</div>\n",
              "    <div class=\"colab-df-buttons\">\n",
              "\n",
              "  <div class=\"colab-df-container\">\n",
              "    <button class=\"colab-df-convert\" onclick=\"convertToInteractive('df-63b6abac-3527-43ce-b3fc-0e7c3595528f')\"\n",
              "            title=\"Convert this dataframe to an interactive table.\"\n",
              "            style=\"display:none;\">\n",
              "\n",
              "  <svg xmlns=\"http://www.w3.org/2000/svg\" height=\"24px\" viewBox=\"0 -960 960 960\">\n",
              "    <path d=\"M120-120v-720h720v720H120Zm60-500h600v-160H180v160Zm220 220h160v-160H400v160Zm0 220h160v-160H400v160ZM180-400h160v-160H180v160Zm440 0h160v-160H620v160ZM180-180h160v-160H180v160Zm440 0h160v-160H620v160Z\"/>\n",
              "  </svg>\n",
              "    </button>\n",
              "\n",
              "  <style>\n",
              "    .colab-df-container {\n",
              "      display:flex;\n",
              "      gap: 12px;\n",
              "    }\n",
              "\n",
              "    .colab-df-convert {\n",
              "      background-color: #E8F0FE;\n",
              "      border: none;\n",
              "      border-radius: 50%;\n",
              "      cursor: pointer;\n",
              "      display: none;\n",
              "      fill: #1967D2;\n",
              "      height: 32px;\n",
              "      padding: 0 0 0 0;\n",
              "      width: 32px;\n",
              "    }\n",
              "\n",
              "    .colab-df-convert:hover {\n",
              "      background-color: #E2EBFA;\n",
              "      box-shadow: 0px 1px 2px rgba(60, 64, 67, 0.3), 0px 1px 3px 1px rgba(60, 64, 67, 0.15);\n",
              "      fill: #174EA6;\n",
              "    }\n",
              "\n",
              "    .colab-df-buttons div {\n",
              "      margin-bottom: 4px;\n",
              "    }\n",
              "\n",
              "    [theme=dark] .colab-df-convert {\n",
              "      background-color: #3B4455;\n",
              "      fill: #D2E3FC;\n",
              "    }\n",
              "\n",
              "    [theme=dark] .colab-df-convert:hover {\n",
              "      background-color: #434B5C;\n",
              "      box-shadow: 0px 1px 3px 1px rgba(0, 0, 0, 0.15);\n",
              "      filter: drop-shadow(0px 1px 2px rgba(0, 0, 0, 0.3));\n",
              "      fill: #FFFFFF;\n",
              "    }\n",
              "  </style>\n",
              "\n",
              "    <script>\n",
              "      const buttonEl =\n",
              "        document.querySelector('#df-63b6abac-3527-43ce-b3fc-0e7c3595528f button.colab-df-convert');\n",
              "      buttonEl.style.display =\n",
              "        google.colab.kernel.accessAllowed ? 'block' : 'none';\n",
              "\n",
              "      async function convertToInteractive(key) {\n",
              "        const element = document.querySelector('#df-63b6abac-3527-43ce-b3fc-0e7c3595528f');\n",
              "        const dataTable =\n",
              "          await google.colab.kernel.invokeFunction('convertToInteractive',\n",
              "                                                    [key], {});\n",
              "        if (!dataTable) return;\n",
              "\n",
              "        const docLinkHtml = 'Like what you see? Visit the ' +\n",
              "          '<a target=\"_blank\" href=https://colab.research.google.com/notebooks/data_table.ipynb>data table notebook</a>'\n",
              "          + ' to learn more about interactive tables.';\n",
              "        element.innerHTML = '';\n",
              "        dataTable['output_type'] = 'display_data';\n",
              "        await google.colab.output.renderOutput(dataTable, element);\n",
              "        const docLink = document.createElement('div');\n",
              "        docLink.innerHTML = docLinkHtml;\n",
              "        element.appendChild(docLink);\n",
              "      }\n",
              "    </script>\n",
              "  </div>\n",
              "\n",
              "\n",
              "<div id=\"df-13ada6e8-251a-448d-b1fc-9bce2f69f9a9\">\n",
              "  <button class=\"colab-df-quickchart\" onclick=\"quickchart('df-13ada6e8-251a-448d-b1fc-9bce2f69f9a9')\"\n",
              "            title=\"Suggest charts\"\n",
              "            style=\"display:none;\">\n",
              "\n",
              "<svg xmlns=\"http://www.w3.org/2000/svg\" height=\"24px\"viewBox=\"0 0 24 24\"\n",
              "     width=\"24px\">\n",
              "    <g>\n",
              "        <path d=\"M19 3H5c-1.1 0-2 .9-2 2v14c0 1.1.9 2 2 2h14c1.1 0 2-.9 2-2V5c0-1.1-.9-2-2-2zM9 17H7v-7h2v7zm4 0h-2V7h2v10zm4 0h-2v-4h2v4z\"/>\n",
              "    </g>\n",
              "</svg>\n",
              "  </button>\n",
              "\n",
              "<style>\n",
              "  .colab-df-quickchart {\n",
              "      --bg-color: #E8F0FE;\n",
              "      --fill-color: #1967D2;\n",
              "      --hover-bg-color: #E2EBFA;\n",
              "      --hover-fill-color: #174EA6;\n",
              "      --disabled-fill-color: #AAA;\n",
              "      --disabled-bg-color: #DDD;\n",
              "  }\n",
              "\n",
              "  [theme=dark] .colab-df-quickchart {\n",
              "      --bg-color: #3B4455;\n",
              "      --fill-color: #D2E3FC;\n",
              "      --hover-bg-color: #434B5C;\n",
              "      --hover-fill-color: #FFFFFF;\n",
              "      --disabled-bg-color: #3B4455;\n",
              "      --disabled-fill-color: #666;\n",
              "  }\n",
              "\n",
              "  .colab-df-quickchart {\n",
              "    background-color: var(--bg-color);\n",
              "    border: none;\n",
              "    border-radius: 50%;\n",
              "    cursor: pointer;\n",
              "    display: none;\n",
              "    fill: var(--fill-color);\n",
              "    height: 32px;\n",
              "    padding: 0;\n",
              "    width: 32px;\n",
              "  }\n",
              "\n",
              "  .colab-df-quickchart:hover {\n",
              "    background-color: var(--hover-bg-color);\n",
              "    box-shadow: 0 1px 2px rgba(60, 64, 67, 0.3), 0 1px 3px 1px rgba(60, 64, 67, 0.15);\n",
              "    fill: var(--button-hover-fill-color);\n",
              "  }\n",
              "\n",
              "  .colab-df-quickchart-complete:disabled,\n",
              "  .colab-df-quickchart-complete:disabled:hover {\n",
              "    background-color: var(--disabled-bg-color);\n",
              "    fill: var(--disabled-fill-color);\n",
              "    box-shadow: none;\n",
              "  }\n",
              "\n",
              "  .colab-df-spinner {\n",
              "    border: 2px solid var(--fill-color);\n",
              "    border-color: transparent;\n",
              "    border-bottom-color: var(--fill-color);\n",
              "    animation:\n",
              "      spin 1s steps(1) infinite;\n",
              "  }\n",
              "\n",
              "  @keyframes spin {\n",
              "    0% {\n",
              "      border-color: transparent;\n",
              "      border-bottom-color: var(--fill-color);\n",
              "      border-left-color: var(--fill-color);\n",
              "    }\n",
              "    20% {\n",
              "      border-color: transparent;\n",
              "      border-left-color: var(--fill-color);\n",
              "      border-top-color: var(--fill-color);\n",
              "    }\n",
              "    30% {\n",
              "      border-color: transparent;\n",
              "      border-left-color: var(--fill-color);\n",
              "      border-top-color: var(--fill-color);\n",
              "      border-right-color: var(--fill-color);\n",
              "    }\n",
              "    40% {\n",
              "      border-color: transparent;\n",
              "      border-right-color: var(--fill-color);\n",
              "      border-top-color: var(--fill-color);\n",
              "    }\n",
              "    60% {\n",
              "      border-color: transparent;\n",
              "      border-right-color: var(--fill-color);\n",
              "    }\n",
              "    80% {\n",
              "      border-color: transparent;\n",
              "      border-right-color: var(--fill-color);\n",
              "      border-bottom-color: var(--fill-color);\n",
              "    }\n",
              "    90% {\n",
              "      border-color: transparent;\n",
              "      border-bottom-color: var(--fill-color);\n",
              "    }\n",
              "  }\n",
              "</style>\n",
              "\n",
              "  <script>\n",
              "    async function quickchart(key) {\n",
              "      const quickchartButtonEl =\n",
              "        document.querySelector('#' + key + ' button');\n",
              "      quickchartButtonEl.disabled = true;  // To prevent multiple clicks.\n",
              "      quickchartButtonEl.classList.add('colab-df-spinner');\n",
              "      try {\n",
              "        const charts = await google.colab.kernel.invokeFunction(\n",
              "            'suggestCharts', [key], {});\n",
              "      } catch (error) {\n",
              "        console.error('Error during call to suggestCharts:', error);\n",
              "      }\n",
              "      quickchartButtonEl.classList.remove('colab-df-spinner');\n",
              "      quickchartButtonEl.classList.add('colab-df-quickchart-complete');\n",
              "    }\n",
              "    (() => {\n",
              "      let quickchartButtonEl =\n",
              "        document.querySelector('#df-13ada6e8-251a-448d-b1fc-9bce2f69f9a9 button');\n",
              "      quickchartButtonEl.style.display =\n",
              "        google.colab.kernel.accessAllowed ? 'block' : 'none';\n",
              "    })();\n",
              "  </script>\n",
              "</div>\n",
              "    </div>\n",
              "  </div>\n"
            ]
          },
          "metadata": {}
        },
        {
          "output_type": "display_data",
          "data": {
            "text/plain": [
              "'Quantidade: '"
            ],
            "application/vnd.google.colaboratory.intrinsic+json": {
              "type": "string"
            }
          },
          "metadata": {}
        },
        {
          "output_type": "display_data",
          "data": {
            "text/plain": [
              "daily_vaccinations_raw    46\n",
              "dtype: int64"
            ]
          },
          "metadata": {}
        }
      ]
    },
    {
      "cell_type": "markdown",
      "source": [
        "# Vizualizando em Gráficos"
      ],
      "metadata": {
        "id": "2UN8rMeoG5Ug"
      }
    },
    {
      "cell_type": "code",
      "source": [
        "sns.stripplot(x='country',y='daily_vaccinations_raw',data=maiorVaccDiaria[:10], hue='country', size=10 ).set_title(\"Maiores índices de Vacinação Diária Em Média\")"
      ],
      "metadata": {
        "colab": {
          "base_uri": "https://localhost:8080/",
          "height": 489
        },
        "id": "bqxyFn7Tez_6",
        "outputId": "2da39aaa-870a-4f05-9ef4-ad8bd5355cd2"
      },
      "execution_count": null,
      "outputs": [
        {
          "output_type": "execute_result",
          "data": {
            "text/plain": [
              "Text(0.5, 1.0, 'Maiores índices de Vacinação Diária Em Média')"
            ]
          },
          "metadata": {},
          "execution_count": 35
        },
        {
          "output_type": "display_data",
          "data": {
            "text/plain": [
              "<Figure size 640x480 with 1 Axes>"
            ],
            "image/png": "[encoded data removed]"
          },
          "metadata": {}
        }
      ]
    },
    {
      "cell_type": "code",
      "source": [
        "menorVaccDiaria = menorVaccDiaria.loc[menorVaccDiaria['daily_vaccinations_raw']>0.0]\n",
        "sns.stripplot(x='country',y='daily_vaccinations_raw',data=menorVaccDiaria[:10], hue='country', size=8 ).set_title(\"Menores índices de Vacinação Diária Não Nulos Em Média\")"
      ],
      "metadata": {
        "colab": {
          "base_uri": "https://localhost:8080/",
          "height": 489
        },
        "id": "zYQlRfsOP1NK",
        "outputId": "bdd52796-ffb9-4ea3-9be2-59de8ed7599a"
      },
      "execution_count": null,
      "outputs": [
        {
          "output_type": "execute_result",
          "data": {
            "text/plain": [
              "Text(0.5, 1.0, 'Menores índices de Vacinação Diária Não Nulos Em Média')"
            ]
          },
          "metadata": {},
          "execution_count": 22
        },
        {
          "output_type": "display_data",
          "data": {
            "text/plain": [
              "<Figure size 640x480 with 1 Axes>"
            ],
            "image/png": "[encoded data removed]"
          },
          "metadata": {}
        }
      ]
    },
    {
      "cell_type": "markdown",
      "source": [
        "# Explorando as principais colunas: 'total_vaccinations', 'people_vaccinated' e 'people_fully_vaccinated'."
      ],
      "metadata": {
        "id": "-hzIkkYPZ40k"
      }
    },
    {
      "cell_type": "code",
      "source": [
        "vaccination_table = df[['people_vaccinated','total_vaccinations','people_fully_vaccinated']].fillna(0)\n",
        "total_vaccinations = df['total_vaccinations'].sum()\n",
        "total_People_Vaccinated = df['people_vaccinated'].sum()\n",
        "total_People_fully_Vaccinated = df['people_fully_vaccinated'].sum()\n",
        "\n",
        "# percentual de cada variavel em relação ao total : \"df['total_vaccinations']\"\n",
        "people_vacc_percent = (total_People_Vaccinated / total_vaccinations)*100\n",
        "people_fully_percent = (total_People_fully_Vaccinated/total_vaccinations)*100\n",
        "print(\"Total de Vacinações: {} => {}%\".format(total_vaccinations,100))\n",
        "print(\"Total de Pessoas Vacinadas: {} => {}%\".format(total_People_Vaccinated,round(people_vacc_percent,2)))\n",
        "print(\"Total de Pessoas Totalmente Vacinadas: {} => {}%\".format(total_People_fully_Vaccinated,round(people_fully_percent,2)))"
      ],
      "metadata": {
        "colab": {
          "base_uri": "https://localhost:8080/"
        },
        "id": "tSsbbVdEaRzp",
        "outputId": "a9233684-4bcf-4704-a4ee-f049ad7ed05d"
      },
      "execution_count": null,
      "outputs": [
        {
          "output_type": "stream",
          "name": "stdout",
          "text": [
            "Total de Vacinações: 2002854013761.0 => 100%\n",
            "Total de Pessoas Vacinadas: 731113482252.0 => 36.5%\n",
            "Total de Pessoas Totalmente Vacinadas: 548594310708.0 => 27.39%\n"
          ]
        }
      ]
    },
    {
      "cell_type": "markdown",
      "source": [
        "# **Dados estatísticos sobre as colunas de vacinação**"
      ],
      "metadata": {
        "id": "3tqBxAACGLC0"
      }
    },
    {
      "cell_type": "code",
      "source": [
        "colunasVacinacao = df[['people_vaccinated','total_vaccinations','people_fully_vaccinated']]\n",
        "print('============ total vaccinations ================')\n",
        "total = colunasVacinacao['total_vaccinations']\n",
        "display(total.describe())\n",
        "print('============ people vaccinated ================')\n",
        "people = colunasVacinacao['people_vaccinated'].describe()\n",
        "display(people)\n",
        "print('============ people fully vaccinated ================')\n",
        "peopleFully = colunasVacinacao['people_fully_vaccinated'].describe()\n",
        "display(peopleFully)"
      ],
      "metadata": {
        "colab": {
          "base_uri": "https://localhost:8080/",
          "height": 538
        },
        "id": "EfGPVxbXGcCv",
        "outputId": "5c10f9ca-f0a9-475b-8173-39e250369c08"
      },
      "execution_count": null,
      "outputs": [
        {
          "output_type": "stream",
          "name": "stdout",
          "text": [
            "============ total vaccinations ================\n"
          ]
        },
        {
          "output_type": "display_data",
          "data": {
            "text/plain": [
              "count    4.360700e+04\n",
              "mean     4.592964e+07\n",
              "std      2.246004e+08\n",
              "min      0.000000e+00\n",
              "25%      5.264100e+05\n",
              "50%      3.590096e+06\n",
              "75%      1.701230e+07\n",
              "max      3.263129e+09\n",
              "Name: total_vaccinations, dtype: float64"
            ]
          },
          "metadata": {}
        },
        {
          "output_type": "stream",
          "name": "stdout",
          "text": [
            "============ people vaccinated ================\n"
          ]
        },
        {
          "output_type": "display_data",
          "data": {
            "text/plain": [
              "count    4.129400e+04\n",
              "mean     1.770508e+07\n",
              "std      7.078731e+07\n",
              "min      0.000000e+00\n",
              "25%      3.494642e+05\n",
              "50%      2.187310e+06\n",
              "75%      9.152520e+06\n",
              "max      1.275541e+09\n",
              "Name: people_vaccinated, dtype: float64"
            ]
          },
          "metadata": {}
        },
        {
          "output_type": "stream",
          "name": "stdout",
          "text": [
            "============ people fully vaccinated ================\n"
          ]
        },
        {
          "output_type": "display_data",
          "data": {
            "text/plain": [
              "count    3.880200e+04\n",
              "mean     1.413830e+07\n",
              "std      5.713920e+07\n",
              "min      1.000000e+00\n",
              "25%      2.439622e+05\n",
              "50%      1.722140e+06\n",
              "75%      7.559870e+06\n",
              "max      1.240777e+09\n",
              "Name: people_fully_vaccinated, dtype: float64"
            ]
          },
          "metadata": {}
        }
      ]
    },
    {
      "cell_type": "markdown",
      "source": [],
      "metadata": {
        "id": "p3TBSWd8GEdP"
      }
    },
    {
      "cell_type": "markdown",
      "source": [
        "# dados estatisticos sobre daily_vaccinations_raw de cada país"
      ],
      "metadata": {
        "id": "pKKbS3rMjJ0j"
      }
    },
    {
      "cell_type": "code",
      "source": [
        "#pegando vacinações totais de um país\n",
        "chinaVaccinations = df.loc[df['country'] == 'China',['daily_vaccinations_raw','date']]\n",
        "chinaVaccinations = chinaVaccinations.dropna() #eliminando inválidos\n",
        "chinaVaccinations\n",
        "#criando lista de paises:\n",
        "countries = df['country'].drop_duplicates() # eliminando duplicados\n",
        "countries.index=[x for x in range(0,223)]   # indexando ascendentemente\n",
        "listaCountries = [x for x in countries]\n",
        "listaCountries\n",
        "#pegando vacinações totais de todos os países\n",
        "\n",
        "for x in range(0,len(listaCountries)):\n",
        "  country = listaCountries[x]\n",
        "  print(\"===============**{}**===================\".format(country))\n",
        "  CountryVaccinations = df.loc[df['country'] == country,['daily_vaccinations_raw','date']].fillna(0)\n",
        "  display('DAILY VACCINATIONS RAW (Statistics):',CountryVaccinations['daily_vaccinations_raw'].describe())\n"
      ],
      "metadata": {
        "colab": {
          "base_uri": "https://localhost:8080/",
          "height": 1000
        },
        "id": "aQI1rNdFh5o2",
        "outputId": "25568d41-0f21-40df-949a-7b641619b9ef"
      },
      "execution_count": null,
      "outputs": [
        {
          "output_type": "stream",
          "name": "stdout",
          "text": [
            "===============**Afghanistan**===================\n"
          ]
        },
        {
          "output_type": "display_data",
          "data": {
            "text/plain": [
              "'DAILY VACCINATIONS RAW (Statistics):'"
            ],
            "application/vnd.google.colaboratory.intrinsic+json": {
              "type": "string"
            }
          },
          "metadata": {}
        },
        {
          "output_type": "display_data",
          "data": {
            "text/plain": [
              "count     394.000000\n",
              "mean       34.878173\n",
              "std       424.995836\n",
              "min         0.000000\n",
              "25%         0.000000\n",
              "50%         0.000000\n",
              "75%         0.000000\n",
              "max      6868.000000\n",
              "Name: daily_vaccinations_raw, dtype: float64"
            ]
          },
          "metadata": {}
        },
        {
          "output_type": "stream",
          "name": "stdout",
          "text": [
            "===============**Albania**===================\n"
          ]
        },
        {
          "output_type": "display_data",
          "data": {
            "text/plain": [
              "'DAILY VACCINATIONS RAW (Statistics):'"
            ],
            "application/vnd.google.colaboratory.intrinsic+json": {
              "type": "string"
            }
          },
          "metadata": {}
        },
        {
          "output_type": "display_data",
          "data": {
            "text/plain": [
              "count      439.000000\n",
              "mean      3229.364465\n",
              "std       4920.837653\n",
              "min          0.000000\n",
              "25%          0.000000\n",
              "50%          0.000000\n",
              "75%       6432.500000\n",
              "max      23655.000000\n",
              "Name: daily_vaccinations_raw, dtype: float64"
            ]
          },
          "metadata": {}
        },
        {
          "output_type": "stream",
          "name": "stdout",
          "text": [
            "===============**Algeria**===================\n"
          ]
        },
        {
          "output_type": "display_data",
          "data": {
            "text/plain": [
              "'DAILY VACCINATIONS RAW (Statistics):'"
            ],
            "application/vnd.google.colaboratory.intrinsic+json": {
              "type": "string"
            }
          },
          "metadata": {}
        },
        {
          "output_type": "display_data",
          "data": {
            "text/plain": [
              "count       405.000000\n",
              "mean        421.693827\n",
              "std        7405.865864\n",
              "min           0.000000\n",
              "25%           0.000000\n",
              "50%           0.000000\n",
              "75%           0.000000\n",
              "max      147230.000000\n",
              "Name: daily_vaccinations_raw, dtype: float64"
            ]
          },
          "metadata": {}
        },
        {
          "output_type": "stream",
          "name": "stdout",
          "text": [
            "===============**Andorra**===================\n"
          ]
        },
        {
          "output_type": "display_data",
          "data": {
            "text/plain": [
              "'DAILY VACCINATIONS RAW (Statistics):'"
            ],
            "application/vnd.google.colaboratory.intrinsic+json": {
              "type": "string"
            }
          },
          "metadata": {}
        },
        {
          "output_type": "display_data",
          "data": {
            "text/plain": [
              "count     413.000000\n",
              "mean       11.627119\n",
              "std       169.523437\n",
              "min         0.000000\n",
              "25%         0.000000\n",
              "50%         0.000000\n",
              "75%         0.000000\n",
              "max      2829.000000\n",
              "Name: daily_vaccinations_raw, dtype: float64"
            ]
          },
          "metadata": {}
        },
        {
          "output_type": "stream",
          "name": "stdout",
          "text": [
            "===============**Angola**===================\n"
          ]
        },
        {
          "output_type": "display_data",
          "data": {
            "text/plain": [
              "'DAILY VACCINATIONS RAW (Statistics):'"
            ],
            "application/vnd.google.colaboratory.intrinsic+json": {
              "type": "string"
            }
          },
          "metadata": {}
        },
        {
          "output_type": "display_data",
          "data": {
            "text/plain": [
              "count    390.0\n",
              "mean       0.0\n",
              "std        0.0\n",
              "min        0.0\n",
              "25%        0.0\n",
              "50%        0.0\n",
              "75%        0.0\n",
              "max        0.0\n",
              "Name: daily_vaccinations_raw, dtype: float64"
            ]
          },
          "metadata": {}
        },
        {
          "output_type": "stream",
          "name": "stdout",
          "text": [
            "===============**Anguilla**===================\n"
          ]
        },
        {
          "output_type": "display_data",
          "data": {
            "text/plain": [
              "'DAILY VACCINATIONS RAW (Statistics):'"
            ],
            "application/vnd.google.colaboratory.intrinsic+json": {
              "type": "string"
            }
          },
          "metadata": {}
        },
        {
          "output_type": "display_data",
          "data": {
            "text/plain": [
              "count     415.000000\n",
              "mean        3.424096\n",
              "std        69.754147\n",
              "min         0.000000\n",
              "25%         0.000000\n",
              "50%         0.000000\n",
              "75%         0.000000\n",
              "max      1421.000000\n",
              "Name: daily_vaccinations_raw, dtype: float64"
            ]
          },
          "metadata": {}
        },
        {
          "output_type": "stream",
          "name": "stdout",
          "text": [
            "===============**Antigua and Barbuda**===================\n"
          ]
        },
        {
          "output_type": "display_data",
          "data": {
            "text/plain": [
              "'DAILY VACCINATIONS RAW (Statistics):'"
            ],
            "application/vnd.google.colaboratory.intrinsic+json": {
              "type": "string"
            }
          },
          "metadata": {}
        },
        {
          "output_type": "display_data",
          "data": {
            "text/plain": [
              "count     392.000000\n",
              "mean       21.459184\n",
              "std       180.226650\n",
              "min         0.000000\n",
              "25%         0.000000\n",
              "50%         0.000000\n",
              "75%         0.000000\n",
              "max      2221.000000\n",
              "Name: daily_vaccinations_raw, dtype: float64"
            ]
          },
          "metadata": {}
        },
        {
          "output_type": "stream",
          "name": "stdout",
          "text": [
            "===============**Argentina**===================\n"
          ]
        },
        {
          "output_type": "display_data",
          "data": {
            "text/plain": [
              "'DAILY VACCINATIONS RAW (Statistics):'"
            ],
            "application/vnd.google.colaboratory.intrinsic+json": {
              "type": "string"
            }
          },
          "metadata": {}
        },
        {
          "output_type": "display_data",
          "data": {
            "text/plain": [
              "count       456.000000\n",
              "mean     211588.111842\n",
              "std      148965.788630\n",
              "min           0.000000\n",
              "25%       85945.250000\n",
              "50%      185480.000000\n",
              "75%      346486.750000\n",
              "max      564603.000000\n",
              "Name: daily_vaccinations_raw, dtype: float64"
            ]
          },
          "metadata": {}
        },
        {
          "output_type": "stream",
          "name": "stdout",
          "text": [
            "===============**Armenia**===================\n"
          ]
        },
        {
          "output_type": "display_data",
          "data": {
            "text/plain": [
              "'DAILY VACCINATIONS RAW (Statistics):'"
            ],
            "application/vnd.google.colaboratory.intrinsic+json": {
              "type": "string"
            }
          },
          "metadata": {}
        },
        {
          "output_type": "display_data",
          "data": {
            "text/plain": [
              "count    348.0\n",
              "mean       0.0\n",
              "std        0.0\n",
              "min        0.0\n",
              "25%        0.0\n",
              "50%        0.0\n",
              "75%        0.0\n",
              "max        0.0\n",
              "Name: daily_vaccinations_raw, dtype: float64"
            ]
          },
          "metadata": {}
        },
        {
          "output_type": "stream",
          "name": "stdout",
          "text": [
            "===============**Aruba**===================\n"
          ]
        },
        {
          "output_type": "display_data",
          "data": {
            "text/plain": [
              "'DAILY VACCINATIONS RAW (Statistics):'"
            ],
            "application/vnd.google.colaboratory.intrinsic+json": {
              "type": "string"
            }
          },
          "metadata": {}
        },
        {
          "output_type": "display_data",
          "data": {
            "text/plain": [
              "count     366.000000\n",
              "mean      300.956284\n",
              "std       646.144204\n",
              "min         0.000000\n",
              "25%         0.000000\n",
              "50%        61.500000\n",
              "75%       278.500000\n",
              "max      5076.000000\n",
              "Name: daily_vaccinations_raw, dtype: float64"
            ]
          },
          "metadata": {}
        },
        {
          "output_type": "stream",
          "name": "stdout",
          "text": [
            "===============**Australia**===================\n"
          ]
        },
        {
          "output_type": "display_data",
          "data": {
            "text/plain": [
              "'DAILY VACCINATIONS RAW (Statistics):'"
            ],
            "application/vnd.google.colaboratory.intrinsic+json": {
              "type": "string"
            }
          },
          "metadata": {}
        },
        {
          "output_type": "display_data",
          "data": {
            "text/plain": [
              "count       402.000000\n",
              "mean     138803.119403\n",
              "std      100394.871659\n",
              "min           0.000000\n",
              "25%       61880.250000\n",
              "50%      121615.000000\n",
              "75%      206331.750000\n",
              "max      351226.000000\n",
              "Name: daily_vaccinations_raw, dtype: float64"
            ]
          },
          "metadata": {}
        },
        {
          "output_type": "stream",
          "name": "stdout",
          "text": [
            "===============**Austria**===================\n"
          ]
        },
        {
          "output_type": "display_data",
          "data": {
            "text/plain": [
              "'DAILY VACCINATIONS RAW (Statistics):'"
            ],
            "application/vnd.google.colaboratory.intrinsic+json": {
              "type": "string"
            }
          },
          "metadata": {}
        },
        {
          "output_type": "display_data",
          "data": {
            "text/plain": [
              "count    442.0\n",
              "mean       0.0\n",
              "std        0.0\n",
              "min        0.0\n",
              "25%        0.0\n",
              "50%        0.0\n",
              "75%        0.0\n",
              "max        0.0\n",
              "Name: daily_vaccinations_raw, dtype: float64"
            ]
          },
          "metadata": {}
        },
        {
          "output_type": "stream",
          "name": "stdout",
          "text": [
            "===============**Azerbaijan**===================\n"
          ]
        },
        {
          "output_type": "display_data",
          "data": {
            "text/plain": [
              "'DAILY VACCINATIONS RAW (Statistics):'"
            ],
            "application/vnd.google.colaboratory.intrinsic+json": {
              "type": "string"
            }
          },
          "metadata": {}
        },
        {
          "output_type": "display_data",
          "data": {
            "text/plain": [
              "count       437.000000\n",
              "mean      24020.828375\n",
              "std       25498.645688\n",
              "min           0.000000\n",
              "25%           0.000000\n",
              "50%       21015.000000\n",
              "75%       39287.000000\n",
              "max      116709.000000\n",
              "Name: daily_vaccinations_raw, dtype: float64"
            ]
          },
          "metadata": {}
        },
        {
          "output_type": "stream",
          "name": "stdout",
          "text": [
            "===============**Bahamas**===================\n"
          ]
        },
        {
          "output_type": "display_data",
          "data": {
            "text/plain": [
              "'DAILY VACCINATIONS RAW (Statistics):'"
            ],
            "application/vnd.google.colaboratory.intrinsic+json": {
              "type": "string"
            }
          },
          "metadata": {}
        },
        {
          "output_type": "display_data",
          "data": {
            "text/plain": [
              "count     378.000000\n",
              "mean       24.492063\n",
              "std       368.817461\n",
              "min         0.000000\n",
              "25%         0.000000\n",
              "50%         0.000000\n",
              "75%         0.000000\n",
              "max      6771.000000\n",
              "Name: daily_vaccinations_raw, dtype: float64"
            ]
          },
          "metadata": {}
        },
        {
          "output_type": "stream",
          "name": "stdout",
          "text": [
            "===============**Bahrain**===================\n"
          ]
        },
        {
          "output_type": "display_data",
          "data": {
            "text/plain": [
              "'DAILY VACCINATIONS RAW (Statistics):'"
            ],
            "application/vnd.google.colaboratory.intrinsic+json": {
              "type": "string"
            }
          },
          "metadata": {}
        },
        {
          "output_type": "display_data",
          "data": {
            "text/plain": [
              "count      456.000000\n",
              "mean      6420.291667\n",
              "std       6738.831234\n",
              "min          0.000000\n",
              "25%       1648.250000\n",
              "50%       5139.500000\n",
              "75%       9251.250000\n",
              "max      81811.000000\n",
              "Name: daily_vaccinations_raw, dtype: float64"
            ]
          },
          "metadata": {}
        },
        {
          "output_type": "stream",
          "name": "stdout",
          "text": [
            "===============**Bangladesh**===================\n"
          ]
        },
        {
          "output_type": "display_data",
          "data": {
            "text/plain": [
              "'DAILY VACCINATIONS RAW (Statistics):'"
            ],
            "application/vnd.google.colaboratory.intrinsic+json": {
              "type": "string"
            }
          },
          "metadata": {}
        },
        {
          "output_type": "display_data",
          "data": {
            "text/plain": [
              "count    4.280000e+02\n",
              "mean     2.668697e+05\n",
              "std      7.237582e+05\n",
              "min      0.000000e+00\n",
              "25%      0.000000e+00\n",
              "50%      0.000000e+00\n",
              "75%      1.859640e+05\n",
              "max      7.038358e+06\n",
              "Name: daily_vaccinations_raw, dtype: float64"
            ]
          },
          "metadata": {}
        },
        {
          "output_type": "stream",
          "name": "stdout",
          "text": [
            "===============**Barbados**===================\n"
          ]
        },
        {
          "output_type": "display_data",
          "data": {
            "text/plain": [
              "'DAILY VACCINATIONS RAW (Statistics):'"
            ],
            "application/vnd.google.colaboratory.intrinsic+json": {
              "type": "string"
            }
          },
          "metadata": {}
        },
        {
          "output_type": "display_data",
          "data": {
            "text/plain": [
              "count      407.000000\n",
              "mean       710.117936\n",
              "std       1089.143739\n",
              "min          0.000000\n",
              "25%         94.500000\n",
              "50%        440.000000\n",
              "75%       1033.500000\n",
              "max      16939.000000\n",
              "Name: daily_vaccinations_raw, dtype: float64"
            ]
          },
          "metadata": {}
        },
        {
          "output_type": "stream",
          "name": "stdout",
          "text": [
            "===============**Belarus**===================\n"
          ]
        },
        {
          "output_type": "display_data",
          "data": {
            "text/plain": [
              "'DAILY VACCINATIONS RAW (Statistics):'"
            ],
            "application/vnd.google.colaboratory.intrinsic+json": {
              "type": "string"
            }
          },
          "metadata": {}
        },
        {
          "output_type": "display_data",
          "data": {
            "text/plain": [
              "count    448.0\n",
              "mean       0.0\n",
              "std        0.0\n",
              "min        0.0\n",
              "25%        0.0\n",
              "50%        0.0\n",
              "75%        0.0\n",
              "max        0.0\n",
              "Name: daily_vaccinations_raw, dtype: float64"
            ]
          },
          "metadata": {}
        },
        {
          "output_type": "stream",
          "name": "stdout",
          "text": [
            "===============**Belgium**===================\n"
          ]
        },
        {
          "output_type": "display_data",
          "data": {
            "text/plain": [
              "'DAILY VACCINATIONS RAW (Statistics):'"
            ],
            "application/vnd.google.colaboratory.intrinsic+json": {
              "type": "string"
            }
          },
          "metadata": {}
        },
        {
          "output_type": "display_data",
          "data": {
            "text/plain": [
              "count       454.000000\n",
              "mean      55584.773128\n",
              "std       52315.218210\n",
              "min           0.000000\n",
              "25%       12963.000000\n",
              "50%       33458.000000\n",
              "75%       92914.000000\n",
              "max      197635.000000\n",
              "Name: daily_vaccinations_raw, dtype: float64"
            ]
          },
          "metadata": {}
        },
        {
          "output_type": "stream",
          "name": "stdout",
          "text": [
            "===============**Belize**===================\n"
          ]
        },
        {
          "output_type": "display_data",
          "data": {
            "text/plain": [
              "'DAILY VACCINATIONS RAW (Statistics):'"
            ],
            "application/vnd.google.colaboratory.intrinsic+json": {
              "type": "string"
            }
          },
          "metadata": {}
        },
        {
          "output_type": "display_data",
          "data": {
            "text/plain": [
              "count      391.000000\n",
              "mean       313.790281\n",
              "std       1036.935535\n",
              "min          0.000000\n",
              "25%          0.000000\n",
              "50%          0.000000\n",
              "75%          0.000000\n",
              "max      10917.000000\n",
              "Name: daily_vaccinations_raw, dtype: float64"
            ]
          },
          "metadata": {}
        },
        {
          "output_type": "stream",
          "name": "stdout",
          "text": [
            "===============**Benin**===================\n"
          ]
        },
        {
          "output_type": "display_data",
          "data": {
            "text/plain": [
              "'DAILY VACCINATIONS RAW (Statistics):'"
            ],
            "application/vnd.google.colaboratory.intrinsic+json": {
              "type": "string"
            }
          },
          "metadata": {}
        },
        {
          "output_type": "display_data",
          "data": {
            "text/plain": [
              "count    315.0\n",
              "mean       0.0\n",
              "std        0.0\n",
              "min        0.0\n",
              "25%        0.0\n",
              "50%        0.0\n",
              "75%        0.0\n",
              "max        0.0\n",
              "Name: daily_vaccinations_raw, dtype: float64"
            ]
          },
          "metadata": {}
        },
        {
          "output_type": "stream",
          "name": "stdout",
          "text": [
            "===============**Bermuda**===================\n"
          ]
        },
        {
          "output_type": "display_data",
          "data": {
            "text/plain": [
              "'DAILY VACCINATIONS RAW (Statistics):'"
            ],
            "application/vnd.google.colaboratory.intrinsic+json": {
              "type": "string"
            }
          },
          "metadata": {}
        },
        {
          "output_type": "display_data",
          "data": {
            "text/plain": [
              "count    440.0\n",
              "mean       0.0\n",
              "std        0.0\n",
              "min        0.0\n",
              "25%        0.0\n",
              "50%        0.0\n",
              "75%        0.0\n",
              "max        0.0\n",
              "Name: daily_vaccinations_raw, dtype: float64"
            ]
          },
          "metadata": {}
        },
        {
          "output_type": "stream",
          "name": "stdout",
          "text": [
            "===============**Bhutan**===================\n"
          ]
        },
        {
          "output_type": "display_data",
          "data": {
            "text/plain": [
              "'DAILY VACCINATIONS RAW (Statistics):'"
            ],
            "application/vnd.google.colaboratory.intrinsic+json": {
              "type": "string"
            }
          },
          "metadata": {}
        },
        {
          "output_type": "display_data",
          "data": {
            "text/plain": [
              "count      360.000000\n",
              "mean      2394.536111\n",
              "std      12722.879789\n",
              "min          0.000000\n",
              "25%          0.000000\n",
              "50%          0.000000\n",
              "75%          0.000000\n",
              "max      97322.000000\n",
              "Name: daily_vaccinations_raw, dtype: float64"
            ]
          },
          "metadata": {}
        },
        {
          "output_type": "stream",
          "name": "stdout",
          "text": [
            "===============**Bolivia**===================\n"
          ]
        },
        {
          "output_type": "display_data",
          "data": {
            "text/plain": [
              "'DAILY VACCINATIONS RAW (Statistics):'"
            ],
            "application/vnd.google.colaboratory.intrinsic+json": {
              "type": "string"
            }
          },
          "metadata": {}
        },
        {
          "output_type": "display_data",
          "data": {
            "text/plain": [
              "count       412.000000\n",
              "mean      31311.550971\n",
              "std       27760.138734\n",
              "min           0.000000\n",
              "25%        8786.750000\n",
              "50%       25182.000000\n",
              "75%       46043.000000\n",
              "max      146827.000000\n",
              "Name: daily_vaccinations_raw, dtype: float64"
            ]
          },
          "metadata": {}
        },
        {
          "output_type": "stream",
          "name": "stdout",
          "text": [
            "===============**Bonaire Sint Eustatius and Saba**===================\n"
          ]
        },
        {
          "output_type": "display_data",
          "data": {
            "text/plain": [
              "'DAILY VACCINATIONS RAW (Statistics):'"
            ],
            "application/vnd.google.colaboratory.intrinsic+json": {
              "type": "string"
            }
          },
          "metadata": {}
        },
        {
          "output_type": "display_data",
          "data": {
            "text/plain": [
              "count    146.0\n",
              "mean       0.0\n",
              "std        0.0\n",
              "min        0.0\n",
              "25%        0.0\n",
              "50%        0.0\n",
              "75%        0.0\n",
              "max        0.0\n",
              "Name: daily_vaccinations_raw, dtype: float64"
            ]
          },
          "metadata": {}
        },
        {
          "output_type": "stream",
          "name": "stdout",
          "text": [
            "===============**Bosnia and Herzegovina**===================\n"
          ]
        },
        {
          "output_type": "display_data",
          "data": {
            "text/plain": [
              "'DAILY VACCINATIONS RAW (Statistics):'"
            ],
            "application/vnd.google.colaboratory.intrinsic+json": {
              "type": "string"
            }
          },
          "metadata": {}
        },
        {
          "output_type": "display_data",
          "data": {
            "text/plain": [
              "count      353.000000\n",
              "mean       265.898017\n",
              "std       3834.770728\n",
              "min          0.000000\n",
              "25%          0.000000\n",
              "50%          0.000000\n",
              "75%          0.000000\n",
              "max      66884.000000\n",
              "Name: daily_vaccinations_raw, dtype: float64"
            ]
          },
          "metadata": {}
        },
        {
          "output_type": "stream",
          "name": "stdout",
          "text": [
            "===============**Botswana**===================\n"
          ]
        },
        {
          "output_type": "display_data",
          "data": {
            "text/plain": [
              "'DAILY VACCINATIONS RAW (Statistics):'"
            ],
            "application/vnd.google.colaboratory.intrinsic+json": {
              "type": "string"
            }
          },
          "metadata": {}
        },
        {
          "output_type": "display_data",
          "data": {
            "text/plain": [
              "count      362.000000\n",
              "mean        28.825967\n",
              "std        548.451424\n",
              "min          0.000000\n",
              "25%          0.000000\n",
              "50%          0.000000\n",
              "75%          0.000000\n",
              "max      10435.000000\n",
              "Name: daily_vaccinations_raw, dtype: float64"
            ]
          },
          "metadata": {}
        },
        {
          "output_type": "stream",
          "name": "stdout",
          "text": [
            "===============**Brazil**===================\n"
          ]
        },
        {
          "output_type": "display_data",
          "data": {
            "text/plain": [
              "'DAILY VACCINATIONS RAW (Statistics):'"
            ],
            "application/vnd.google.colaboratory.intrinsic+json": {
              "type": "string"
            }
          },
          "metadata": {}
        },
        {
          "output_type": "display_data",
          "data": {
            "text/plain": [
              "count    4.370000e+02\n",
              "mean     9.375762e+05\n",
              "std      6.428682e+05\n",
              "min      0.000000e+00\n",
              "25%      3.986370e+05\n",
              "50%      8.634690e+05\n",
              "75%      1.361953e+06\n",
              "max      3.976605e+06\n",
              "Name: daily_vaccinations_raw, dtype: float64"
            ]
          },
          "metadata": {}
        },
        {
          "output_type": "stream",
          "name": "stdout",
          "text": [
            "===============**British Virgin Islands**===================\n"
          ]
        },
        {
          "output_type": "display_data",
          "data": {
            "text/plain": [
              "'DAILY VACCINATIONS RAW (Statistics):'"
            ],
            "application/vnd.google.colaboratory.intrinsic+json": {
              "type": "string"
            }
          },
          "metadata": {}
        },
        {
          "output_type": "display_data",
          "data": {
            "text/plain": [
              "count    309.0\n",
              "mean       0.0\n",
              "std        0.0\n",
              "min        0.0\n",
              "25%        0.0\n",
              "50%        0.0\n",
              "75%        0.0\n",
              "max        0.0\n",
              "Name: daily_vaccinations_raw, dtype: float64"
            ]
          },
          "metadata": {}
        },
        {
          "output_type": "stream",
          "name": "stdout",
          "text": [
            "===============**Brunei**===================\n"
          ]
        },
        {
          "output_type": "display_data",
          "data": {
            "text/plain": [
              "'DAILY VACCINATIONS RAW (Statistics):'"
            ],
            "application/vnd.google.colaboratory.intrinsic+json": {
              "type": "string"
            }
          },
          "metadata": {}
        },
        {
          "output_type": "display_data",
          "data": {
            "text/plain": [
              "count     351.000000\n",
              "mean      748.584046\n",
              "std      1671.146680\n",
              "min         0.000000\n",
              "25%         0.000000\n",
              "50%         0.000000\n",
              "75%       495.500000\n",
              "max      8701.000000\n",
              "Name: daily_vaccinations_raw, dtype: float64"
            ]
          },
          "metadata": {}
        },
        {
          "output_type": "stream",
          "name": "stdout",
          "text": [
            "===============**Bulgaria**===================\n"
          ]
        },
        {
          "output_type": "display_data",
          "data": {
            "text/plain": [
              "'DAILY VACCINATIONS RAW (Statistics):'"
            ],
            "application/vnd.google.colaboratory.intrinsic+json": {
              "type": "string"
            }
          },
          "metadata": {}
        },
        {
          "output_type": "display_data",
          "data": {
            "text/plain": [
              "count      456.000000\n",
              "mean      9161.182018\n",
              "std       8325.235840\n",
              "min          0.000000\n",
              "25%       2376.750000\n",
              "50%       7052.500000\n",
              "75%      13594.000000\n",
              "max      38117.000000\n",
              "Name: daily_vaccinations_raw, dtype: float64"
            ]
          },
          "metadata": {}
        },
        {
          "output_type": "stream",
          "name": "stdout",
          "text": [
            "===============**Burkina Faso**===================\n"
          ]
        },
        {
          "output_type": "display_data",
          "data": {
            "text/plain": [
              "'DAILY VACCINATIONS RAW (Statistics):'"
            ],
            "application/vnd.google.colaboratory.intrinsic+json": {
              "type": "string"
            }
          },
          "metadata": {}
        },
        {
          "output_type": "display_data",
          "data": {
            "text/plain": [
              "count    292.0\n",
              "mean       0.0\n",
              "std        0.0\n",
              "min        0.0\n",
              "25%        0.0\n",
              "50%        0.0\n",
              "75%        0.0\n",
              "max        0.0\n",
              "Name: daily_vaccinations_raw, dtype: float64"
            ]
          },
          "metadata": {}
        },
        {
          "output_type": "stream",
          "name": "stdout",
          "text": [
            "===============**Burundi**===================\n"
          ]
        },
        {
          "output_type": "display_data",
          "data": {
            "text/plain": [
              "'DAILY VACCINATIONS RAW (Statistics):'"
            ],
            "application/vnd.google.colaboratory.intrinsic+json": {
              "type": "string"
            }
          },
          "metadata": {}
        },
        {
          "output_type": "display_data",
          "data": {
            "text/plain": [
              "count    151.000000\n",
              "mean       3.046358\n",
              "std       15.691755\n",
              "min        0.000000\n",
              "25%        0.000000\n",
              "50%        0.000000\n",
              "75%        0.000000\n",
              "max      109.000000\n",
              "Name: daily_vaccinations_raw, dtype: float64"
            ]
          },
          "metadata": {}
        },
        {
          "output_type": "stream",
          "name": "stdout",
          "text": [
            "===============**Cambodia**===================\n"
          ]
        },
        {
          "output_type": "display_data",
          "data": {
            "text/plain": [
              "'DAILY VACCINATIONS RAW (Statistics):'"
            ],
            "application/vnd.google.colaboratory.intrinsic+json": {
              "type": "string"
            }
          },
          "metadata": {}
        },
        {
          "output_type": "display_data",
          "data": {
            "text/plain": [
              "count       413.000000\n",
              "mean      86192.031477\n",
              "std       75294.809747\n",
              "min           0.000000\n",
              "25%       29923.000000\n",
              "50%       64432.000000\n",
              "75%      130101.000000\n",
              "max      341978.000000\n",
              "Name: daily_vaccinations_raw, dtype: float64"
            ]
          },
          "metadata": {}
        },
        {
          "output_type": "stream",
          "name": "stdout",
          "text": [
            "===============**Cameroon**===================\n"
          ]
        },
        {
          "output_type": "display_data",
          "data": {
            "text/plain": [
              "'DAILY VACCINATIONS RAW (Statistics):'"
            ],
            "application/vnd.google.colaboratory.intrinsic+json": {
              "type": "string"
            }
          },
          "metadata": {}
        },
        {
          "output_type": "display_data",
          "data": {
            "text/plain": [
              "count     345.000000\n",
              "mean       29.826087\n",
              "std       532.832464\n",
              "min         0.000000\n",
              "25%         0.000000\n",
              "50%         0.000000\n",
              "75%         0.000000\n",
              "max      9890.000000\n",
              "Name: daily_vaccinations_raw, dtype: float64"
            ]
          },
          "metadata": {}
        },
        {
          "output_type": "stream",
          "name": "stdout",
          "text": [
            "===============**Canada**===================\n"
          ]
        },
        {
          "output_type": "display_data",
          "data": {
            "text/plain": [
              "'DAILY VACCINATIONS RAW (Statistics):'"
            ],
            "application/vnd.google.colaboratory.intrinsic+json": {
              "type": "string"
            }
          },
          "metadata": {}
        },
        {
          "output_type": "display_data",
          "data": {
            "text/plain": [
              "count       470.000000\n",
              "mean     173476.921277\n",
              "std      156680.272259\n",
              "min           0.000000\n",
              "25%       46759.750000\n",
              "50%      113806.000000\n",
              "75%      284989.750000\n",
              "max      879472.000000\n",
              "Name: daily_vaccinations_raw, dtype: float64"
            ]
          },
          "metadata": {}
        },
        {
          "output_type": "stream",
          "name": "stdout",
          "text": [
            "===============**Cape Verde**===================\n"
          ]
        },
        {
          "output_type": "display_data",
          "data": {
            "text/plain": [
              "'DAILY VACCINATIONS RAW (Statistics):'"
            ],
            "application/vnd.google.colaboratory.intrinsic+json": {
              "type": "string"
            }
          },
          "metadata": {}
        },
        {
          "output_type": "display_data",
          "data": {
            "text/plain": [
              "count     374.000000\n",
              "mean       19.951872\n",
              "std       277.665687\n",
              "min         0.000000\n",
              "25%         0.000000\n",
              "50%         0.000000\n",
              "75%         0.000000\n",
              "max      4461.000000\n",
              "Name: daily_vaccinations_raw, dtype: float64"
            ]
          },
          "metadata": {}
        },
        {
          "output_type": "stream",
          "name": "stdout",
          "text": [
            "===============**Cayman Islands**===================\n"
          ]
        },
        {
          "output_type": "display_data",
          "data": {
            "text/plain": [
              "'DAILY VACCINATIONS RAW (Statistics):'"
            ],
            "application/vnd.google.colaboratory.intrinsic+json": {
              "type": "string"
            }
          },
          "metadata": {}
        },
        {
          "output_type": "display_data",
          "data": {
            "text/plain": [
              "count     455.000000\n",
              "mean       33.712088\n",
              "std       159.650287\n",
              "min         0.000000\n",
              "25%         0.000000\n",
              "50%         0.000000\n",
              "75%         0.000000\n",
              "max      1579.000000\n",
              "Name: daily_vaccinations_raw, dtype: float64"
            ]
          },
          "metadata": {}
        },
        {
          "output_type": "stream",
          "name": "stdout",
          "text": [
            "===============**Central African Republic**===================\n"
          ]
        },
        {
          "output_type": "display_data",
          "data": {
            "text/plain": [
              "'DAILY VACCINATIONS RAW (Statistics):'"
            ],
            "application/vnd.google.colaboratory.intrinsic+json": {
              "type": "string"
            }
          },
          "metadata": {}
        },
        {
          "output_type": "display_data",
          "data": {
            "text/plain": [
              "count      318.000000\n",
              "mean        40.525157\n",
              "std        722.667075\n",
              "min          0.000000\n",
              "25%          0.000000\n",
              "50%          0.000000\n",
              "75%          0.000000\n",
              "max      12887.000000\n",
              "Name: daily_vaccinations_raw, dtype: float64"
            ]
          },
          "metadata": {}
        },
        {
          "output_type": "stream",
          "name": "stdout",
          "text": [
            "===============**Chad**===================\n"
          ]
        },
        {
          "output_type": "display_data",
          "data": {
            "text/plain": [
              "'DAILY VACCINATIONS RAW (Statistics):'"
            ],
            "application/vnd.google.colaboratory.intrinsic+json": {
              "type": "string"
            }
          },
          "metadata": {}
        },
        {
          "output_type": "display_data",
          "data": {
            "text/plain": [
              "count    282.0\n",
              "mean       0.0\n",
              "std        0.0\n",
              "min        0.0\n",
              "25%        0.0\n",
              "50%        0.0\n",
              "75%        0.0\n",
              "max        0.0\n",
              "Name: daily_vaccinations_raw, dtype: float64"
            ]
          },
          "metadata": {}
        },
        {
          "output_type": "stream",
          "name": "stdout",
          "text": [
            "===============**Chile**===================\n"
          ]
        },
        {
          "output_type": "display_data",
          "data": {
            "text/plain": [
              "'DAILY VACCINATIONS RAW (Statistics):'"
            ],
            "application/vnd.google.colaboratory.intrinsic+json": {
              "type": "string"
            }
          },
          "metadata": {}
        },
        {
          "output_type": "display_data",
          "data": {
            "text/plain": [
              "count       454.000000\n",
              "mean     110796.825991\n",
              "std       98311.352086\n",
              "min           0.000000\n",
              "25%        6207.000000\n",
              "50%      106123.500000\n",
              "75%      182312.750000\n",
              "max      430472.000000\n",
              "Name: daily_vaccinations_raw, dtype: float64"
            ]
          },
          "metadata": {}
        },
        {
          "output_type": "stream",
          "name": "stdout",
          "text": [
            "===============**China**===================\n"
          ]
        },
        {
          "output_type": "display_data",
          "data": {
            "text/plain": [
              "'DAILY VACCINATIONS RAW (Statistics):'"
            ],
            "application/vnd.google.colaboratory.intrinsic+json": {
              "type": "string"
            }
          },
          "metadata": {}
        },
        {
          "output_type": "display_data",
          "data": {
            "text/plain": [
              "count    4.700000e+02\n",
              "mean     6.771636e+06\n",
              "std      6.048101e+06\n",
              "min      0.000000e+00\n",
              "25%      1.497750e+06\n",
              "50%      5.408000e+06\n",
              "75%      1.074725e+07\n",
              "max      2.474100e+07\n",
              "Name: daily_vaccinations_raw, dtype: float64"
            ]
          },
          "metadata": {}
        },
        {
          "output_type": "stream",
          "name": "stdout",
          "text": [
            "===============**Colombia**===================\n"
          ]
        },
        {
          "output_type": "display_data",
          "data": {
            "text/plain": [
              "'DAILY VACCINATIONS RAW (Statistics):'"
            ],
            "application/vnd.google.colaboratory.intrinsic+json": {
              "type": "string"
            }
          },
          "metadata": {}
        },
        {
          "output_type": "display_data",
          "data": {
            "text/plain": [
              "count    4.040000e+02\n",
              "mean     1.223408e+05\n",
              "std      1.409562e+05\n",
              "min      0.000000e+00\n",
              "25%      0.000000e+00\n",
              "50%      7.779300e+04\n",
              "75%      2.293990e+05\n",
              "max      1.036209e+06\n",
              "Name: daily_vaccinations_raw, dtype: float64"
            ]
          },
          "metadata": {}
        },
        {
          "output_type": "stream",
          "name": "stdout",
          "text": [
            "===============**Comoros**===================\n"
          ]
        },
        {
          "output_type": "display_data",
          "data": {
            "text/plain": [
              "'DAILY VACCINATIONS RAW (Statistics):'"
            ],
            "application/vnd.google.colaboratory.intrinsic+json": {
              "type": "string"
            }
          },
          "metadata": {}
        },
        {
          "output_type": "display_data",
          "data": {
            "text/plain": [
              "count    335.0\n",
              "mean       0.0\n",
              "std        0.0\n",
              "min        0.0\n",
              "25%        0.0\n",
              "50%        0.0\n",
              "75%        0.0\n",
              "max        0.0\n",
              "Name: daily_vaccinations_raw, dtype: float64"
            ]
          },
          "metadata": {}
        },
        {
          "output_type": "stream",
          "name": "stdout",
          "text": [
            "===============**Congo**===================\n"
          ]
        },
        {
          "output_type": "display_data",
          "data": {
            "text/plain": [
              "'DAILY VACCINATIONS RAW (Statistics):'"
            ],
            "application/vnd.google.colaboratory.intrinsic+json": {
              "type": "string"
            }
          },
          "metadata": {}
        },
        {
          "output_type": "display_data",
          "data": {
            "text/plain": [
              "count     344.000000\n",
              "mean        4.319767\n",
              "std        80.119750\n",
              "min         0.000000\n",
              "25%         0.000000\n",
              "50%         0.000000\n",
              "75%         0.000000\n",
              "max      1486.000000\n",
              "Name: daily_vaccinations_raw, dtype: float64"
            ]
          },
          "metadata": {}
        },
        {
          "output_type": "stream",
          "name": "stdout",
          "text": [
            "===============**Cook Islands**===================\n"
          ]
        },
        {
          "output_type": "display_data",
          "data": {
            "text/plain": [
              "'DAILY VACCINATIONS RAW (Statistics):'"
            ],
            "application/vnd.google.colaboratory.intrinsic+json": {
              "type": "string"
            }
          },
          "metadata": {}
        },
        {
          "output_type": "display_data",
          "data": {
            "text/plain": [
              "count    308.0\n",
              "mean       0.0\n",
              "std        0.0\n",
              "min        0.0\n",
              "25%        0.0\n",
              "50%        0.0\n",
              "75%        0.0\n",
              "max        0.0\n",
              "Name: daily_vaccinations_raw, dtype: float64"
            ]
          },
          "metadata": {}
        },
        {
          "output_type": "stream",
          "name": "stdout",
          "text": [
            "===============**Costa Rica**===================\n"
          ]
        },
        {
          "output_type": "display_data",
          "data": {
            "text/plain": [
              "'DAILY VACCINATIONS RAW (Statistics):'"
            ],
            "application/vnd.google.colaboratory.intrinsic+json": {
              "type": "string"
            }
          },
          "metadata": {}
        },
        {
          "output_type": "display_data",
          "data": {
            "text/plain": [
              "count    460.0\n",
              "mean       0.0\n",
              "std        0.0\n",
              "min        0.0\n",
              "25%        0.0\n",
              "50%        0.0\n",
              "75%        0.0\n",
              "max        0.0\n",
              "Name: daily_vaccinations_raw, dtype: float64"
            ]
          },
          "metadata": {}
        },
        {
          "output_type": "stream",
          "name": "stdout",
          "text": [
            "===============**Cote d'Ivoire**===================\n"
          ]
        },
        {
          "output_type": "display_data",
          "data": {
            "text/plain": [
              "'DAILY VACCINATIONS RAW (Statistics):'"
            ],
            "application/vnd.google.colaboratory.intrinsic+json": {
              "type": "string"
            }
          },
          "metadata": {}
        },
        {
          "output_type": "display_data",
          "data": {
            "text/plain": [
              "count       392.000000\n",
              "mean       5830.936224\n",
              "std       13286.641434\n",
              "min           0.000000\n",
              "25%           0.000000\n",
              "50%           0.000000\n",
              "75%        6507.250000\n",
              "max      156394.000000\n",
              "Name: daily_vaccinations_raw, dtype: float64"
            ]
          },
          "metadata": {}
        },
        {
          "output_type": "stream",
          "name": "stdout",
          "text": [
            "===============**Croatia**===================\n"
          ]
        },
        {
          "output_type": "display_data",
          "data": {
            "text/plain": [
              "'DAILY VACCINATIONS RAW (Statistics):'"
            ],
            "application/vnd.google.colaboratory.intrinsic+json": {
              "type": "string"
            }
          },
          "metadata": {}
        },
        {
          "output_type": "display_data",
          "data": {
            "text/plain": [
              "count      455.000000\n",
              "mean      8133.030769\n",
              "std      10603.693827\n",
              "min          0.000000\n",
              "25%          0.000000\n",
              "50%       3772.000000\n",
              "75%      12983.500000\n",
              "max      53059.000000\n",
              "Name: daily_vaccinations_raw, dtype: float64"
            ]
          },
          "metadata": {}
        },
        {
          "output_type": "stream",
          "name": "stdout",
          "text": [
            "===============**Cuba**===================\n"
          ]
        },
        {
          "output_type": "display_data",
          "data": {
            "text/plain": [
              "'DAILY VACCINATIONS RAW (Statistics):'"
            ],
            "application/vnd.google.colaboratory.intrinsic+json": {
              "type": "string"
            }
          },
          "metadata": {}
        },
        {
          "output_type": "display_data",
          "data": {
            "text/plain": [
              "count       320.000000\n",
              "mean      96704.353125\n",
              "std       89828.365161\n",
              "min           0.000000\n",
              "25%       20697.250000\n",
              "50%       72345.500000\n",
              "75%      154363.500000\n",
              "max      437983.000000\n",
              "Name: daily_vaccinations_raw, dtype: float64"
            ]
          },
          "metadata": {}
        },
        {
          "output_type": "stream",
          "name": "stdout",
          "text": [
            "===============**Curacao**===================\n"
          ]
        },
        {
          "output_type": "display_data",
          "data": {
            "text/plain": [
              "'DAILY VACCINATIONS RAW (Statistics):'"
            ],
            "application/vnd.google.colaboratory.intrinsic+json": {
              "type": "string"
            }
          },
          "metadata": {}
        },
        {
          "output_type": "display_data",
          "data": {
            "text/plain": [
              "count     366.000000\n",
              "mean      506.527322\n",
              "std       898.992778\n",
              "min         0.000000\n",
              "25%         0.000000\n",
              "50%        91.500000\n",
              "75%       529.500000\n",
              "max      4693.000000\n",
              "Name: daily_vaccinations_raw, dtype: float64"
            ]
          },
          "metadata": {}
        },
        {
          "output_type": "stream",
          "name": "stdout",
          "text": [
            "===============**Cyprus**===================\n"
          ]
        },
        {
          "output_type": "display_data",
          "data": {
            "text/plain": [
              "'DAILY VACCINATIONS RAW (Statistics):'"
            ],
            "application/vnd.google.colaboratory.intrinsic+json": {
              "type": "string"
            }
          },
          "metadata": {}
        },
        {
          "output_type": "display_data",
          "data": {
            "text/plain": [
              "count      417.000000\n",
              "mean      1026.868106\n",
              "std       2750.532927\n",
              "min          0.000000\n",
              "25%          0.000000\n",
              "50%          0.000000\n",
              "75%          0.000000\n",
              "max      15365.000000\n",
              "Name: daily_vaccinations_raw, dtype: float64"
            ]
          },
          "metadata": {}
        },
        {
          "output_type": "stream",
          "name": "stdout",
          "text": [
            "===============**Czechia**===================\n"
          ]
        },
        {
          "output_type": "display_data",
          "data": {
            "text/plain": [
              "'DAILY VACCINATIONS RAW (Statistics):'"
            ],
            "application/vnd.google.colaboratory.intrinsic+json": {
              "type": "string"
            }
          },
          "metadata": {}
        },
        {
          "output_type": "display_data",
          "data": {
            "text/plain": [
              "count       458.000000\n",
              "mean      38189.443231\n",
              "std       34259.722997\n",
              "min           0.000000\n",
              "25%       10624.250000\n",
              "50%       26155.500000\n",
              "75%       58425.250000\n",
              "max      122096.000000\n",
              "Name: daily_vaccinations_raw, dtype: float64"
            ]
          },
          "metadata": {}
        },
        {
          "output_type": "stream",
          "name": "stdout",
          "text": [
            "===============**Democratic Republic of Congo**===================\n"
          ]
        },
        {
          "output_type": "display_data",
          "data": {
            "text/plain": [
              "'DAILY VACCINATIONS RAW (Statistics):'"
            ],
            "application/vnd.google.colaboratory.intrinsic+json": {
              "type": "string"
            }
          },
          "metadata": {}
        },
        {
          "output_type": "display_data",
          "data": {
            "text/plain": [
              "count      341.000000\n",
              "mean       124.055718\n",
              "std       2290.835886\n",
              "min          0.000000\n",
              "25%          0.000000\n",
              "50%          0.000000\n",
              "75%          0.000000\n",
              "max      42303.000000\n",
              "Name: daily_vaccinations_raw, dtype: float64"
            ]
          },
          "metadata": {}
        },
        {
          "output_type": "stream",
          "name": "stdout",
          "text": [
            "===============**Denmark**===================\n"
          ]
        },
        {
          "output_type": "display_data",
          "data": {
            "text/plain": [
              "'DAILY VACCINATIONS RAW (Statistics):'"
            ],
            "application/vnd.google.colaboratory.intrinsic+json": {
              "type": "string"
            }
          },
          "metadata": {}
        },
        {
          "output_type": "display_data",
          "data": {
            "text/plain": [
              "count       476.000000\n",
              "mean      27755.745798\n",
              "std       28346.531673\n",
              "min           0.000000\n",
              "25%        6755.000000\n",
              "50%       16939.500000\n",
              "75%       42613.750000\n",
              "max      166783.000000\n",
              "Name: daily_vaccinations_raw, dtype: float64"
            ]
          },
          "metadata": {}
        },
        {
          "output_type": "stream",
          "name": "stdout",
          "text": [
            "===============**Djibouti**===================\n"
          ]
        },
        {
          "output_type": "display_data",
          "data": {
            "text/plain": [
              "'DAILY VACCINATIONS RAW (Statistics):'"
            ],
            "application/vnd.google.colaboratory.intrinsic+json": {
              "type": "string"
            }
          },
          "metadata": {}
        },
        {
          "output_type": "display_data",
          "data": {
            "text/plain": [
              "count    338.0\n",
              "mean       0.0\n",
              "std        0.0\n",
              "min        0.0\n",
              "25%        0.0\n",
              "50%        0.0\n",
              "75%        0.0\n",
              "max        0.0\n",
              "Name: daily_vaccinations_raw, dtype: float64"
            ]
          },
          "metadata": {}
        },
        {
          "output_type": "stream",
          "name": "stdout",
          "text": [
            "===============**Dominica**===================\n"
          ]
        },
        {
          "output_type": "display_data",
          "data": {
            "text/plain": [
              "'DAILY VACCINATIONS RAW (Statistics):'"
            ],
            "application/vnd.google.colaboratory.intrinsic+json": {
              "type": "string"
            }
          },
          "metadata": {}
        },
        {
          "output_type": "display_data",
          "data": {
            "text/plain": [
              "count     408.000000\n",
              "mean       15.727941\n",
              "std       121.251326\n",
              "min         0.000000\n",
              "25%         0.000000\n",
              "50%         0.000000\n",
              "75%         0.000000\n",
              "max      1226.000000\n",
              "Name: daily_vaccinations_raw, dtype: float64"
            ]
          },
          "metadata": {}
        },
        {
          "output_type": "stream",
          "name": "stdout",
          "text": [
            "===============**Dominican Republic**===================\n"
          ]
        },
        {
          "output_type": "display_data",
          "data": {
            "text/plain": [
              "'DAILY VACCINATIONS RAW (Statistics):'"
            ],
            "application/vnd.google.colaboratory.intrinsic+json": {
              "type": "string"
            }
          },
          "metadata": {}
        },
        {
          "output_type": "display_data",
          "data": {
            "text/plain": [
              "count       408.000000\n",
              "mean      33000.669118\n",
              "std       42612.791621\n",
              "min           0.000000\n",
              "25%        2133.000000\n",
              "50%       18212.500000\n",
              "75%       45123.750000\n",
              "max      244052.000000\n",
              "Name: daily_vaccinations_raw, dtype: float64"
            ]
          },
          "metadata": {}
        },
        {
          "output_type": "stream",
          "name": "stdout",
          "text": [
            "===============**Ecuador**===================\n"
          ]
        },
        {
          "output_type": "display_data",
          "data": {
            "text/plain": [
              "'DAILY VACCINATIONS RAW (Statistics):'"
            ],
            "application/vnd.google.colaboratory.intrinsic+json": {
              "type": "string"
            }
          },
          "metadata": {}
        },
        {
          "output_type": "display_data",
          "data": {
            "text/plain": [
              "count       431.000000\n",
              "mean      75393.232019\n",
              "std       84626.410784\n",
              "min           0.000000\n",
              "25%       11794.500000\n",
              "50%       51444.000000\n",
              "75%      101560.500000\n",
              "max      429786.000000\n",
              "Name: daily_vaccinations_raw, dtype: float64"
            ]
          },
          "metadata": {}
        },
        {
          "output_type": "stream",
          "name": "stdout",
          "text": [
            "===============**Egypt**===================\n"
          ]
        },
        {
          "output_type": "display_data",
          "data": {
            "text/plain": [
              "'DAILY VACCINATIONS RAW (Statistics):'"
            ],
            "application/vnd.google.colaboratory.intrinsic+json": {
              "type": "string"
            }
          },
          "metadata": {}
        },
        {
          "output_type": "display_data",
          "data": {
            "text/plain": [
              "count       421.000000\n",
              "mean       4937.712589\n",
              "std       59713.965729\n",
              "min           0.000000\n",
              "25%           0.000000\n",
              "50%           0.000000\n",
              "75%           0.000000\n",
              "max      975155.000000\n",
              "Name: daily_vaccinations_raw, dtype: float64"
            ]
          },
          "metadata": {}
        },
        {
          "output_type": "stream",
          "name": "stdout",
          "text": [
            "===============**El Salvador**===================\n"
          ]
        },
        {
          "output_type": "display_data",
          "data": {
            "text/plain": [
              "'DAILY VACCINATIONS RAW (Statistics):'"
            ],
            "application/vnd.google.colaboratory.intrinsic+json": {
              "type": "string"
            }
          },
          "metadata": {}
        },
        {
          "output_type": "display_data",
          "data": {
            "text/plain": [
              "count       401.000000\n",
              "mean      12379.640898\n",
              "std       25221.744746\n",
              "min           0.000000\n",
              "25%           0.000000\n",
              "50%           0.000000\n",
              "75%           0.000000\n",
              "max      102028.000000\n",
              "Name: daily_vaccinations_raw, dtype: float64"
            ]
          },
          "metadata": {}
        },
        {
          "output_type": "stream",
          "name": "stdout",
          "text": [
            "===============**England**===================\n"
          ]
        },
        {
          "output_type": "display_data",
          "data": {
            "text/plain": [
              "'DAILY VACCINATIONS RAW (Statistics):'"
            ],
            "application/vnd.google.colaboratory.intrinsic+json": {
              "type": "string"
            }
          },
          "metadata": {}
        },
        {
          "output_type": "display_data",
          "data": {
            "text/plain": [
              "count       443.000000\n",
              "mean     261482.927765\n",
              "std      179411.149951\n",
              "min           0.000000\n",
              "25%      116543.500000\n",
              "50%      235225.000000\n",
              "75%      379781.500000\n",
              "max      922467.000000\n",
              "Name: daily_vaccinations_raw, dtype: float64"
            ]
          },
          "metadata": {}
        },
        {
          "output_type": "stream",
          "name": "stdout",
          "text": [
            "===============**Equatorial Guinea**===================\n"
          ]
        },
        {
          "output_type": "display_data",
          "data": {
            "text/plain": [
              "'DAILY VACCINATIONS RAW (Statistics):'"
            ],
            "application/vnd.google.colaboratory.intrinsic+json": {
              "type": "string"
            }
          },
          "metadata": {}
        },
        {
          "output_type": "display_data",
          "data": {
            "text/plain": [
              "count    376.000000\n",
              "mean       1.699468\n",
              "std       32.953909\n",
              "min        0.000000\n",
              "25%        0.000000\n",
              "50%        0.000000\n",
              "75%        0.000000\n",
              "max      639.000000\n",
              "Name: daily_vaccinations_raw, dtype: float64"
            ]
          },
          "metadata": {}
        },
        {
          "output_type": "stream",
          "name": "stdout",
          "text": [
            "===============**Estonia**===================\n"
          ]
        },
        {
          "output_type": "display_data",
          "data": {
            "text/plain": [
              "'DAILY VACCINATIONS RAW (Statistics):'"
            ],
            "application/vnd.google.colaboratory.intrinsic+json": {
              "type": "string"
            }
          },
          "metadata": {}
        },
        {
          "output_type": "display_data",
          "data": {
            "text/plain": [
              "count      458.000000\n",
              "mean      4304.292576\n",
              "std       3416.390364\n",
              "min          0.000000\n",
              "25%       1539.000000\n",
              "50%       3610.000000\n",
              "75%       6251.000000\n",
              "max      17558.000000\n",
              "Name: daily_vaccinations_raw, dtype: float64"
            ]
          },
          "metadata": {}
        },
        {
          "output_type": "stream",
          "name": "stdout",
          "text": [
            "===============**Eswatini**===================\n"
          ]
        },
        {
          "output_type": "display_data",
          "data": {
            "text/plain": [
              "'DAILY VACCINATIONS RAW (Statistics):'"
            ],
            "application/vnd.google.colaboratory.intrinsic+json": {
              "type": "string"
            }
          },
          "metadata": {}
        },
        {
          "output_type": "display_data",
          "data": {
            "text/plain": [
              "count      356.000000\n",
              "mean       311.137640\n",
              "std       2019.673023\n",
              "min          0.000000\n",
              "25%          0.000000\n",
              "50%          0.000000\n",
              "75%          0.000000\n",
              "max      17170.000000\n",
              "Name: daily_vaccinations_raw, dtype: float64"
            ]
          },
          "metadata": {}
        },
        {
          "output_type": "stream",
          "name": "stdout",
          "text": [
            "===============**Ethiopia**===================\n"
          ]
        },
        {
          "output_type": "display_data",
          "data": {
            "text/plain": [
              "'DAILY VACCINATIONS RAW (Statistics):'"
            ],
            "application/vnd.google.colaboratory.intrinsic+json": {
              "type": "string"
            }
          },
          "metadata": {}
        },
        {
          "output_type": "display_data",
          "data": {
            "text/plain": [
              "count    3.540000e+02\n",
              "mean     6.510626e+04\n",
              "std      2.205986e+05\n",
              "min      0.000000e+00\n",
              "25%      0.000000e+00\n",
              "50%      6.605500e+03\n",
              "75%      2.919000e+04\n",
              "max      1.866822e+06\n",
              "Name: daily_vaccinations_raw, dtype: float64"
            ]
          },
          "metadata": {}
        },
        {
          "output_type": "stream",
          "name": "stdout",
          "text": [
            "===============**Faeroe Islands**===================\n"
          ]
        },
        {
          "output_type": "display_data",
          "data": {
            "text/plain": [
              "'DAILY VACCINATIONS RAW (Statistics):'"
            ],
            "application/vnd.google.colaboratory.intrinsic+json": {
              "type": "string"
            }
          },
          "metadata": {}
        },
        {
          "output_type": "display_data",
          "data": {
            "text/plain": [
              "count     386.000000\n",
              "mean       90.189119\n",
              "std       241.664537\n",
              "min         0.000000\n",
              "25%         0.000000\n",
              "50%         0.000000\n",
              "75%         0.000000\n",
              "max      1442.000000\n",
              "Name: daily_vaccinations_raw, dtype: float64"
            ]
          },
          "metadata": {}
        },
        {
          "output_type": "stream",
          "name": "stdout",
          "text": [
            "===============**Falkland Islands**===================\n"
          ]
        },
        {
          "output_type": "display_data",
          "data": {
            "text/plain": [
              "'DAILY VACCINATIONS RAW (Statistics):'"
            ],
            "application/vnd.google.colaboratory.intrinsic+json": {
              "type": "string"
            }
          },
          "metadata": {}
        },
        {
          "output_type": "display_data",
          "data": {
            "text/plain": [
              "count    67.0\n",
              "mean      0.0\n",
              "std       0.0\n",
              "min       0.0\n",
              "25%       0.0\n",
              "50%       0.0\n",
              "75%       0.0\n",
              "max       0.0\n",
              "Name: daily_vaccinations_raw, dtype: float64"
            ]
          },
          "metadata": {}
        },
        {
          "output_type": "stream",
          "name": "stdout",
          "text": [
            "===============**Fiji**===================\n"
          ]
        },
        {
          "output_type": "display_data",
          "data": {
            "text/plain": [
              "'DAILY VACCINATIONS RAW (Statistics):'"
            ],
            "application/vnd.google.colaboratory.intrinsic+json": {
              "type": "string"
            }
          },
          "metadata": {}
        },
        {
          "output_type": "display_data",
          "data": {
            "text/plain": [
              "count      377.00000\n",
              "mean        75.05305\n",
              "std       1457.26664\n",
              "min          0.00000\n",
              "25%          0.00000\n",
              "50%          0.00000\n",
              "75%          0.00000\n",
              "max      28295.00000\n",
              "Name: daily_vaccinations_raw, dtype: float64"
            ]
          },
          "metadata": {}
        },
        {
          "output_type": "stream",
          "name": "stdout",
          "text": [
            "===============**Finland**===================\n"
          ]
        },
        {
          "output_type": "display_data",
          "data": {
            "text/plain": [
              "'DAILY VACCINATIONS RAW (Statistics):'"
            ],
            "application/vnd.google.colaboratory.intrinsic+json": {
              "type": "string"
            }
          },
          "metadata": {}
        },
        {
          "output_type": "display_data",
          "data": {
            "text/plain": [
              "count       451.000000\n",
              "mean       2781.383592\n",
              "std       13606.420427\n",
              "min           0.000000\n",
              "25%           0.000000\n",
              "50%           0.000000\n",
              "75%           0.000000\n",
              "max      151516.000000\n",
              "Name: daily_vaccinations_raw, dtype: float64"
            ]
          },
          "metadata": {}
        },
        {
          "output_type": "stream",
          "name": "stdout",
          "text": [
            "===============**France**===================\n"
          ]
        },
        {
          "output_type": "display_data",
          "data": {
            "text/plain": [
              "'DAILY VACCINATIONS RAW (Statistics):'"
            ],
            "application/vnd.google.colaboratory.intrinsic+json": {
              "type": "string"
            }
          },
          "metadata": {}
        },
        {
          "output_type": "display_data",
          "data": {
            "text/plain": [
              "count       457.000000\n",
              "mean     309990.380744\n",
              "std      247591.358729\n",
              "min           0.000000\n",
              "25%      111094.000000\n",
              "50%      226577.000000\n",
              "75%      525328.000000\n",
              "max      970040.000000\n",
              "Name: daily_vaccinations_raw, dtype: float64"
            ]
          },
          "metadata": {}
        },
        {
          "output_type": "stream",
          "name": "stdout",
          "text": [
            "===============**French Polynesia**===================\n"
          ]
        },
        {
          "output_type": "display_data",
          "data": {
            "text/plain": [
              "'DAILY VACCINATIONS RAW (Statistics):'"
            ],
            "application/vnd.google.colaboratory.intrinsic+json": {
              "type": "string"
            }
          },
          "metadata": {}
        },
        {
          "output_type": "display_data",
          "data": {
            "text/plain": [
              "count    420.000000\n",
              "mean       2.035714\n",
              "std       29.506056\n",
              "min        0.000000\n",
              "25%        0.000000\n",
              "50%        0.000000\n",
              "75%        0.000000\n",
              "max      450.000000\n",
              "Name: daily_vaccinations_raw, dtype: float64"
            ]
          },
          "metadata": {}
        },
        {
          "output_type": "stream",
          "name": "stdout",
          "text": [
            "===============**Gabon**===================\n"
          ]
        },
        {
          "output_type": "display_data",
          "data": {
            "text/plain": [
              "'DAILY VACCINATIONS RAW (Statistics):'"
            ],
            "application/vnd.google.colaboratory.intrinsic+json": {
              "type": "string"
            }
          },
          "metadata": {}
        },
        {
          "output_type": "display_data",
          "data": {
            "text/plain": [
              "count     362.000000\n",
              "mean        4.104972\n",
              "std        78.102426\n",
              "min         0.000000\n",
              "25%         0.000000\n",
              "50%         0.000000\n",
              "75%         0.000000\n",
              "max      1486.000000\n",
              "Name: daily_vaccinations_raw, dtype: float64"
            ]
          },
          "metadata": {}
        },
        {
          "output_type": "stream",
          "name": "stdout",
          "text": [
            "===============**Gambia**===================\n"
          ]
        },
        {
          "output_type": "display_data",
          "data": {
            "text/plain": [
              "'DAILY VACCINATIONS RAW (Statistics):'"
            ],
            "application/vnd.google.colaboratory.intrinsic+json": {
              "type": "string"
            }
          },
          "metadata": {}
        },
        {
          "output_type": "display_data",
          "data": {
            "text/plain": [
              "count    377.000000\n",
              "mean       1.137931\n",
              "std       22.094624\n",
              "min        0.000000\n",
              "25%        0.000000\n",
              "50%        0.000000\n",
              "75%        0.000000\n",
              "max      429.000000\n",
              "Name: daily_vaccinations_raw, dtype: float64"
            ]
          },
          "metadata": {}
        },
        {
          "output_type": "stream",
          "name": "stdout",
          "text": [
            "===============**Georgia**===================\n"
          ]
        },
        {
          "output_type": "display_data",
          "data": {
            "text/plain": [
              "'DAILY VACCINATIONS RAW (Statistics):'"
            ],
            "application/vnd.google.colaboratory.intrinsic+json": {
              "type": "string"
            }
          },
          "metadata": {}
        },
        {
          "output_type": "display_data",
          "data": {
            "text/plain": [
              "count      381.000000\n",
              "mean      3775.724409\n",
              "std       6782.041150\n",
              "min          0.000000\n",
              "25%          0.000000\n",
              "50%          0.000000\n",
              "75%       4579.000000\n",
              "max      58479.000000\n",
              "Name: daily_vaccinations_raw, dtype: float64"
            ]
          },
          "metadata": {}
        },
        {
          "output_type": "stream",
          "name": "stdout",
          "text": [
            "===============**Germany**===================\n"
          ]
        },
        {
          "output_type": "display_data",
          "data": {
            "text/plain": [
              "'DAILY VACCINATIONS RAW (Statistics):'"
            ],
            "application/vnd.google.colaboratory.intrinsic+json": {
              "type": "string"
            }
          },
          "metadata": {}
        },
        {
          "output_type": "display_data",
          "data": {
            "text/plain": [
              "count    4.580000e+02\n",
              "mean     3.753617e+05\n",
              "std      3.380562e+05\n",
              "min      0.000000e+00\n",
              "25%      1.139422e+05\n",
              "50%      2.526610e+05\n",
              "75%      5.576290e+05\n",
              "max      1.650624e+06\n",
              "Name: daily_vaccinations_raw, dtype: float64"
            ]
          },
          "metadata": {}
        },
        {
          "output_type": "stream",
          "name": "stdout",
          "text": [
            "===============**Ghana**===================\n"
          ]
        },
        {
          "output_type": "display_data",
          "data": {
            "text/plain": [
              "'DAILY VACCINATIONS RAW (Statistics):'"
            ],
            "application/vnd.google.colaboratory.intrinsic+json": {
              "type": "string"
            }
          },
          "metadata": {}
        },
        {
          "output_type": "display_data",
          "data": {
            "text/plain": [
              "count      365.000000\n",
              "mean       495.753425\n",
              "std       4833.856897\n",
              "min          0.000000\n",
              "25%          0.000000\n",
              "50%          0.000000\n",
              "75%          0.000000\n",
              "max      60270.000000\n",
              "Name: daily_vaccinations_raw, dtype: float64"
            ]
          },
          "metadata": {}
        },
        {
          "output_type": "stream",
          "name": "stdout",
          "text": [
            "===============**Gibraltar**===================\n"
          ]
        },
        {
          "output_type": "display_data",
          "data": {
            "text/plain": [
              "'DAILY VACCINATIONS RAW (Statistics):'"
            ],
            "application/vnd.google.colaboratory.intrinsic+json": {
              "type": "string"
            }
          },
          "metadata": {}
        },
        {
          "output_type": "display_data",
          "data": {
            "text/plain": [
              "count     439.000000\n",
              "mean      207.726651\n",
              "std       354.849087\n",
              "min         0.000000\n",
              "25%         0.000000\n",
              "50%         0.000000\n",
              "75%       322.500000\n",
              "max      1330.000000\n",
              "Name: daily_vaccinations_raw, dtype: float64"
            ]
          },
          "metadata": {}
        },
        {
          "output_type": "stream",
          "name": "stdout",
          "text": [
            "===============**Greece**===================\n"
          ]
        },
        {
          "output_type": "display_data",
          "data": {
            "text/plain": [
              "'DAILY VACCINATIONS RAW (Statistics):'"
            ],
            "application/vnd.google.colaboratory.intrinsic+json": {
              "type": "string"
            }
          },
          "metadata": {}
        },
        {
          "output_type": "display_data",
          "data": {
            "text/plain": [
              "count       457.000000\n",
              "mean      42880.398249\n",
              "std       35160.259906\n",
              "min           0.000000\n",
              "25%       16097.000000\n",
              "50%       31137.000000\n",
              "75%       71412.000000\n",
              "max      120023.000000\n",
              "Name: daily_vaccinations_raw, dtype: float64"
            ]
          },
          "metadata": {}
        },
        {
          "output_type": "stream",
          "name": "stdout",
          "text": [
            "===============**Greenland**===================\n"
          ]
        },
        {
          "output_type": "display_data",
          "data": {
            "text/plain": [
              "'DAILY VACCINATIONS RAW (Statistics):'"
            ],
            "application/vnd.google.colaboratory.intrinsic+json": {
              "type": "string"
            }
          },
          "metadata": {}
        },
        {
          "output_type": "display_data",
          "data": {
            "text/plain": [
              "count     405.000000\n",
              "mean      107.002469\n",
              "std       338.933392\n",
              "min         0.000000\n",
              "25%         0.000000\n",
              "50%         0.000000\n",
              "75%         0.000000\n",
              "max      2780.000000\n",
              "Name: daily_vaccinations_raw, dtype: float64"
            ]
          },
          "metadata": {}
        },
        {
          "output_type": "stream",
          "name": "stdout",
          "text": [
            "===============**Grenada**===================\n"
          ]
        },
        {
          "output_type": "display_data",
          "data": {
            "text/plain": [
              "'DAILY VACCINATIONS RAW (Statistics):'"
            ],
            "application/vnd.google.colaboratory.intrinsic+json": {
              "type": "string"
            }
          },
          "metadata": {}
        },
        {
          "output_type": "display_data",
          "data": {
            "text/plain": [
              "count    408.000000\n",
              "mean       2.541667\n",
              "std       36.359024\n",
              "min        0.000000\n",
              "25%        0.000000\n",
              "50%        0.000000\n",
              "75%        0.000000\n",
              "max      694.000000\n",
              "Name: daily_vaccinations_raw, dtype: float64"
            ]
          },
          "metadata": {}
        },
        {
          "output_type": "stream",
          "name": "stdout",
          "text": [
            "===============**Guatemala**===================\n"
          ]
        },
        {
          "output_type": "display_data",
          "data": {
            "text/plain": [
              "'DAILY VACCINATIONS RAW (Statistics):'"
            ],
            "application/vnd.google.colaboratory.intrinsic+json": {
              "type": "string"
            }
          },
          "metadata": {}
        },
        {
          "output_type": "display_data",
          "data": {
            "text/plain": [
              "count       394.000000\n",
              "mean      34037.644670\n",
              "std       34626.283992\n",
              "min           0.000000\n",
              "25%        2194.250000\n",
              "50%       22043.500000\n",
              "75%       58513.500000\n",
              "max      132785.000000\n",
              "Name: daily_vaccinations_raw, dtype: float64"
            ]
          },
          "metadata": {}
        },
        {
          "output_type": "stream",
          "name": "stdout",
          "text": [
            "===============**Guernsey**===================\n"
          ]
        },
        {
          "output_type": "display_data",
          "data": {
            "text/plain": [
              "'DAILY VACCINATIONS RAW (Statistics):'"
            ],
            "application/vnd.google.colaboratory.intrinsic+json": {
              "type": "string"
            }
          },
          "metadata": {}
        },
        {
          "output_type": "display_data",
          "data": {
            "text/plain": [
              "count     424.000000\n",
              "mean       37.573113\n",
              "std       154.245251\n",
              "min         0.000000\n",
              "25%         0.000000\n",
              "50%         0.000000\n",
              "75%         0.000000\n",
              "max      1603.000000\n",
              "Name: daily_vaccinations_raw, dtype: float64"
            ]
          },
          "metadata": {}
        },
        {
          "output_type": "stream",
          "name": "stdout",
          "text": [
            "===============**Guinea**===================\n"
          ]
        },
        {
          "output_type": "display_data",
          "data": {
            "text/plain": [
              "'DAILY VACCINATIONS RAW (Statistics):'"
            ],
            "application/vnd.google.colaboratory.intrinsic+json": {
              "type": "string"
            }
          },
          "metadata": {}
        },
        {
          "output_type": "display_data",
          "data": {
            "text/plain": [
              "count       368.000000\n",
              "mean       4310.888587\n",
              "std       19711.332274\n",
              "min           0.000000\n",
              "25%           0.000000\n",
              "50%           0.000000\n",
              "75%           0.000000\n",
              "max      298940.000000\n",
              "Name: daily_vaccinations_raw, dtype: float64"
            ]
          },
          "metadata": {}
        },
        {
          "output_type": "stream",
          "name": "stdout",
          "text": [
            "===============**Guinea-Bissau**===================\n"
          ]
        },
        {
          "output_type": "display_data",
          "data": {
            "text/plain": [
              "'DAILY VACCINATIONS RAW (Statistics):'"
            ],
            "application/vnd.google.colaboratory.intrinsic+json": {
              "type": "string"
            }
          },
          "metadata": {}
        },
        {
          "output_type": "display_data",
          "data": {
            "text/plain": [
              "count     319.000000\n",
              "mean        5.197492\n",
              "std        92.830178\n",
              "min         0.000000\n",
              "25%         0.000000\n",
              "50%         0.000000\n",
              "75%         0.000000\n",
              "max      1658.000000\n",
              "Name: daily_vaccinations_raw, dtype: float64"
            ]
          },
          "metadata": {}
        },
        {
          "output_type": "stream",
          "name": "stdout",
          "text": [
            "===============**Guyana**===================\n"
          ]
        },
        {
          "output_type": "display_data",
          "data": {
            "text/plain": [
              "'DAILY VACCINATIONS RAW (Statistics):'"
            ],
            "application/vnd.google.colaboratory.intrinsic+json": {
              "type": "string"
            }
          },
          "metadata": {}
        },
        {
          "output_type": "display_data",
          "data": {
            "text/plain": [
              "count      408.000000\n",
              "mean       355.286765\n",
              "std       2994.993601\n",
              "min          0.000000\n",
              "25%          0.000000\n",
              "50%          0.000000\n",
              "75%          0.000000\n",
              "max      58394.000000\n",
              "Name: daily_vaccinations_raw, dtype: float64"
            ]
          },
          "metadata": {}
        },
        {
          "output_type": "stream",
          "name": "stdout",
          "text": [
            "===============**Haiti**===================\n"
          ]
        },
        {
          "output_type": "display_data",
          "data": {
            "text/plain": [
              "'DAILY VACCINATIONS RAW (Statistics):'"
            ],
            "application/vnd.google.colaboratory.intrinsic+json": {
              "type": "string"
            }
          },
          "metadata": {}
        },
        {
          "output_type": "display_data",
          "data": {
            "text/plain": [
              "count      251.000000\n",
              "mean       165.151394\n",
              "std       1070.697328\n",
              "min          0.000000\n",
              "25%          0.000000\n",
              "50%          0.000000\n",
              "75%          0.000000\n",
              "max      14852.000000\n",
              "Name: daily_vaccinations_raw, dtype: float64"
            ]
          },
          "metadata": {}
        },
        {
          "output_type": "stream",
          "name": "stdout",
          "text": [
            "===============**Honduras**===================\n"
          ]
        },
        {
          "output_type": "display_data",
          "data": {
            "text/plain": [
              "'DAILY VACCINATIONS RAW (Statistics):'"
            ],
            "application/vnd.google.colaboratory.intrinsic+json": {
              "type": "string"
            }
          },
          "metadata": {}
        },
        {
          "output_type": "display_data",
          "data": {
            "text/plain": [
              "count      391.000000\n",
              "mean       585.744246\n",
              "std       5304.073449\n",
              "min          0.000000\n",
              "25%          0.000000\n",
              "50%          0.000000\n",
              "75%          0.000000\n",
              "max      81065.000000\n",
              "Name: daily_vaccinations_raw, dtype: float64"
            ]
          },
          "metadata": {}
        },
        {
          "output_type": "stream",
          "name": "stdout",
          "text": [
            "===============**Hong Kong**===================\n"
          ]
        },
        {
          "output_type": "display_data",
          "data": {
            "text/plain": [
              "'DAILY VACCINATIONS RAW (Statistics):'"
            ],
            "application/vnd.google.colaboratory.intrinsic+json": {
              "type": "string"
            }
          },
          "metadata": {}
        },
        {
          "output_type": "display_data",
          "data": {
            "text/plain": [
              "count       399.000000\n",
              "mean      37410.498747\n",
              "std       23379.935123\n",
              "min           0.000000\n",
              "25%       16814.500000\n",
              "50%       36258.000000\n",
              "75%       56523.500000\n",
              "max      102021.000000\n",
              "Name: daily_vaccinations_raw, dtype: float64"
            ]
          },
          "metadata": {}
        },
        {
          "output_type": "stream",
          "name": "stdout",
          "text": [
            "===============**Hungary**===================\n"
          ]
        },
        {
          "output_type": "display_data",
          "data": {
            "text/plain": [
              "'DAILY VACCINATIONS RAW (Statistics):'"
            ],
            "application/vnd.google.colaboratory.intrinsic+json": {
              "type": "string"
            }
          },
          "metadata": {}
        },
        {
          "output_type": "display_data",
          "data": {
            "text/plain": [
              "count       457.000000\n",
              "mean      18110.293217\n",
              "std       38355.146972\n",
              "min           0.000000\n",
              "25%           0.000000\n",
              "50%           0.000000\n",
              "75%        7915.000000\n",
              "max      187488.000000\n",
              "Name: daily_vaccinations_raw, dtype: float64"
            ]
          },
          "metadata": {}
        },
        {
          "output_type": "stream",
          "name": "stdout",
          "text": [
            "===============**Iceland**===================\n"
          ]
        },
        {
          "output_type": "display_data",
          "data": {
            "text/plain": [
              "'DAILY VACCINATIONS RAW (Statistics):'"
            ],
            "application/vnd.google.colaboratory.intrinsic+json": {
              "type": "string"
            }
          },
          "metadata": {}
        },
        {
          "output_type": "display_data",
          "data": {
            "text/plain": [
              "count      455.000000\n",
              "mean       568.903297\n",
              "std       2405.565013\n",
              "min          0.000000\n",
              "25%          0.000000\n",
              "50%          0.000000\n",
              "75%          0.000000\n",
              "max      21266.000000\n",
              "Name: daily_vaccinations_raw, dtype: float64"
            ]
          },
          "metadata": {}
        },
        {
          "output_type": "stream",
          "name": "stdout",
          "text": [
            "===============**India**===================\n"
          ]
        },
        {
          "output_type": "display_data",
          "data": {
            "text/plain": [
              "'DAILY VACCINATIONS RAW (Statistics):'"
            ],
            "application/vnd.google.colaboratory.intrinsic+json": {
              "type": "string"
            }
          },
          "metadata": {}
        },
        {
          "output_type": "display_data",
          "data": {
            "text/plain": [
              "count    4.390000e+02\n",
              "mean     4.020994e+06\n",
              "std      3.279795e+06\n",
              "min      0.000000e+00\n",
              "25%      1.521324e+06\n",
              "50%      3.279790e+06\n",
              "75%      5.992789e+06\n",
              "max      1.862727e+07\n",
              "Name: daily_vaccinations_raw, dtype: float64"
            ]
          },
          "metadata": {}
        },
        {
          "output_type": "stream",
          "name": "stdout",
          "text": [
            "===============**Indonesia**===================\n"
          ]
        },
        {
          "output_type": "display_data",
          "data": {
            "text/plain": [
              "'DAILY VACCINATIONS RAW (Statistics):'"
            ],
            "application/vnd.google.colaboratory.intrinsic+json": {
              "type": "string"
            }
          },
          "metadata": {}
        },
        {
          "output_type": "display_data",
          "data": {
            "text/plain": [
              "count    4.420000e+02\n",
              "mean     7.092473e+05\n",
              "std      6.936579e+05\n",
              "min      0.000000e+00\n",
              "25%      7.979375e+04\n",
              "50%      4.917005e+05\n",
              "75%      1.205485e+06\n",
              "max      2.952259e+06\n",
              "Name: daily_vaccinations_raw, dtype: float64"
            ]
          },
          "metadata": {}
        },
        {
          "output_type": "stream",
          "name": "stdout",
          "text": [
            "===============**Iran**===================\n"
          ]
        },
        {
          "output_type": "display_data",
          "data": {
            "text/plain": [
              "'DAILY VACCINATIONS RAW (Statistics):'"
            ],
            "application/vnd.google.colaboratory.intrinsic+json": {
              "type": "string"
            }
          },
          "metadata": {}
        },
        {
          "output_type": "display_data",
          "data": {
            "text/plain": [
              "count    4.150000e+02\n",
              "mean     4.591636e+04\n",
              "std      1.494088e+05\n",
              "min      0.000000e+00\n",
              "25%      0.000000e+00\n",
              "50%      0.000000e+00\n",
              "75%      0.000000e+00\n",
              "max      1.706088e+06\n",
              "Name: daily_vaccinations_raw, dtype: float64"
            ]
          },
          "metadata": {}
        },
        {
          "output_type": "stream",
          "name": "stdout",
          "text": [
            "===============**Iraq**===================\n"
          ]
        },
        {
          "output_type": "display_data",
          "data": {
            "text/plain": [
              "'DAILY VACCINATIONS RAW (Statistics):'"
            ],
            "application/vnd.google.colaboratory.intrinsic+json": {
              "type": "string"
            }
          },
          "metadata": {}
        },
        {
          "output_type": "display_data",
          "data": {
            "text/plain": [
              "count     388.000000\n",
              "mean       25.734536\n",
              "std       506.911573\n",
              "min         0.000000\n",
              "25%         0.000000\n",
              "50%         0.000000\n",
              "75%         0.000000\n",
              "max      9985.000000\n",
              "Name: daily_vaccinations_raw, dtype: float64"
            ]
          },
          "metadata": {}
        },
        {
          "output_type": "stream",
          "name": "stdout",
          "text": [
            "===============**Ireland**===================\n"
          ]
        },
        {
          "output_type": "display_data",
          "data": {
            "text/plain": [
              "'DAILY VACCINATIONS RAW (Statistics):'"
            ],
            "application/vnd.google.colaboratory.intrinsic+json": {
              "type": "string"
            }
          },
          "metadata": {}
        },
        {
          "output_type": "display_data",
          "data": {
            "text/plain": [
              "count       456.000000\n",
              "mean      23448.885965\n",
              "std       20416.413419\n",
              "min           0.000000\n",
              "25%        8115.750000\n",
              "50%       16647.000000\n",
              "75%       35617.250000\n",
              "max      135354.000000\n",
              "Name: daily_vaccinations_raw, dtype: float64"
            ]
          },
          "metadata": {}
        },
        {
          "output_type": "stream",
          "name": "stdout",
          "text": [
            "===============**Isle of Man**===================\n"
          ]
        },
        {
          "output_type": "display_data",
          "data": {
            "text/plain": [
              "'DAILY VACCINATIONS RAW (Statistics):'"
            ],
            "application/vnd.google.colaboratory.intrinsic+json": {
              "type": "string"
            }
          },
          "metadata": {}
        },
        {
          "output_type": "display_data",
          "data": {
            "text/plain": [
              "count     433.000000\n",
              "mean      215.244804\n",
              "std       389.086716\n",
              "min         0.000000\n",
              "25%         0.000000\n",
              "50%         0.000000\n",
              "75%       288.000000\n",
              "max      2140.000000\n",
              "Name: daily_vaccinations_raw, dtype: float64"
            ]
          },
          "metadata": {}
        },
        {
          "output_type": "stream",
          "name": "stdout",
          "text": [
            "===============**Israel**===================\n"
          ]
        },
        {
          "output_type": "display_data",
          "data": {
            "text/plain": [
              "'DAILY VACCINATIONS RAW (Statistics):'"
            ],
            "application/vnd.google.colaboratory.intrinsic+json": {
              "type": "string"
            }
          },
          "metadata": {}
        },
        {
          "output_type": "display_data",
          "data": {
            "text/plain": [
              "count       466.000000\n",
              "mean      38761.339056\n",
              "std       48064.593899\n",
              "min           0.000000\n",
              "25%        6102.000000\n",
              "50%       14974.500000\n",
              "75%       59253.250000\n",
              "max      234351.000000\n",
              "Name: daily_vaccinations_raw, dtype: float64"
            ]
          },
          "metadata": {}
        },
        {
          "output_type": "stream",
          "name": "stdout",
          "text": [
            "===============**Italy**===================\n"
          ]
        },
        {
          "output_type": "display_data",
          "data": {
            "text/plain": [
              "'DAILY VACCINATIONS RAW (Statistics):'"
            ],
            "application/vnd.google.colaboratory.intrinsic+json": {
              "type": "string"
            }
          },
          "metadata": {}
        },
        {
          "output_type": "display_data",
          "data": {
            "text/plain": [
              "count       458.000000\n",
              "mean     296645.240175\n",
              "std      195188.545367\n",
              "min           0.000000\n",
              "25%      127852.000000\n",
              "50%      251828.000000\n",
              "75%      480105.750000\n",
              "max      725775.000000\n",
              "Name: daily_vaccinations_raw, dtype: float64"
            ]
          },
          "metadata": {}
        },
        {
          "output_type": "stream",
          "name": "stdout",
          "text": [
            "===============**Jamaica**===================\n"
          ]
        },
        {
          "output_type": "display_data",
          "data": {
            "text/plain": [
              "'DAILY VACCINATIONS RAW (Statistics):'"
            ],
            "application/vnd.google.colaboratory.intrinsic+json": {
              "type": "string"
            }
          },
          "metadata": {}
        },
        {
          "output_type": "display_data",
          "data": {
            "text/plain": [
              "count      386.000000\n",
              "mean      1341.494819\n",
              "std       2989.445440\n",
              "min          0.000000\n",
              "25%          0.000000\n",
              "50%          0.000000\n",
              "75%       1716.000000\n",
              "max      29318.000000\n",
              "Name: daily_vaccinations_raw, dtype: float64"
            ]
          },
          "metadata": {}
        },
        {
          "output_type": "stream",
          "name": "stdout",
          "text": [
            "===============**Japan**===================\n"
          ]
        },
        {
          "output_type": "display_data",
          "data": {
            "text/plain": [
              "'DAILY VACCINATIONS RAW (Statistics):'"
            ],
            "application/vnd.google.colaboratory.intrinsic+json": {
              "type": "string"
            }
          },
          "metadata": {}
        },
        {
          "output_type": "display_data",
          "data": {
            "text/plain": [
              "count    4.060000e+02\n",
              "mean     4.420577e+05\n",
              "std      6.448695e+05\n",
              "min      0.000000e+00\n",
              "25%      0.000000e+00\n",
              "50%      6.952450e+04\n",
              "75%      9.161848e+05\n",
              "max      6.586453e+06\n",
              "Name: daily_vaccinations_raw, dtype: float64"
            ]
          },
          "metadata": {}
        },
        {
          "output_type": "stream",
          "name": "stdout",
          "text": [
            "===============**Jersey**===================\n"
          ]
        },
        {
          "output_type": "display_data",
          "data": {
            "text/plain": [
              "'DAILY VACCINATIONS RAW (Statistics):'"
            ],
            "application/vnd.google.colaboratory.intrinsic+json": {
              "type": "string"
            }
          },
          "metadata": {}
        },
        {
          "output_type": "display_data",
          "data": {
            "text/plain": [
              "count    372.0\n",
              "mean       0.0\n",
              "std        0.0\n",
              "min        0.0\n",
              "25%        0.0\n",
              "50%        0.0\n",
              "75%        0.0\n",
              "max        0.0\n",
              "Name: daily_vaccinations_raw, dtype: float64"
            ]
          },
          "metadata": {}
        },
        {
          "output_type": "stream",
          "name": "stdout",
          "text": [
            "===============**Jordan**===================\n"
          ]
        },
        {
          "output_type": "display_data",
          "data": {
            "text/plain": [
              "'DAILY VACCINATIONS RAW (Statistics):'"
            ],
            "application/vnd.google.colaboratory.intrinsic+json": {
              "type": "string"
            }
          },
          "metadata": {}
        },
        {
          "output_type": "display_data",
          "data": {
            "text/plain": [
              "count       423.000000\n",
              "mean      10071.848700\n",
              "std       21325.935052\n",
              "min           0.000000\n",
              "25%           0.000000\n",
              "50%           0.000000\n",
              "75%       14477.500000\n",
              "max      185322.000000\n",
              "Name: daily_vaccinations_raw, dtype: float64"
            ]
          },
          "metadata": {}
        },
        {
          "output_type": "stream",
          "name": "stdout",
          "text": [
            "===============**Kazakhstan**===================\n"
          ]
        },
        {
          "output_type": "display_data",
          "data": {
            "text/plain": [
              "'DAILY VACCINATIONS RAW (Statistics):'"
            ],
            "application/vnd.google.colaboratory.intrinsic+json": {
              "type": "string"
            }
          },
          "metadata": {}
        },
        {
          "output_type": "display_data",
          "data": {
            "text/plain": [
              "count    4.230000e+02\n",
              "mean     4.410397e+04\n",
              "std      1.118618e+05\n",
              "min      0.000000e+00\n",
              "25%      0.000000e+00\n",
              "50%      2.314100e+04\n",
              "75%      6.332000e+04\n",
              "max      2.118887e+06\n",
              "Name: daily_vaccinations_raw, dtype: float64"
            ]
          },
          "metadata": {}
        },
        {
          "output_type": "stream",
          "name": "stdout",
          "text": [
            "===============**Kenya**===================\n"
          ]
        },
        {
          "output_type": "display_data",
          "data": {
            "text/plain": [
              "'DAILY VACCINATIONS RAW (Statistics):'"
            ],
            "application/vnd.google.colaboratory.intrinsic+json": {
              "type": "string"
            }
          },
          "metadata": {}
        },
        {
          "output_type": "display_data",
          "data": {
            "text/plain": [
              "count       381.000000\n",
              "mean      29170.039370\n",
              "std       50568.939807\n",
              "min           0.000000\n",
              "25%           0.000000\n",
              "50%        3192.000000\n",
              "75%       43219.000000\n",
              "max      282646.000000\n",
              "Name: daily_vaccinations_raw, dtype: float64"
            ]
          },
          "metadata": {}
        },
        {
          "output_type": "stream",
          "name": "stdout",
          "text": [
            "===============**Kiribati**===================\n"
          ]
        },
        {
          "output_type": "display_data",
          "data": {
            "text/plain": [
              "'DAILY VACCINATIONS RAW (Statistics):'"
            ],
            "application/vnd.google.colaboratory.intrinsic+json": {
              "type": "string"
            }
          },
          "metadata": {}
        },
        {
          "output_type": "display_data",
          "data": {
            "text/plain": [
              "count    294.0\n",
              "mean       0.0\n",
              "std        0.0\n",
              "min        0.0\n",
              "25%        0.0\n",
              "50%        0.0\n",
              "75%        0.0\n",
              "max        0.0\n",
              "Name: daily_vaccinations_raw, dtype: float64"
            ]
          },
          "metadata": {}
        },
        {
          "output_type": "stream",
          "name": "stdout",
          "text": [
            "===============**Kosovo**===================\n"
          ]
        },
        {
          "output_type": "display_data",
          "data": {
            "text/plain": [
              "'DAILY VACCINATIONS RAW (Statistics):'"
            ],
            "application/vnd.google.colaboratory.intrinsic+json": {
              "type": "string"
            }
          },
          "metadata": {}
        },
        {
          "output_type": "display_data",
          "data": {
            "text/plain": [
              "count      367.000000\n",
              "mean      3640.103542\n",
              "std       6004.525226\n",
              "min          0.000000\n",
              "25%          0.000000\n",
              "50%        288.000000\n",
              "75%       4415.500000\n",
              "max      22668.000000\n",
              "Name: daily_vaccinations_raw, dtype: float64"
            ]
          },
          "metadata": {}
        },
        {
          "output_type": "stream",
          "name": "stdout",
          "text": [
            "===============**Kuwait**===================\n"
          ]
        },
        {
          "output_type": "display_data",
          "data": {
            "text/plain": [
              "'DAILY VACCINATIONS RAW (Statistics):'"
            ],
            "application/vnd.google.colaboratory.intrinsic+json": {
              "type": "string"
            }
          },
          "metadata": {}
        },
        {
          "output_type": "display_data",
          "data": {
            "text/plain": [
              "count      452.000000\n",
              "mean        68.422566\n",
              "std       1054.224260\n",
              "min          0.000000\n",
              "25%          0.000000\n",
              "50%          0.000000\n",
              "75%          0.000000\n",
              "max      19007.000000\n",
              "Name: daily_vaccinations_raw, dtype: float64"
            ]
          },
          "metadata": {}
        },
        {
          "output_type": "stream",
          "name": "stdout",
          "text": [
            "===============**Kyrgyzstan**===================\n"
          ]
        },
        {
          "output_type": "display_data",
          "data": {
            "text/plain": [
              "'DAILY VACCINATIONS RAW (Statistics):'"
            ],
            "application/vnd.google.colaboratory.intrinsic+json": {
              "type": "string"
            }
          },
          "metadata": {}
        },
        {
          "output_type": "display_data",
          "data": {
            "text/plain": [
              "count      367.000000\n",
              "mean      6011.051771\n",
              "std       6709.654787\n",
              "min          0.000000\n",
              "25%          0.000000\n",
              "50%       4577.000000\n",
              "75%      10844.000000\n",
              "max      34472.000000\n",
              "Name: daily_vaccinations_raw, dtype: float64"
            ]
          },
          "metadata": {}
        },
        {
          "output_type": "stream",
          "name": "stdout",
          "text": [
            "===============**Laos**===================\n"
          ]
        },
        {
          "output_type": "display_data",
          "data": {
            "text/plain": [
              "'DAILY VACCINATIONS RAW (Statistics):'"
            ],
            "application/vnd.google.colaboratory.intrinsic+json": {
              "type": "string"
            }
          },
          "metadata": {}
        },
        {
          "output_type": "display_data",
          "data": {
            "text/plain": [
              "count       377.000000\n",
              "mean       5010.193634\n",
              "std       35556.045965\n",
              "min           0.000000\n",
              "25%           0.000000\n",
              "50%           0.000000\n",
              "75%           0.000000\n",
              "max      662440.000000\n",
              "Name: daily_vaccinations_raw, dtype: float64"
            ]
          },
          "metadata": {}
        },
        {
          "output_type": "stream",
          "name": "stdout",
          "text": [
            "===============**Latvia**===================\n"
          ]
        },
        {
          "output_type": "display_data",
          "data": {
            "text/plain": [
              "'DAILY VACCINATIONS RAW (Statistics):'"
            ],
            "application/vnd.google.colaboratory.intrinsic+json": {
              "type": "string"
            }
          },
          "metadata": {}
        },
        {
          "output_type": "display_data",
          "data": {
            "text/plain": [
              "count      480.000000\n",
              "mean      5988.152083\n",
              "std       5675.611783\n",
              "min          0.000000\n",
              "25%       1148.250000\n",
              "50%       4723.000000\n",
              "75%       9553.500000\n",
              "max      24845.000000\n",
              "Name: daily_vaccinations_raw, dtype: float64"
            ]
          },
          "metadata": {}
        },
        {
          "output_type": "stream",
          "name": "stdout",
          "text": [
            "===============**Lebanon**===================\n"
          ]
        },
        {
          "output_type": "display_data",
          "data": {
            "text/plain": [
              "'DAILY VACCINATIONS RAW (Statistics):'"
            ],
            "application/vnd.google.colaboratory.intrinsic+json": {
              "type": "string"
            }
          },
          "metadata": {}
        },
        {
          "output_type": "display_data",
          "data": {
            "text/plain": [
              "count       410.000000\n",
              "mean      11766.292683\n",
              "std       17776.476727\n",
              "min           0.000000\n",
              "25%        1953.500000\n",
              "50%        8102.500000\n",
              "75%       17163.750000\n",
              "max      285437.000000\n",
              "Name: daily_vaccinations_raw, dtype: float64"
            ]
          },
          "metadata": {}
        },
        {
          "output_type": "stream",
          "name": "stdout",
          "text": [
            "===============**Lesotho**===================\n"
          ]
        },
        {
          "output_type": "display_data",
          "data": {
            "text/plain": [
              "'DAILY VACCINATIONS RAW (Statistics):'"
            ],
            "application/vnd.google.colaboratory.intrinsic+json": {
              "type": "string"
            }
          },
          "metadata": {}
        },
        {
          "output_type": "display_data",
          "data": {
            "text/plain": [
              "count    379.0\n",
              "mean       0.0\n",
              "std        0.0\n",
              "min        0.0\n",
              "25%        0.0\n",
              "50%        0.0\n",
              "75%        0.0\n",
              "max        0.0\n",
              "Name: daily_vaccinations_raw, dtype: float64"
            ]
          },
          "metadata": {}
        },
        {
          "output_type": "stream",
          "name": "stdout",
          "text": [
            "===============**Liberia**===================\n"
          ]
        },
        {
          "output_type": "display_data",
          "data": {
            "text/plain": [
              "'DAILY VACCINATIONS RAW (Statistics):'"
            ],
            "application/vnd.google.colaboratory.intrinsic+json": {
              "type": "string"
            }
          },
          "metadata": {}
        },
        {
          "output_type": "display_data",
          "data": {
            "text/plain": [
              "count     318.000000\n",
              "mean       31.726415\n",
              "std       473.332655\n",
              "min         0.000000\n",
              "25%         0.000000\n",
              "50%         0.000000\n",
              "75%         0.000000\n",
              "max      8242.000000\n",
              "Name: daily_vaccinations_raw, dtype: float64"
            ]
          },
          "metadata": {}
        },
        {
          "output_type": "stream",
          "name": "stdout",
          "text": [
            "===============**Libya**===================\n"
          ]
        },
        {
          "output_type": "display_data",
          "data": {
            "text/plain": [
              "'DAILY VACCINATIONS RAW (Statistics):'"
            ],
            "application/vnd.google.colaboratory.intrinsic+json": {
              "type": "string"
            }
          },
          "metadata": {}
        },
        {
          "output_type": "display_data",
          "data": {
            "text/plain": [
              "count      342.000000\n",
              "mean       586.710526\n",
              "std       3334.054804\n",
              "min          0.000000\n",
              "25%          0.000000\n",
              "50%          0.000000\n",
              "75%          0.000000\n",
              "max      48231.000000\n",
              "Name: daily_vaccinations_raw, dtype: float64"
            ]
          },
          "metadata": {}
        },
        {
          "output_type": "stream",
          "name": "stdout",
          "text": [
            "===============**Liechtenstein**===================\n"
          ]
        },
        {
          "output_type": "display_data",
          "data": {
            "text/plain": [
              "'DAILY VACCINATIONS RAW (Statistics):'"
            ],
            "application/vnd.google.colaboratory.intrinsic+json": {
              "type": "string"
            }
          },
          "metadata": {}
        },
        {
          "output_type": "display_data",
          "data": {
            "text/plain": [
              "count    463.00000\n",
              "mean     152.12527\n",
              "std      212.17242\n",
              "min        0.00000\n",
              "25%        0.00000\n",
              "50%       20.00000\n",
              "75%      260.00000\n",
              "max      973.00000\n",
              "Name: daily_vaccinations_raw, dtype: float64"
            ]
          },
          "metadata": {}
        },
        {
          "output_type": "stream",
          "name": "stdout",
          "text": [
            "===============**Lithuania**===================\n"
          ]
        },
        {
          "output_type": "display_data",
          "data": {
            "text/plain": [
              "'DAILY VACCINATIONS RAW (Statistics):'"
            ],
            "application/vnd.google.colaboratory.intrinsic+json": {
              "type": "string"
            }
          },
          "metadata": {}
        },
        {
          "output_type": "display_data",
          "data": {
            "text/plain": [
              "count      458.000000\n",
              "mean      9745.310044\n",
              "std       9158.358307\n",
              "min          0.000000\n",
              "25%       1218.500000\n",
              "50%       7945.000000\n",
              "75%      15786.250000\n",
              "max      41196.000000\n",
              "Name: daily_vaccinations_raw, dtype: float64"
            ]
          },
          "metadata": {}
        },
        {
          "output_type": "stream",
          "name": "stdout",
          "text": [
            "===============**Luxembourg**===================\n"
          ]
        },
        {
          "output_type": "display_data",
          "data": {
            "text/plain": [
              "'DAILY VACCINATIONS RAW (Statistics):'"
            ],
            "application/vnd.google.colaboratory.intrinsic+json": {
              "type": "string"
            }
          },
          "metadata": {}
        },
        {
          "output_type": "display_data",
          "data": {
            "text/plain": [
              "count     454.000000\n",
              "mean     2621.506608\n",
              "std      2743.475106\n",
              "min         0.000000\n",
              "25%       143.500000\n",
              "50%      1427.000000\n",
              "75%      4434.750000\n",
              "max      9891.000000\n",
              "Name: daily_vaccinations_raw, dtype: float64"
            ]
          },
          "metadata": {}
        },
        {
          "output_type": "stream",
          "name": "stdout",
          "text": [
            "===============**Macao**===================\n"
          ]
        },
        {
          "output_type": "display_data",
          "data": {
            "text/plain": [
              "'DAILY VACCINATIONS RAW (Statistics):'"
            ],
            "application/vnd.google.colaboratory.intrinsic+json": {
              "type": "string"
            }
          },
          "metadata": {}
        },
        {
          "output_type": "display_data",
          "data": {
            "text/plain": [
              "count     414.000000\n",
              "mean     1798.794686\n",
              "std      2059.685267\n",
              "min         0.000000\n",
              "25%         0.000000\n",
              "50%      1222.000000\n",
              "75%      2916.250000\n",
              "max      7758.000000\n",
              "Name: daily_vaccinations_raw, dtype: float64"
            ]
          },
          "metadata": {}
        },
        {
          "output_type": "stream",
          "name": "stdout",
          "text": [
            "===============**Madagascar**===================\n"
          ]
        },
        {
          "output_type": "display_data",
          "data": {
            "text/plain": [
              "'DAILY VACCINATIONS RAW (Statistics):'"
            ],
            "application/vnd.google.colaboratory.intrinsic+json": {
              "type": "string"
            }
          },
          "metadata": {}
        },
        {
          "output_type": "display_data",
          "data": {
            "text/plain": [
              "count      315.000000\n",
              "mean        42.996825\n",
              "std        763.117948\n",
              "min          0.000000\n",
              "25%          0.000000\n",
              "50%          0.000000\n",
              "75%          0.000000\n",
              "max      13544.000000\n",
              "Name: daily_vaccinations_raw, dtype: float64"
            ]
          },
          "metadata": {}
        },
        {
          "output_type": "stream",
          "name": "stdout",
          "text": [
            "===============**Malawi**===================\n"
          ]
        },
        {
          "output_type": "display_data",
          "data": {
            "text/plain": [
              "'DAILY VACCINATIONS RAW (Statistics):'"
            ],
            "application/vnd.google.colaboratory.intrinsic+json": {
              "type": "string"
            }
          },
          "metadata": {}
        },
        {
          "output_type": "display_data",
          "data": {
            "text/plain": [
              "count      362.000000\n",
              "mean      3536.019337\n",
              "std       6007.761268\n",
              "min          0.000000\n",
              "25%          0.000000\n",
              "50%        430.000000\n",
              "75%       5354.750000\n",
              "max      55787.000000\n",
              "Name: daily_vaccinations_raw, dtype: float64"
            ]
          },
          "metadata": {}
        },
        {
          "output_type": "stream",
          "name": "stdout",
          "text": [
            "===============**Malaysia**===================\n"
          ]
        },
        {
          "output_type": "display_data",
          "data": {
            "text/plain": [
              "'DAILY VACCINATIONS RAW (Statistics):'"
            ],
            "application/vnd.google.colaboratory.intrinsic+json": {
              "type": "string"
            }
          },
          "metadata": {}
        },
        {
          "output_type": "display_data",
          "data": {
            "text/plain": [
              "count       399.000000\n",
              "mean     172418.523810\n",
              "std      148204.128285\n",
              "min           0.000000\n",
              "25%       46860.000000\n",
              "50%      135084.000000\n",
              "75%      248445.000000\n",
              "max      582544.000000\n",
              "Name: daily_vaccinations_raw, dtype: float64"
            ]
          },
          "metadata": {}
        },
        {
          "output_type": "stream",
          "name": "stdout",
          "text": [
            "===============**Maldives**===================\n"
          ]
        },
        {
          "output_type": "display_data",
          "data": {
            "text/plain": [
              "'DAILY VACCINATIONS RAW (Statistics):'"
            ],
            "application/vnd.google.colaboratory.intrinsic+json": {
              "type": "string"
            }
          },
          "metadata": {}
        },
        {
          "output_type": "display_data",
          "data": {
            "text/plain": [
              "count      404.000000\n",
              "mean      1927.061881\n",
              "std       2377.692708\n",
              "min          0.000000\n",
              "25%          0.000000\n",
              "50%        951.000000\n",
              "75%       2870.000000\n",
              "max      11474.000000\n",
              "Name: daily_vaccinations_raw, dtype: float64"
            ]
          },
          "metadata": {}
        },
        {
          "output_type": "stream",
          "name": "stdout",
          "text": [
            "===============**Mali**===================\n"
          ]
        },
        {
          "output_type": "display_data",
          "data": {
            "text/plain": [
              "'DAILY VACCINATIONS RAW (Statistics):'"
            ],
            "application/vnd.google.colaboratory.intrinsic+json": {
              "type": "string"
            }
          },
          "metadata": {}
        },
        {
          "output_type": "display_data",
          "data": {
            "text/plain": [
              "count    361.0\n",
              "mean       0.0\n",
              "std        0.0\n",
              "min        0.0\n",
              "25%        0.0\n",
              "50%        0.0\n",
              "75%        0.0\n",
              "max        0.0\n",
              "Name: daily_vaccinations_raw, dtype: float64"
            ]
          },
          "metadata": {}
        },
        {
          "output_type": "stream",
          "name": "stdout",
          "text": [
            "===============**Malta**===================\n"
          ]
        },
        {
          "output_type": "display_data",
          "data": {
            "text/plain": [
              "'DAILY VACCINATIONS RAW (Statistics):'"
            ],
            "application/vnd.google.colaboratory.intrinsic+json": {
              "type": "string"
            }
          },
          "metadata": {}
        },
        {
          "output_type": "display_data",
          "data": {
            "text/plain": [
              "count      436.000000\n",
              "mean      2794.768349\n",
              "std       2182.018138\n",
              "min          0.000000\n",
              "25%       1110.500000\n",
              "50%       2282.500000\n",
              "75%       3932.000000\n",
              "max      10656.000000\n",
              "Name: daily_vaccinations_raw, dtype: float64"
            ]
          },
          "metadata": {}
        },
        {
          "output_type": "stream",
          "name": "stdout",
          "text": [
            "===============**Mauritania**===================\n"
          ]
        },
        {
          "output_type": "display_data",
          "data": {
            "text/plain": [
              "'DAILY VACCINATIONS RAW (Statistics):'"
            ],
            "application/vnd.google.colaboratory.intrinsic+json": {
              "type": "string"
            }
          },
          "metadata": {}
        },
        {
          "output_type": "display_data",
          "data": {
            "text/plain": [
              "count      362.000000\n",
              "mean        68.118785\n",
              "std        670.796430\n",
              "min          0.000000\n",
              "25%          0.000000\n",
              "50%          0.000000\n",
              "75%          0.000000\n",
              "max      10385.000000\n",
              "Name: daily_vaccinations_raw, dtype: float64"
            ]
          },
          "metadata": {}
        },
        {
          "output_type": "stream",
          "name": "stdout",
          "text": [
            "===============**Mauritius**===================\n"
          ]
        },
        {
          "output_type": "display_data",
          "data": {
            "text/plain": [
              "'DAILY VACCINATIONS RAW (Statistics):'"
            ],
            "application/vnd.google.colaboratory.intrinsic+json": {
              "type": "string"
            }
          },
          "metadata": {}
        },
        {
          "output_type": "display_data",
          "data": {
            "text/plain": [
              "count      413.000000\n",
              "mean        85.116223\n",
              "std       1729.766047\n",
              "min          0.000000\n",
              "25%          0.000000\n",
              "50%          0.000000\n",
              "75%          0.000000\n",
              "max      35153.000000\n",
              "Name: daily_vaccinations_raw, dtype: float64"
            ]
          },
          "metadata": {}
        },
        {
          "output_type": "stream",
          "name": "stdout",
          "text": [
            "===============**Mexico**===================\n"
          ]
        },
        {
          "output_type": "display_data",
          "data": {
            "text/plain": [
              "'DAILY VACCINATIONS RAW (Statistics):'"
            ],
            "application/vnd.google.colaboratory.intrinsic+json": {
              "type": "string"
            }
          },
          "metadata": {}
        },
        {
          "output_type": "display_data",
          "data": {
            "text/plain": [
              "count    4.610000e+02\n",
              "mean     3.267579e+05\n",
              "std      5.645141e+05\n",
              "min      0.000000e+00\n",
              "25%      0.000000e+00\n",
              "50%      1.974460e+05\n",
              "75%      4.952740e+05\n",
              "max      7.246123e+06\n",
              "Name: daily_vaccinations_raw, dtype: float64"
            ]
          },
          "metadata": {}
        },
        {
          "output_type": "stream",
          "name": "stdout",
          "text": [
            "===============**Moldova**===================\n"
          ]
        },
        {
          "output_type": "display_data",
          "data": {
            "text/plain": [
              "'DAILY VACCINATIONS RAW (Statistics):'"
            ],
            "application/vnd.google.colaboratory.intrinsic+json": {
              "type": "string"
            }
          },
          "metadata": {}
        },
        {
          "output_type": "display_data",
          "data": {
            "text/plain": [
              "count      390.000000\n",
              "mean      3421.989744\n",
              "std       5368.799838\n",
              "min          0.000000\n",
              "25%          0.000000\n",
              "50%        493.500000\n",
              "75%       5235.750000\n",
              "max      45233.000000\n",
              "Name: daily_vaccinations_raw, dtype: float64"
            ]
          },
          "metadata": {}
        },
        {
          "output_type": "stream",
          "name": "stdout",
          "text": [
            "===============**Monaco**===================\n"
          ]
        },
        {
          "output_type": "display_data",
          "data": {
            "text/plain": [
              "'DAILY VACCINATIONS RAW (Statistics):'"
            ],
            "application/vnd.google.colaboratory.intrinsic+json": {
              "type": "string"
            }
          },
          "metadata": {}
        },
        {
          "output_type": "display_data",
          "data": {
            "text/plain": [
              "count    357.0\n",
              "mean       0.0\n",
              "std        0.0\n",
              "min        0.0\n",
              "25%        0.0\n",
              "50%        0.0\n",
              "75%        0.0\n",
              "max        0.0\n",
              "Name: daily_vaccinations_raw, dtype: float64"
            ]
          },
          "metadata": {}
        },
        {
          "output_type": "stream",
          "name": "stdout",
          "text": [
            "===============**Mongolia**===================\n"
          ]
        },
        {
          "output_type": "display_data",
          "data": {
            "text/plain": [
              "'DAILY VACCINATIONS RAW (Statistics):'"
            ],
            "application/vnd.google.colaboratory.intrinsic+json": {
              "type": "string"
            }
          },
          "metadata": {}
        },
        {
          "output_type": "display_data",
          "data": {
            "text/plain": [
              "count       401.000000\n",
              "mean      11003.069825\n",
              "std       46725.160403\n",
              "min           0.000000\n",
              "25%           0.000000\n",
              "50%         488.000000\n",
              "75%        5989.000000\n",
              "max      827202.000000\n",
              "Name: daily_vaccinations_raw, dtype: float64"
            ]
          },
          "metadata": {}
        },
        {
          "output_type": "stream",
          "name": "stdout",
          "text": [
            "===============**Montenegro**===================\n"
          ]
        },
        {
          "output_type": "display_data",
          "data": {
            "text/plain": [
              "'DAILY VACCINATIONS RAW (Statistics):'"
            ],
            "application/vnd.google.colaboratory.intrinsic+json": {
              "type": "string"
            }
          },
          "metadata": {}
        },
        {
          "output_type": "display_data",
          "data": {
            "text/plain": [
              "count      403.000000\n",
              "mean      1489.178660\n",
              "std       3917.601602\n",
              "min          0.000000\n",
              "25%        155.000000\n",
              "50%        868.000000\n",
              "75%       1922.500000\n",
              "max      69811.000000\n",
              "Name: daily_vaccinations_raw, dtype: float64"
            ]
          },
          "metadata": {}
        },
        {
          "output_type": "stream",
          "name": "stdout",
          "text": [
            "===============**Montserrat**===================\n"
          ]
        },
        {
          "output_type": "display_data",
          "data": {
            "text/plain": [
              "'DAILY VACCINATIONS RAW (Statistics):'"
            ],
            "application/vnd.google.colaboratory.intrinsic+json": {
              "type": "string"
            }
          },
          "metadata": {}
        },
        {
          "output_type": "display_data",
          "data": {
            "text/plain": [
              "count    411.0\n",
              "mean       0.0\n",
              "std        0.0\n",
              "min        0.0\n",
              "25%        0.0\n",
              "50%        0.0\n",
              "75%        0.0\n",
              "max        0.0\n",
              "Name: daily_vaccinations_raw, dtype: float64"
            ]
          },
          "metadata": {}
        },
        {
          "output_type": "stream",
          "name": "stdout",
          "text": [
            "===============**Morocco**===================\n"
          ]
        },
        {
          "output_type": "display_data",
          "data": {
            "text/plain": [
              "'DAILY VACCINATIONS RAW (Statistics):'"
            ],
            "application/vnd.google.colaboratory.intrinsic+json": {
              "type": "string"
            }
          },
          "metadata": {}
        },
        {
          "output_type": "display_data",
          "data": {
            "text/plain": [
              "count       420.000000\n",
              "mean      65252.504762\n",
              "std      133112.435182\n",
              "min           0.000000\n",
              "25%           0.000000\n",
              "50%           0.000000\n",
              "75%       68995.500000\n",
              "max      898916.000000\n",
              "Name: daily_vaccinations_raw, dtype: float64"
            ]
          },
          "metadata": {}
        },
        {
          "output_type": "stream",
          "name": "stdout",
          "text": [
            "===============**Mozambique**===================\n"
          ]
        },
        {
          "output_type": "display_data",
          "data": {
            "text/plain": [
              "'DAILY VACCINATIONS RAW (Statistics):'"
            ],
            "application/vnd.google.colaboratory.intrinsic+json": {
              "type": "string"
            }
          },
          "metadata": {}
        },
        {
          "output_type": "display_data",
          "data": {
            "text/plain": [
              "count       384.000000\n",
              "mean        770.343750\n",
              "std       15095.592912\n",
              "min           0.000000\n",
              "25%           0.000000\n",
              "50%           0.000000\n",
              "75%           0.000000\n",
              "max      295812.000000\n",
              "Name: daily_vaccinations_raw, dtype: float64"
            ]
          },
          "metadata": {}
        },
        {
          "output_type": "stream",
          "name": "stdout",
          "text": [
            "===============**Myanmar**===================\n"
          ]
        },
        {
          "output_type": "display_data",
          "data": {
            "text/plain": [
              "'DAILY VACCINATIONS RAW (Statistics):'"
            ],
            "application/vnd.google.colaboratory.intrinsic+json": {
              "type": "string"
            }
          },
          "metadata": {}
        },
        {
          "output_type": "display_data",
          "data": {
            "text/plain": [
              "count     425.000000\n",
              "mean        8.941176\n",
              "std       184.327075\n",
              "min         0.000000\n",
              "25%         0.000000\n",
              "50%         0.000000\n",
              "75%         0.000000\n",
              "max      3800.000000\n",
              "Name: daily_vaccinations_raw, dtype: float64"
            ]
          },
          "metadata": {}
        },
        {
          "output_type": "stream",
          "name": "stdout",
          "text": [
            "===============**Namibia**===================\n"
          ]
        },
        {
          "output_type": "display_data",
          "data": {
            "text/plain": [
              "'DAILY VACCINATIONS RAW (Statistics):'"
            ],
            "application/vnd.google.colaboratory.intrinsic+json": {
              "type": "string"
            }
          },
          "metadata": {}
        },
        {
          "output_type": "display_data",
          "data": {
            "text/plain": [
              "count     373.000000\n",
              "mean      629.246649\n",
              "std      1365.046505\n",
              "min         0.000000\n",
              "25%         0.000000\n",
              "50%         0.000000\n",
              "75%       283.000000\n",
              "max      9823.000000\n",
              "Name: daily_vaccinations_raw, dtype: float64"
            ]
          },
          "metadata": {}
        },
        {
          "output_type": "stream",
          "name": "stdout",
          "text": [
            "===============**Nauru**===================\n"
          ]
        },
        {
          "output_type": "display_data",
          "data": {
            "text/plain": [
              "'DAILY VACCINATIONS RAW (Statistics):'"
            ],
            "application/vnd.google.colaboratory.intrinsic+json": {
              "type": "string"
            }
          },
          "metadata": {}
        },
        {
          "output_type": "display_data",
          "data": {
            "text/plain": [
              "count    348.000000\n",
              "mean       0.482759\n",
              "std        9.005745\n",
              "min        0.000000\n",
              "25%        0.000000\n",
              "50%        0.000000\n",
              "75%        0.000000\n",
              "max      168.000000\n",
              "Name: daily_vaccinations_raw, dtype: float64"
            ]
          },
          "metadata": {}
        },
        {
          "output_type": "stream",
          "name": "stdout",
          "text": [
            "===============**Nepal**===================\n"
          ]
        },
        {
          "output_type": "display_data",
          "data": {
            "text/plain": [
              "'DAILY VACCINATIONS RAW (Statistics):'"
            ],
            "application/vnd.google.colaboratory.intrinsic+json": {
              "type": "string"
            }
          },
          "metadata": {}
        },
        {
          "output_type": "display_data",
          "data": {
            "text/plain": [
              "count       428.000000\n",
              "mean      26123.880841\n",
              "std       56649.618594\n",
              "min           0.000000\n",
              "25%           0.000000\n",
              "50%           0.000000\n",
              "75%       14563.250000\n",
              "max      312874.000000\n",
              "Name: daily_vaccinations_raw, dtype: float64"
            ]
          },
          "metadata": {}
        },
        {
          "output_type": "stream",
          "name": "stdout",
          "text": [
            "===============**Netherlands**===================\n"
          ]
        },
        {
          "output_type": "display_data",
          "data": {
            "text/plain": [
              "'DAILY VACCINATIONS RAW (Statistics):'"
            ],
            "application/vnd.google.colaboratory.intrinsic+json": {
              "type": "string"
            }
          },
          "metadata": {}
        },
        {
          "output_type": "display_data",
          "data": {
            "text/plain": [
              "count    435.0\n",
              "mean       0.0\n",
              "std        0.0\n",
              "min        0.0\n",
              "25%        0.0\n",
              "50%        0.0\n",
              "75%        0.0\n",
              "max        0.0\n",
              "Name: daily_vaccinations_raw, dtype: float64"
            ]
          },
          "metadata": {}
        },
        {
          "output_type": "stream",
          "name": "stdout",
          "text": [
            "===============**New Caledonia**===================\n"
          ]
        },
        {
          "output_type": "display_data",
          "data": {
            "text/plain": [
              "'DAILY VACCINATIONS RAW (Statistics):'"
            ],
            "application/vnd.google.colaboratory.intrinsic+json": {
              "type": "string"
            }
          },
          "metadata": {}
        },
        {
          "output_type": "display_data",
          "data": {
            "text/plain": [
              "count    420.0\n",
              "mean       0.0\n",
              "std        0.0\n",
              "min        0.0\n",
              "25%        0.0\n",
              "50%        0.0\n",
              "75%        0.0\n",
              "max        0.0\n",
              "Name: daily_vaccinations_raw, dtype: float64"
            ]
          },
          "metadata": {}
        },
        {
          "output_type": "stream",
          "name": "stdout",
          "text": [
            "===============**New Zealand**===================\n"
          ]
        },
        {
          "output_type": "display_data",
          "data": {
            "text/plain": [
              "'DAILY VACCINATIONS RAW (Statistics):'"
            ],
            "application/vnd.google.colaboratory.intrinsic+json": {
              "type": "string"
            }
          },
          "metadata": {}
        },
        {
          "output_type": "display_data",
          "data": {
            "text/plain": [
              "count       409.000000\n",
              "mean      26772.951100\n",
              "std       22854.619042\n",
              "min           0.000000\n",
              "25%        8735.000000\n",
              "50%       21456.000000\n",
              "75%       42107.000000\n",
              "max      131490.000000\n",
              "Name: daily_vaccinations_raw, dtype: float64"
            ]
          },
          "metadata": {}
        },
        {
          "output_type": "stream",
          "name": "stdout",
          "text": [
            "===============**Nicaragua**===================\n"
          ]
        },
        {
          "output_type": "display_data",
          "data": {
            "text/plain": [
              "'DAILY VACCINATIONS RAW (Statistics):'"
            ],
            "application/vnd.google.colaboratory.intrinsic+json": {
              "type": "string"
            }
          },
          "metadata": {}
        },
        {
          "output_type": "display_data",
          "data": {
            "text/plain": [
              "count    390.0\n",
              "mean       0.0\n",
              "std        0.0\n",
              "min        0.0\n",
              "25%        0.0\n",
              "50%        0.0\n",
              "75%        0.0\n",
              "max        0.0\n",
              "Name: daily_vaccinations_raw, dtype: float64"
            ]
          },
          "metadata": {}
        },
        {
          "output_type": "stream",
          "name": "stdout",
          "text": [
            "===============**Niger**===================\n"
          ]
        },
        {
          "output_type": "display_data",
          "data": {
            "text/plain": [
              "'DAILY VACCINATIONS RAW (Statistics):'"
            ],
            "application/vnd.google.colaboratory.intrinsic+json": {
              "type": "string"
            }
          },
          "metadata": {}
        },
        {
          "output_type": "display_data",
          "data": {
            "text/plain": [
              "count    362.0\n",
              "mean       0.0\n",
              "std        0.0\n",
              "min        0.0\n",
              "25%        0.0\n",
              "50%        0.0\n",
              "75%        0.0\n",
              "max        0.0\n",
              "Name: daily_vaccinations_raw, dtype: float64"
            ]
          },
          "metadata": {}
        },
        {
          "output_type": "stream",
          "name": "stdout",
          "text": [
            "===============**Nigeria**===================\n"
          ]
        },
        {
          "output_type": "display_data",
          "data": {
            "text/plain": [
              "'DAILY VACCINATIONS RAW (Statistics):'"
            ],
            "application/vnd.google.colaboratory.intrinsic+json": {
              "type": "string"
            }
          },
          "metadata": {}
        },
        {
          "output_type": "display_data",
          "data": {
            "text/plain": [
              "count       389.000000\n",
              "mean       8124.236504\n",
              "std       55944.881085\n",
              "min           0.000000\n",
              "25%           0.000000\n",
              "50%           0.000000\n",
              "75%           0.000000\n",
              "max      797209.000000\n",
              "Name: daily_vaccinations_raw, dtype: float64"
            ]
          },
          "metadata": {}
        },
        {
          "output_type": "stream",
          "name": "stdout",
          "text": [
            "===============**Niue**===================\n"
          ]
        },
        {
          "output_type": "display_data",
          "data": {
            "text/plain": [
              "'DAILY VACCINATIONS RAW (Statistics):'"
            ],
            "application/vnd.google.colaboratory.intrinsic+json": {
              "type": "string"
            }
          },
          "metadata": {}
        },
        {
          "output_type": "display_data",
          "data": {
            "text/plain": [
              "count    266.0\n",
              "mean       0.0\n",
              "std        0.0\n",
              "min        0.0\n",
              "25%        0.0\n",
              "50%        0.0\n",
              "75%        0.0\n",
              "max        0.0\n",
              "Name: daily_vaccinations_raw, dtype: float64"
            ]
          },
          "metadata": {}
        },
        {
          "output_type": "stream",
          "name": "stdout",
          "text": [
            "===============**North Macedonia**===================\n"
          ]
        },
        {
          "output_type": "display_data",
          "data": {
            "text/plain": [
              "'DAILY VACCINATIONS RAW (Statistics):'"
            ],
            "application/vnd.google.colaboratory.intrinsic+json": {
              "type": "string"
            }
          },
          "metadata": {}
        },
        {
          "output_type": "display_data",
          "data": {
            "text/plain": [
              "count      398.000000\n",
              "mean      2388.319095\n",
              "std       5520.554196\n",
              "min          0.000000\n",
              "25%          0.000000\n",
              "50%          0.000000\n",
              "75%          0.000000\n",
              "max      39207.000000\n",
              "Name: daily_vaccinations_raw, dtype: float64"
            ]
          },
          "metadata": {}
        },
        {
          "output_type": "stream",
          "name": "stdout",
          "text": [
            "===============**Northern Cyprus**===================\n"
          ]
        },
        {
          "output_type": "display_data",
          "data": {
            "text/plain": [
              "'DAILY VACCINATIONS RAW (Statistics):'"
            ],
            "application/vnd.google.colaboratory.intrinsic+json": {
              "type": "string"
            }
          },
          "metadata": {}
        },
        {
          "output_type": "display_data",
          "data": {
            "text/plain": [
              "count     317.000000\n",
              "mean        6.271293\n",
              "std        80.402600\n",
              "min         0.000000\n",
              "25%         0.000000\n",
              "50%         0.000000\n",
              "75%         0.000000\n",
              "max      1193.000000\n",
              "Name: daily_vaccinations_raw, dtype: float64"
            ]
          },
          "metadata": {}
        },
        {
          "output_type": "stream",
          "name": "stdout",
          "text": [
            "===============**Northern Ireland**===================\n"
          ]
        },
        {
          "output_type": "display_data",
          "data": {
            "text/plain": [
              "'DAILY VACCINATIONS RAW (Statistics):'"
            ],
            "application/vnd.google.colaboratory.intrinsic+json": {
              "type": "string"
            }
          },
          "metadata": {}
        },
        {
          "output_type": "display_data",
          "data": {
            "text/plain": [
              "count      443.000000\n",
              "mean      7968.079007\n",
              "std       6326.277417\n",
              "min          0.000000\n",
              "25%       2608.000000\n",
              "50%       7011.000000\n",
              "75%      11589.500000\n",
              "max      32625.000000\n",
              "Name: daily_vaccinations_raw, dtype: float64"
            ]
          },
          "metadata": {}
        },
        {
          "output_type": "stream",
          "name": "stdout",
          "text": [
            "===============**Norway**===================\n"
          ]
        },
        {
          "output_type": "display_data",
          "data": {
            "text/plain": [
              "'DAILY VACCINATIONS RAW (Statistics):'"
            ],
            "application/vnd.google.colaboratory.intrinsic+json": {
              "type": "string"
            }
          },
          "metadata": {}
        },
        {
          "output_type": "display_data",
          "data": {
            "text/plain": [
              "count       482.000000\n",
              "mean      23380.165975\n",
              "std       30020.044019\n",
              "min           0.000000\n",
              "25%        1277.750000\n",
              "50%        9846.000000\n",
              "75%       34232.250000\n",
              "max      138641.000000\n",
              "Name: daily_vaccinations_raw, dtype: float64"
            ]
          },
          "metadata": {}
        },
        {
          "output_type": "stream",
          "name": "stdout",
          "text": [
            "===============**Oman**===================\n"
          ]
        },
        {
          "output_type": "display_data",
          "data": {
            "text/plain": [
              "'DAILY VACCINATIONS RAW (Statistics):'"
            ],
            "application/vnd.google.colaboratory.intrinsic+json": {
              "type": "string"
            }
          },
          "metadata": {}
        },
        {
          "output_type": "display_data",
          "data": {
            "text/plain": [
              "count     450.000000\n",
              "mean      144.624444\n",
              "std       564.378771\n",
              "min         0.000000\n",
              "25%         0.000000\n",
              "50%         0.000000\n",
              "75%         0.000000\n",
              "max      6747.000000\n",
              "Name: daily_vaccinations_raw, dtype: float64"
            ]
          },
          "metadata": {}
        },
        {
          "output_type": "stream",
          "name": "stdout",
          "text": [
            "===============**Pakistan**===================\n"
          ]
        },
        {
          "output_type": "display_data",
          "data": {
            "text/plain": [
              "'DAILY VACCINATIONS RAW (Statistics):'"
            ],
            "application/vnd.google.colaboratory.intrinsic+json": {
              "type": "string"
            }
          },
          "metadata": {}
        },
        {
          "output_type": "display_data",
          "data": {
            "text/plain": [
              "count    4.020000e+02\n",
              "mean     2.177547e+05\n",
              "std      4.648890e+05\n",
              "min      0.000000e+00\n",
              "25%      0.000000e+00\n",
              "50%      0.000000e+00\n",
              "75%      0.000000e+00\n",
              "max      2.339218e+06\n",
              "Name: daily_vaccinations_raw, dtype: float64"
            ]
          },
          "metadata": {}
        },
        {
          "output_type": "stream",
          "name": "stdout",
          "text": [
            "===============**Palestine**===================\n"
          ]
        },
        {
          "output_type": "display_data",
          "data": {
            "text/plain": [
              "'DAILY VACCINATIONS RAW (Statistics):'"
            ],
            "application/vnd.google.colaboratory.intrinsic+json": {
              "type": "string"
            }
          },
          "metadata": {}
        },
        {
          "output_type": "display_data",
          "data": {
            "text/plain": [
              "count      360.000000\n",
              "mean      4598.902778\n",
              "std       9771.096420\n",
              "min          0.000000\n",
              "25%          0.000000\n",
              "50%          0.000000\n",
              "75%       4778.000000\n",
              "max      58442.000000\n",
              "Name: daily_vaccinations_raw, dtype: float64"
            ]
          },
          "metadata": {}
        },
        {
          "output_type": "stream",
          "name": "stdout",
          "text": [
            "===============**Panama**===================\n"
          ]
        },
        {
          "output_type": "display_data",
          "data": {
            "text/plain": [
              "'DAILY VACCINATIONS RAW (Statistics):'"
            ],
            "application/vnd.google.colaboratory.intrinsic+json": {
              "type": "string"
            }
          },
          "metadata": {}
        },
        {
          "output_type": "display_data",
          "data": {
            "text/plain": [
              "count      430.000000\n",
              "mean       538.211628\n",
              "std       2589.043435\n",
              "min          0.000000\n",
              "25%          0.000000\n",
              "50%          0.000000\n",
              "75%          0.000000\n",
              "max      27784.000000\n",
              "Name: daily_vaccinations_raw, dtype: float64"
            ]
          },
          "metadata": {}
        },
        {
          "output_type": "stream",
          "name": "stdout",
          "text": [
            "===============**Papua New Guinea**===================\n"
          ]
        },
        {
          "output_type": "display_data",
          "data": {
            "text/plain": [
              "'DAILY VACCINATIONS RAW (Statistics):'"
            ],
            "application/vnd.google.colaboratory.intrinsic+json": {
              "type": "string"
            }
          },
          "metadata": {}
        },
        {
          "output_type": "display_data",
          "data": {
            "text/plain": [
              "count    364.0\n",
              "mean       0.0\n",
              "std        0.0\n",
              "min        0.0\n",
              "25%        0.0\n",
              "50%        0.0\n",
              "75%        0.0\n",
              "max        0.0\n",
              "Name: daily_vaccinations_raw, dtype: float64"
            ]
          },
          "metadata": {}
        },
        {
          "output_type": "stream",
          "name": "stdout",
          "text": [
            "===============**Paraguay**===================\n"
          ]
        },
        {
          "output_type": "display_data",
          "data": {
            "text/plain": [
              "'DAILY VACCINATIONS RAW (Statistics):'"
            ],
            "application/vnd.google.colaboratory.intrinsic+json": {
              "type": "string"
            }
          },
          "metadata": {}
        },
        {
          "output_type": "display_data",
          "data": {
            "text/plain": [
              "count       397.000000\n",
              "mean      10341.312343\n",
              "std       23953.543621\n",
              "min           0.000000\n",
              "25%           0.000000\n",
              "50%           0.000000\n",
              "75%        7952.000000\n",
              "max      141096.000000\n",
              "Name: daily_vaccinations_raw, dtype: float64"
            ]
          },
          "metadata": {}
        },
        {
          "output_type": "stream",
          "name": "stdout",
          "text": [
            "===============**Peru**===================\n"
          ]
        },
        {
          "output_type": "display_data",
          "data": {
            "text/plain": [
              "'DAILY VACCINATIONS RAW (Statistics):'"
            ],
            "application/vnd.google.colaboratory.intrinsic+json": {
              "type": "string"
            }
          },
          "metadata": {}
        },
        {
          "output_type": "display_data",
          "data": {
            "text/plain": [
              "count       412.000000\n",
              "mean     159108.936893\n",
              "std      111608.054587\n",
              "min           0.000000\n",
              "25%       65454.750000\n",
              "50%      157822.500000\n",
              "75%      224202.500000\n",
              "max      603158.000000\n",
              "Name: daily_vaccinations_raw, dtype: float64"
            ]
          },
          "metadata": {}
        },
        {
          "output_type": "stream",
          "name": "stdout",
          "text": [
            "===============**Philippines**===================\n"
          ]
        },
        {
          "output_type": "display_data",
          "data": {
            "text/plain": [
              "'DAILY VACCINATIONS RAW (Statistics):'"
            ],
            "application/vnd.google.colaboratory.intrinsic+json": {
              "type": "string"
            }
          },
          "metadata": {}
        },
        {
          "output_type": "display_data",
          "data": {
            "text/plain": [
              "count    3.950000e+02\n",
              "mean     1.391116e+05\n",
              "std      3.112997e+05\n",
              "min      0.000000e+00\n",
              "25%      0.000000e+00\n",
              "50%      0.000000e+00\n",
              "75%      7.324250e+04\n",
              "max      2.648872e+06\n",
              "Name: daily_vaccinations_raw, dtype: float64"
            ]
          },
          "metadata": {}
        },
        {
          "output_type": "stream",
          "name": "stdout",
          "text": [
            "===============**Pitcairn**===================\n"
          ]
        },
        {
          "output_type": "display_data",
          "data": {
            "text/plain": [
              "'DAILY VACCINATIONS RAW (Statistics):'"
            ],
            "application/vnd.google.colaboratory.intrinsic+json": {
              "type": "string"
            }
          },
          "metadata": {}
        },
        {
          "output_type": "display_data",
          "data": {
            "text/plain": [
              "count    85.0\n",
              "mean      0.0\n",
              "std       0.0\n",
              "min       0.0\n",
              "25%       0.0\n",
              "50%       0.0\n",
              "75%       0.0\n",
              "max       0.0\n",
              "Name: daily_vaccinations_raw, dtype: float64"
            ]
          },
          "metadata": {}
        },
        {
          "output_type": "stream",
          "name": "stdout",
          "text": [
            "===============**Poland**===================\n"
          ]
        },
        {
          "output_type": "display_data",
          "data": {
            "text/plain": [
              "'DAILY VACCINATIONS RAW (Statistics):'"
            ],
            "application/vnd.google.colaboratory.intrinsic+json": {
              "type": "string"
            }
          },
          "metadata": {}
        },
        {
          "output_type": "display_data",
          "data": {
            "text/plain": [
              "count       457.000000\n",
              "mean      82538.326039\n",
              "std      109350.465937\n",
              "min           0.000000\n",
              "25%           0.000000\n",
              "50%       37965.000000\n",
              "75%      120874.000000\n",
              "max      638504.000000\n",
              "Name: daily_vaccinations_raw, dtype: float64"
            ]
          },
          "metadata": {}
        },
        {
          "output_type": "stream",
          "name": "stdout",
          "text": [
            "===============**Portugal**===================\n"
          ]
        },
        {
          "output_type": "display_data",
          "data": {
            "text/plain": [
              "'DAILY VACCINATIONS RAW (Statistics):'"
            ],
            "application/vnd.google.colaboratory.intrinsic+json": {
              "type": "string"
            }
          },
          "metadata": {}
        },
        {
          "output_type": "display_data",
          "data": {
            "text/plain": [
              "count       439.000000\n",
              "mean      44871.396355\n",
              "std       39220.213550\n",
              "min           0.000000\n",
              "25%        4380.500000\n",
              "50%       39849.000000\n",
              "75%       77331.500000\n",
              "max      168320.000000\n",
              "Name: daily_vaccinations_raw, dtype: float64"
            ]
          },
          "metadata": {}
        },
        {
          "output_type": "stream",
          "name": "stdout",
          "text": [
            "===============**Qatar**===================\n"
          ]
        },
        {
          "output_type": "display_data",
          "data": {
            "text/plain": [
              "'DAILY VACCINATIONS RAW (Statistics):'"
            ],
            "application/vnd.google.colaboratory.intrinsic+json": {
              "type": "string"
            }
          },
          "metadata": {}
        },
        {
          "output_type": "display_data",
          "data": {
            "text/plain": [
              "count      463.000000\n",
              "mean     11364.455724\n",
              "std      12521.666269\n",
              "min          0.000000\n",
              "25%          0.000000\n",
              "50%       5695.000000\n",
              "75%      21771.000000\n",
              "max      43974.000000\n",
              "Name: daily_vaccinations_raw, dtype: float64"
            ]
          },
          "metadata": {}
        },
        {
          "output_type": "stream",
          "name": "stdout",
          "text": [
            "===============**Romania**===================\n"
          ]
        },
        {
          "output_type": "display_data",
          "data": {
            "text/plain": [
              "'DAILY VACCINATIONS RAW (Statistics):'"
            ],
            "application/vnd.google.colaboratory.intrinsic+json": {
              "type": "string"
            }
          },
          "metadata": {}
        },
        {
          "output_type": "display_data",
          "data": {
            "text/plain": [
              "count       457.000000\n",
              "mean      36615.984683\n",
              "std       30687.483670\n",
              "min           0.000000\n",
              "25%       12112.000000\n",
              "50%       26757.000000\n",
              "75%       56823.000000\n",
              "max      150935.000000\n",
              "Name: daily_vaccinations_raw, dtype: float64"
            ]
          },
          "metadata": {}
        },
        {
          "output_type": "stream",
          "name": "stdout",
          "text": [
            "===============**Russia**===================\n"
          ]
        },
        {
          "output_type": "display_data",
          "data": {
            "text/plain": [
              "'DAILY VACCINATIONS RAW (Statistics):'"
            ],
            "application/vnd.google.colaboratory.intrinsic+json": {
              "type": "string"
            }
          },
          "metadata": {}
        },
        {
          "output_type": "display_data",
          "data": {
            "text/plain": [
              "count    4.700000e+02\n",
              "mean     3.103057e+05\n",
              "std      3.860445e+05\n",
              "min      0.000000e+00\n",
              "25%      0.000000e+00\n",
              "50%      1.954340e+05\n",
              "75%      4.790780e+05\n",
              "max      2.389472e+06\n",
              "Name: daily_vaccinations_raw, dtype: float64"
            ]
          },
          "metadata": {}
        },
        {
          "output_type": "stream",
          "name": "stdout",
          "text": [
            "===============**Rwanda**===================\n"
          ]
        },
        {
          "output_type": "display_data",
          "data": {
            "text/plain": [
              "'DAILY VACCINATIONS RAW (Statistics):'"
            ],
            "application/vnd.google.colaboratory.intrinsic+json": {
              "type": "string"
            }
          },
          "metadata": {}
        },
        {
          "output_type": "display_data",
          "data": {
            "text/plain": [
              "count       376.000000\n",
              "mean       2448.521277\n",
              "std       18046.397729\n",
              "min           0.000000\n",
              "25%           0.000000\n",
              "50%           0.000000\n",
              "75%           0.000000\n",
              "max      211071.000000\n",
              "Name: daily_vaccinations_raw, dtype: float64"
            ]
          },
          "metadata": {}
        },
        {
          "output_type": "stream",
          "name": "stdout",
          "text": [
            "===============**Saint Helena**===================\n"
          ]
        },
        {
          "output_type": "display_data",
          "data": {
            "text/plain": [
              "'DAILY VACCINATIONS RAW (Statistics):'"
            ],
            "application/vnd.google.colaboratory.intrinsic+json": {
              "type": "string"
            }
          },
          "metadata": {}
        },
        {
          "output_type": "display_data",
          "data": {
            "text/plain": [
              "count    92.0\n",
              "mean      0.0\n",
              "std       0.0\n",
              "min       0.0\n",
              "25%       0.0\n",
              "50%       0.0\n",
              "75%       0.0\n",
              "max       0.0\n",
              "Name: daily_vaccinations_raw, dtype: float64"
            ]
          },
          "metadata": {}
        },
        {
          "output_type": "stream",
          "name": "stdout",
          "text": [
            "===============**Saint Kitts and Nevis**===================\n"
          ]
        },
        {
          "output_type": "display_data",
          "data": {
            "text/plain": [
              "'DAILY VACCINATIONS RAW (Statistics):'"
            ],
            "application/vnd.google.colaboratory.intrinsic+json": {
              "type": "string"
            }
          },
          "metadata": {}
        },
        {
          "output_type": "display_data",
          "data": {
            "text/plain": [
              "count     369.000000\n",
              "mean       17.758808\n",
              "std       221.986263\n",
              "min         0.000000\n",
              "25%         0.000000\n",
              "50%         0.000000\n",
              "75%         0.000000\n",
              "max      4024.000000\n",
              "Name: daily_vaccinations_raw, dtype: float64"
            ]
          },
          "metadata": {}
        },
        {
          "output_type": "stream",
          "name": "stdout",
          "text": [
            "===============**Saint Lucia**===================\n"
          ]
        },
        {
          "output_type": "display_data",
          "data": {
            "text/plain": [
              "'DAILY VACCINATIONS RAW (Statistics):'"
            ],
            "application/vnd.google.colaboratory.intrinsic+json": {
              "type": "string"
            }
          },
          "metadata": {}
        },
        {
          "output_type": "display_data",
          "data": {
            "text/plain": [
              "count     403.000000\n",
              "mean       65.148883\n",
              "std       172.526579\n",
              "min         0.000000\n",
              "25%         0.000000\n",
              "50%         0.000000\n",
              "75%         0.000000\n",
              "max      1798.000000\n",
              "Name: daily_vaccinations_raw, dtype: float64"
            ]
          },
          "metadata": {}
        },
        {
          "output_type": "stream",
          "name": "stdout",
          "text": [
            "===============**Saint Vincent and the Grenadines**===================\n"
          ]
        },
        {
          "output_type": "display_data",
          "data": {
            "text/plain": [
              "'DAILY VACCINATIONS RAW (Statistics):'"
            ],
            "application/vnd.google.colaboratory.intrinsic+json": {
              "type": "string"
            }
          },
          "metadata": {}
        },
        {
          "output_type": "display_data",
          "data": {
            "text/plain": [
              "count     373.000000\n",
              "mean       45.890080\n",
              "std       290.867374\n",
              "min         0.000000\n",
              "25%         0.000000\n",
              "50%         0.000000\n",
              "75%         0.000000\n",
              "max      4258.000000\n",
              "Name: daily_vaccinations_raw, dtype: float64"
            ]
          },
          "metadata": {}
        },
        {
          "output_type": "stream",
          "name": "stdout",
          "text": [
            "===============**Samoa**===================\n"
          ]
        },
        {
          "output_type": "display_data",
          "data": {
            "text/plain": [
              "'DAILY VACCINATIONS RAW (Statistics):'"
            ],
            "application/vnd.google.colaboratory.intrinsic+json": {
              "type": "string"
            }
          },
          "metadata": {}
        },
        {
          "output_type": "display_data",
          "data": {
            "text/plain": [
              "count    322.0\n",
              "mean       0.0\n",
              "std        0.0\n",
              "min        0.0\n",
              "25%        0.0\n",
              "50%        0.0\n",
              "75%        0.0\n",
              "max        0.0\n",
              "Name: daily_vaccinations_raw, dtype: float64"
            ]
          },
          "metadata": {}
        },
        {
          "output_type": "stream",
          "name": "stdout",
          "text": [
            "===============**San Marino**===================\n"
          ]
        },
        {
          "output_type": "display_data",
          "data": {
            "text/plain": [
              "'DAILY VACCINATIONS RAW (Statistics):'"
            ],
            "application/vnd.google.colaboratory.intrinsic+json": {
              "type": "string"
            }
          },
          "metadata": {}
        },
        {
          "output_type": "display_data",
          "data": {
            "text/plain": [
              "count    387.000000\n",
              "mean      52.043928\n",
              "std      173.844224\n",
              "min        0.000000\n",
              "25%        0.000000\n",
              "50%        0.000000\n",
              "75%        0.000000\n",
              "max      990.000000\n",
              "Name: daily_vaccinations_raw, dtype: float64"
            ]
          },
          "metadata": {}
        },
        {
          "output_type": "stream",
          "name": "stdout",
          "text": [
            "===============**Sao Tome and Principe**===================\n"
          ]
        },
        {
          "output_type": "display_data",
          "data": {
            "text/plain": [
              "'DAILY VACCINATIONS RAW (Statistics):'"
            ],
            "application/vnd.google.colaboratory.intrinsic+json": {
              "type": "string"
            }
          },
          "metadata": {}
        },
        {
          "output_type": "display_data",
          "data": {
            "text/plain": [
              "count    361.0\n",
              "mean       0.0\n",
              "std        0.0\n",
              "min        0.0\n",
              "25%        0.0\n",
              "50%        0.0\n",
              "75%        0.0\n",
              "max        0.0\n",
              "Name: daily_vaccinations_raw, dtype: float64"
            ]
          },
          "metadata": {}
        },
        {
          "output_type": "stream",
          "name": "stdout",
          "text": [
            "===============**Saudi Arabia**===================\n"
          ]
        },
        {
          "output_type": "display_data",
          "data": {
            "text/plain": [
              "'DAILY VACCINATIONS RAW (Statistics):'"
            ],
            "application/vnd.google.colaboratory.intrinsic+json": {
              "type": "string"
            }
          },
          "metadata": {}
        },
        {
          "output_type": "display_data",
          "data": {
            "text/plain": [
              "count       442.000000\n",
              "mean     132736.052036\n",
              "std      113213.351808\n",
              "min           0.000000\n",
              "25%       43860.000000\n",
              "50%      121736.000000\n",
              "75%      194006.000000\n",
              "max      608460.000000\n",
              "Name: daily_vaccinations_raw, dtype: float64"
            ]
          },
          "metadata": {}
        },
        {
          "output_type": "stream",
          "name": "stdout",
          "text": [
            "===============**Scotland**===================\n"
          ]
        },
        {
          "output_type": "display_data",
          "data": {
            "text/plain": [
              "'DAILY VACCINATIONS RAW (Statistics):'"
            ],
            "application/vnd.google.colaboratory.intrinsic+json": {
              "type": "string"
            }
          },
          "metadata": {}
        },
        {
          "output_type": "display_data",
          "data": {
            "text/plain": [
              "count       443.000000\n",
              "mean      26285.221219\n",
              "std       20677.603607\n",
              "min           0.000000\n",
              "25%       10232.500000\n",
              "50%       24901.000000\n",
              "75%       38093.500000\n",
              "max      277158.000000\n",
              "Name: daily_vaccinations_raw, dtype: float64"
            ]
          },
          "metadata": {}
        },
        {
          "output_type": "stream",
          "name": "stdout",
          "text": [
            "===============**Senegal**===================\n"
          ]
        },
        {
          "output_type": "display_data",
          "data": {
            "text/plain": [
              "'DAILY VACCINATIONS RAW (Statistics):'"
            ],
            "application/vnd.google.colaboratory.intrinsic+json": {
              "type": "string"
            }
          },
          "metadata": {}
        },
        {
          "output_type": "display_data",
          "data": {
            "text/plain": [
              "count      387.000000\n",
              "mean       900.656331\n",
              "std       2681.673638\n",
              "min          0.000000\n",
              "25%          0.000000\n",
              "50%          0.000000\n",
              "75%          0.000000\n",
              "max      17437.000000\n",
              "Name: daily_vaccinations_raw, dtype: float64"
            ]
          },
          "metadata": {}
        },
        {
          "output_type": "stream",
          "name": "stdout",
          "text": [
            "===============**Serbia**===================\n"
          ]
        },
        {
          "output_type": "display_data",
          "data": {
            "text/plain": [
              "'DAILY VACCINATIONS RAW (Statistics):'"
            ],
            "application/vnd.google.colaboratory.intrinsic+json": {
              "type": "string"
            }
          },
          "metadata": {}
        },
        {
          "output_type": "display_data",
          "data": {
            "text/plain": [
              "count      439.000000\n",
              "mean      7433.872437\n",
              "std      14457.438288\n",
              "min          0.000000\n",
              "25%          0.000000\n",
              "50%          0.000000\n",
              "75%       7302.000000\n",
              "max      69995.000000\n",
              "Name: daily_vaccinations_raw, dtype: float64"
            ]
          },
          "metadata": {}
        },
        {
          "output_type": "stream",
          "name": "stdout",
          "text": [
            "===============**Seychelles**===================\n"
          ]
        },
        {
          "output_type": "display_data",
          "data": {
            "text/plain": [
              "'DAILY VACCINATIONS RAW (Statistics):'"
            ],
            "application/vnd.google.colaboratory.intrinsic+json": {
              "type": "string"
            }
          },
          "metadata": {}
        },
        {
          "output_type": "display_data",
          "data": {
            "text/plain": [
              "count     434.000000\n",
              "mean       98.762673\n",
              "std       480.775640\n",
              "min         0.000000\n",
              "25%         0.000000\n",
              "50%         0.000000\n",
              "75%         0.000000\n",
              "max      3758.000000\n",
              "Name: daily_vaccinations_raw, dtype: float64"
            ]
          },
          "metadata": {}
        },
        {
          "output_type": "stream",
          "name": "stdout",
          "text": [
            "===============**Sierra Leone**===================\n"
          ]
        },
        {
          "output_type": "display_data",
          "data": {
            "text/plain": [
              "'DAILY VACCINATIONS RAW (Statistics):'"
            ],
            "application/vnd.google.colaboratory.intrinsic+json": {
              "type": "string"
            }
          },
          "metadata": {}
        },
        {
          "output_type": "display_data",
          "data": {
            "text/plain": [
              "count     367.000000\n",
              "mean       21.746594\n",
              "std       331.342828\n",
              "min         0.000000\n",
              "25%         0.000000\n",
              "50%         0.000000\n",
              "75%         0.000000\n",
              "max      6053.000000\n",
              "Name: daily_vaccinations_raw, dtype: float64"
            ]
          },
          "metadata": {}
        },
        {
          "output_type": "stream",
          "name": "stdout",
          "text": [
            "===============**Singapore**===================\n"
          ]
        },
        {
          "output_type": "display_data",
          "data": {
            "text/plain": [
              "'DAILY VACCINATIONS RAW (Statistics):'"
            ],
            "application/vnd.google.colaboratory.intrinsic+json": {
              "type": "string"
            }
          },
          "metadata": {}
        },
        {
          "output_type": "display_data",
          "data": {
            "text/plain": [
              "count      454.000000\n",
              "mean     30452.574890\n",
              "std      19418.112402\n",
              "min          0.000000\n",
              "25%      14529.250000\n",
              "50%      27828.000000\n",
              "75%      44080.750000\n",
              "max      82228.000000\n",
              "Name: daily_vaccinations_raw, dtype: float64"
            ]
          },
          "metadata": {}
        },
        {
          "output_type": "stream",
          "name": "stdout",
          "text": [
            "===============**Sint Maarten (Dutch part)**===================\n"
          ]
        },
        {
          "output_type": "display_data",
          "data": {
            "text/plain": [
              "'DAILY VACCINATIONS RAW (Statistics):'"
            ],
            "application/vnd.google.colaboratory.intrinsic+json": {
              "type": "string"
            }
          },
          "metadata": {}
        },
        {
          "output_type": "display_data",
          "data": {
            "text/plain": [
              "count    323.0\n",
              "mean       0.0\n",
              "std        0.0\n",
              "min        0.0\n",
              "25%        0.0\n",
              "50%        0.0\n",
              "75%        0.0\n",
              "max        0.0\n",
              "Name: daily_vaccinations_raw, dtype: float64"
            ]
          },
          "metadata": {}
        },
        {
          "output_type": "stream",
          "name": "stdout",
          "text": [
            "===============**Slovakia**===================\n"
          ]
        },
        {
          "output_type": "display_data",
          "data": {
            "text/plain": [
              "'DAILY VACCINATIONS RAW (Statistics):'"
            ],
            "application/vnd.google.colaboratory.intrinsic+json": {
              "type": "string"
            }
          },
          "metadata": {}
        },
        {
          "output_type": "display_data",
          "data": {
            "text/plain": [
              "count    449.0\n",
              "mean       0.0\n",
              "std        0.0\n",
              "min        0.0\n",
              "25%        0.0\n",
              "50%        0.0\n",
              "75%        0.0\n",
              "max        0.0\n",
              "Name: daily_vaccinations_raw, dtype: float64"
            ]
          },
          "metadata": {}
        },
        {
          "output_type": "stream",
          "name": "stdout",
          "text": [
            "===============**Slovenia**===================\n"
          ]
        },
        {
          "output_type": "display_data",
          "data": {
            "text/plain": [
              "'DAILY VACCINATIONS RAW (Statistics):'"
            ],
            "application/vnd.google.colaboratory.intrinsic+json": {
              "type": "string"
            }
          },
          "metadata": {}
        },
        {
          "output_type": "display_data",
          "data": {
            "text/plain": [
              "count      458.000000\n",
              "mean      6486.478166\n",
              "std       6700.743799\n",
              "min          0.000000\n",
              "25%        931.750000\n",
              "50%       4910.000000\n",
              "75%       9296.750000\n",
              "max      36494.000000\n",
              "Name: daily_vaccinations_raw, dtype: float64"
            ]
          },
          "metadata": {}
        },
        {
          "output_type": "stream",
          "name": "stdout",
          "text": [
            "===============**Solomon Islands**===================\n"
          ]
        },
        {
          "output_type": "display_data",
          "data": {
            "text/plain": [
              "'DAILY VACCINATIONS RAW (Statistics):'"
            ],
            "application/vnd.google.colaboratory.intrinsic+json": {
              "type": "string"
            }
          },
          "metadata": {}
        },
        {
          "output_type": "display_data",
          "data": {
            "text/plain": [
              "count    371.0\n",
              "mean       0.0\n",
              "std        0.0\n",
              "min        0.0\n",
              "25%        0.0\n",
              "50%        0.0\n",
              "75%        0.0\n",
              "max        0.0\n",
              "Name: daily_vaccinations_raw, dtype: float64"
            ]
          },
          "metadata": {}
        },
        {
          "output_type": "stream",
          "name": "stdout",
          "text": [
            "===============**Somalia**===================\n"
          ]
        },
        {
          "output_type": "display_data",
          "data": {
            "text/plain": [
              "'DAILY VACCINATIONS RAW (Statistics):'"
            ],
            "application/vnd.google.colaboratory.intrinsic+json": {
              "type": "string"
            }
          },
          "metadata": {}
        },
        {
          "output_type": "display_data",
          "data": {
            "text/plain": [
              "count      340.000000\n",
              "mean       109.682353\n",
              "std       1199.043958\n",
              "min          0.000000\n",
              "25%          0.000000\n",
              "50%          0.000000\n",
              "75%          0.000000\n",
              "max      17966.000000\n",
              "Name: daily_vaccinations_raw, dtype: float64"
            ]
          },
          "metadata": {}
        },
        {
          "output_type": "stream",
          "name": "stdout",
          "text": [
            "===============**South Africa**===================\n"
          ]
        },
        {
          "output_type": "display_data",
          "data": {
            "text/plain": [
              "'DAILY VACCINATIONS RAW (Statistics):'"
            ],
            "application/vnd.google.colaboratory.intrinsic+json": {
              "type": "string"
            }
          },
          "metadata": {}
        },
        {
          "output_type": "display_data",
          "data": {
            "text/plain": [
              "count       407.000000\n",
              "mean      39108.012285\n",
              "std       71476.074999\n",
              "min           0.000000\n",
              "25%           0.000000\n",
              "50%           0.000000\n",
              "75%       62960.000000\n",
              "max      484564.000000\n",
              "Name: daily_vaccinations_raw, dtype: float64"
            ]
          },
          "metadata": {}
        },
        {
          "output_type": "stream",
          "name": "stdout",
          "text": [
            "===============**South Korea**===================\n"
          ]
        },
        {
          "output_type": "display_data",
          "data": {
            "text/plain": [
              "'DAILY VACCINATIONS RAW (Statistics):'"
            ],
            "application/vnd.google.colaboratory.intrinsic+json": {
              "type": "string"
            }
          },
          "metadata": {}
        },
        {
          "output_type": "display_data",
          "data": {
            "text/plain": [
              "count    3.970000e+02\n",
              "mean     3.036678e+05\n",
              "std      3.196736e+05\n",
              "min      0.000000e+00\n",
              "25%      4.367600e+04\n",
              "50%      1.814300e+05\n",
              "75%      4.659130e+05\n",
              "max      1.381643e+06\n",
              "Name: daily_vaccinations_raw, dtype: float64"
            ]
          },
          "metadata": {}
        },
        {
          "output_type": "stream",
          "name": "stdout",
          "text": [
            "===============**South Sudan**===================\n"
          ]
        },
        {
          "output_type": "display_data",
          "data": {
            "text/plain": [
              "'DAILY VACCINATIONS RAW (Statistics):'"
            ],
            "application/vnd.google.colaboratory.intrinsic+json": {
              "type": "string"
            }
          },
          "metadata": {}
        },
        {
          "output_type": "display_data",
          "data": {
            "text/plain": [
              "count     353.000000\n",
              "mean       21.215297\n",
              "std       276.788521\n",
              "min         0.000000\n",
              "25%         0.000000\n",
              "50%         0.000000\n",
              "75%         0.000000\n",
              "max      4158.000000\n",
              "Name: daily_vaccinations_raw, dtype: float64"
            ]
          },
          "metadata": {}
        },
        {
          "output_type": "stream",
          "name": "stdout",
          "text": [
            "===============**Spain**===================\n"
          ]
        },
        {
          "output_type": "display_data",
          "data": {
            "text/plain": [
              "'DAILY VACCINATIONS RAW (Statistics):'"
            ],
            "application/vnd.google.colaboratory.intrinsic+json": {
              "type": "string"
            }
          },
          "metadata": {}
        },
        {
          "output_type": "display_data",
          "data": {
            "text/plain": [
              "count       444.000000\n",
              "mean     142347.299550\n",
              "std      198875.156792\n",
              "min           0.000000\n",
              "25%           0.000000\n",
              "50%           0.000000\n",
              "75%      244952.500000\n",
              "max      765399.000000\n",
              "Name: daily_vaccinations_raw, dtype: float64"
            ]
          },
          "metadata": {}
        },
        {
          "output_type": "stream",
          "name": "stdout",
          "text": [
            "===============**Sri Lanka**===================\n"
          ]
        },
        {
          "output_type": "display_data",
          "data": {
            "text/plain": [
              "'DAILY VACCINATIONS RAW (Statistics):'"
            ],
            "application/vnd.google.colaboratory.intrinsic+json": {
              "type": "string"
            }
          },
          "metadata": {}
        },
        {
          "output_type": "display_data",
          "data": {
            "text/plain": [
              "count    4.190000e+02\n",
              "mean     8.016528e+04\n",
              "std      1.220214e+05\n",
              "min      0.000000e+00\n",
              "25%      4.357000e+03\n",
              "50%      3.353000e+04\n",
              "75%      9.872350e+04\n",
              "max      1.085196e+06\n",
              "Name: daily_vaccinations_raw, dtype: float64"
            ]
          },
          "metadata": {}
        },
        {
          "output_type": "stream",
          "name": "stdout",
          "text": [
            "===============**Sudan**===================\n"
          ]
        },
        {
          "output_type": "display_data",
          "data": {
            "text/plain": [
              "'DAILY VACCINATIONS RAW (Statistics):'"
            ],
            "application/vnd.google.colaboratory.intrinsic+json": {
              "type": "string"
            }
          },
          "metadata": {}
        },
        {
          "output_type": "display_data",
          "data": {
            "text/plain": [
              "count      363.000000\n",
              "mean       125.542700\n",
              "std       1488.274129\n",
              "min          0.000000\n",
              "25%          0.000000\n",
              "50%          0.000000\n",
              "75%          0.000000\n",
              "max      20715.000000\n",
              "Name: daily_vaccinations_raw, dtype: float64"
            ]
          },
          "metadata": {}
        },
        {
          "output_type": "stream",
          "name": "stdout",
          "text": [
            "===============**Suriname**===================\n"
          ]
        },
        {
          "output_type": "display_data",
          "data": {
            "text/plain": [
              "'DAILY VACCINATIONS RAW (Statistics):'"
            ],
            "application/vnd.google.colaboratory.intrinsic+json": {
              "type": "string"
            }
          },
          "metadata": {}
        },
        {
          "output_type": "display_data",
          "data": {
            "text/plain": [
              "count     399.000000\n",
              "mean      860.511278\n",
              "std      1494.286139\n",
              "min         0.000000\n",
              "25%         0.000000\n",
              "50%         0.000000\n",
              "75%      1406.000000\n",
              "max      9775.000000\n",
              "Name: daily_vaccinations_raw, dtype: float64"
            ]
          },
          "metadata": {}
        },
        {
          "output_type": "stream",
          "name": "stdout",
          "text": [
            "===============**Sweden**===================\n"
          ]
        },
        {
          "output_type": "display_data",
          "data": {
            "text/plain": [
              "'DAILY VACCINATIONS RAW (Statistics):'"
            ],
            "application/vnd.google.colaboratory.intrinsic+json": {
              "type": "string"
            }
          },
          "metadata": {}
        },
        {
          "output_type": "display_data",
          "data": {
            "text/plain": [
              "count      447.000000\n",
              "mean       162.268456\n",
              "std       1997.337771\n",
              "min          0.000000\n",
              "25%          0.000000\n",
              "50%          0.000000\n",
              "75%          0.000000\n",
              "max      27102.000000\n",
              "Name: daily_vaccinations_raw, dtype: float64"
            ]
          },
          "metadata": {}
        },
        {
          "output_type": "stream",
          "name": "stdout",
          "text": [
            "===============**Switzerland**===================\n"
          ]
        },
        {
          "output_type": "display_data",
          "data": {
            "text/plain": [
              "'DAILY VACCINATIONS RAW (Statistics):'"
            ],
            "application/vnd.google.colaboratory.intrinsic+json": {
              "type": "string"
            }
          },
          "metadata": {}
        },
        {
          "output_type": "display_data",
          "data": {
            "text/plain": [
              "count       463.000000\n",
              "mean      33768.997840\n",
              "std       30253.207657\n",
              "min           0.000000\n",
              "25%        8230.000000\n",
              "50%       25484.000000\n",
              "75%       51519.500000\n",
              "max      113658.000000\n",
              "Name: daily_vaccinations_raw, dtype: float64"
            ]
          },
          "metadata": {}
        },
        {
          "output_type": "stream",
          "name": "stdout",
          "text": [
            "===============**Syria**===================\n"
          ]
        },
        {
          "output_type": "display_data",
          "data": {
            "text/plain": [
              "'DAILY VACCINATIONS RAW (Statistics):'"
            ],
            "application/vnd.google.colaboratory.intrinsic+json": {
              "type": "string"
            }
          },
          "metadata": {}
        },
        {
          "output_type": "display_data",
          "data": {
            "text/plain": [
              "count    388.0\n",
              "mean       0.0\n",
              "std        0.0\n",
              "min        0.0\n",
              "25%        0.0\n",
              "50%        0.0\n",
              "75%        0.0\n",
              "max        0.0\n",
              "Name: daily_vaccinations_raw, dtype: float64"
            ]
          },
          "metadata": {}
        },
        {
          "output_type": "stream",
          "name": "stdout",
          "text": [
            "===============**Taiwan**===================\n"
          ]
        },
        {
          "output_type": "display_data",
          "data": {
            "text/plain": [
              "'DAILY VACCINATIONS RAW (Statistics):'"
            ],
            "application/vnd.google.colaboratory.intrinsic+json": {
              "type": "string"
            }
          },
          "metadata": {}
        },
        {
          "output_type": "display_data",
          "data": {
            "text/plain": [
              "count       374.000000\n",
              "mean     102856.072193\n",
              "std      132670.685896\n",
              "min           0.000000\n",
              "25%           0.000000\n",
              "50%       25653.000000\n",
              "75%      194237.250000\n",
              "max      500423.000000\n",
              "Name: daily_vaccinations_raw, dtype: float64"
            ]
          },
          "metadata": {}
        },
        {
          "output_type": "stream",
          "name": "stdout",
          "text": [
            "===============**Tajikistan**===================\n"
          ]
        },
        {
          "output_type": "display_data",
          "data": {
            "text/plain": [
              "'DAILY VACCINATIONS RAW (Statistics):'"
            ],
            "application/vnd.google.colaboratory.intrinsic+json": {
              "type": "string"
            }
          },
          "metadata": {}
        },
        {
          "output_type": "display_data",
          "data": {
            "text/plain": [
              "count       311.000000\n",
              "mean        401.109325\n",
              "std        6453.484741\n",
              "min           0.000000\n",
              "25%           0.000000\n",
              "50%           0.000000\n",
              "75%           0.000000\n",
              "max      113265.000000\n",
              "Name: daily_vaccinations_raw, dtype: float64"
            ]
          },
          "metadata": {}
        },
        {
          "output_type": "stream",
          "name": "stdout",
          "text": [
            "===============**Tanzania**===================\n"
          ]
        },
        {
          "output_type": "display_data",
          "data": {
            "text/plain": [
              "'DAILY VACCINATIONS RAW (Statistics):'"
            ],
            "application/vnd.google.colaboratory.intrinsic+json": {
              "type": "string"
            }
          },
          "metadata": {}
        },
        {
          "output_type": "display_data",
          "data": {
            "text/plain": [
              "count    228.0\n",
              "mean       0.0\n",
              "std        0.0\n",
              "min        0.0\n",
              "25%        0.0\n",
              "50%        0.0\n",
              "75%        0.0\n",
              "max        0.0\n",
              "Name: daily_vaccinations_raw, dtype: float64"
            ]
          },
          "metadata": {}
        },
        {
          "output_type": "stream",
          "name": "stdout",
          "text": [
            "===============**Thailand**===================\n"
          ]
        },
        {
          "output_type": "display_data",
          "data": {
            "text/plain": [
              "'DAILY VACCINATIONS RAW (Statistics):'"
            ],
            "application/vnd.google.colaboratory.intrinsic+json": {
              "type": "string"
            }
          },
          "metadata": {}
        },
        {
          "output_type": "display_data",
          "data": {
            "text/plain": [
              "count    3.960000e+02\n",
              "mean     2.867221e+05\n",
              "std      2.721852e+05\n",
              "min      0.000000e+00\n",
              "25%      5.461825e+04\n",
              "50%      2.214035e+05\n",
              "75%      4.676930e+05\n",
              "max      1.063719e+06\n",
              "Name: daily_vaccinations_raw, dtype: float64"
            ]
          },
          "metadata": {}
        },
        {
          "output_type": "stream",
          "name": "stdout",
          "text": [
            "===============**Timor**===================\n"
          ]
        },
        {
          "output_type": "display_data",
          "data": {
            "text/plain": [
              "'DAILY VACCINATIONS RAW (Statistics):'"
            ],
            "application/vnd.google.colaboratory.intrinsic+json": {
              "type": "string"
            }
          },
          "metadata": {}
        },
        {
          "output_type": "display_data",
          "data": {
            "text/plain": [
              "count     343.000000\n",
              "mean       22.976676\n",
              "std       425.534002\n",
              "min         0.000000\n",
              "25%         0.000000\n",
              "50%         0.000000\n",
              "75%         0.000000\n",
              "max      7881.000000\n",
              "Name: daily_vaccinations_raw, dtype: float64"
            ]
          },
          "metadata": {}
        },
        {
          "output_type": "stream",
          "name": "stdout",
          "text": [
            "===============**Togo**===================\n"
          ]
        },
        {
          "output_type": "display_data",
          "data": {
            "text/plain": [
              "'DAILY VACCINATIONS RAW (Statistics):'"
            ],
            "application/vnd.google.colaboratory.intrinsic+json": {
              "type": "string"
            }
          },
          "metadata": {}
        },
        {
          "output_type": "display_data",
          "data": {
            "text/plain": [
              "count    368.0\n",
              "mean       0.0\n",
              "std        0.0\n",
              "min        0.0\n",
              "25%        0.0\n",
              "50%        0.0\n",
              "75%        0.0\n",
              "max        0.0\n",
              "Name: daily_vaccinations_raw, dtype: float64"
            ]
          },
          "metadata": {}
        },
        {
          "output_type": "stream",
          "name": "stdout",
          "text": [
            "===============**Tokelau**===================\n"
          ]
        },
        {
          "output_type": "display_data",
          "data": {
            "text/plain": [
              "'DAILY VACCINATIONS RAW (Statistics):'"
            ],
            "application/vnd.google.colaboratory.intrinsic+json": {
              "type": "string"
            }
          },
          "metadata": {}
        },
        {
          "output_type": "display_data",
          "data": {
            "text/plain": [
              "count    114.0\n",
              "mean       0.0\n",
              "std        0.0\n",
              "min        0.0\n",
              "25%        0.0\n",
              "50%        0.0\n",
              "75%        0.0\n",
              "max        0.0\n",
              "Name: daily_vaccinations_raw, dtype: float64"
            ]
          },
          "metadata": {}
        },
        {
          "output_type": "stream",
          "name": "stdout",
          "text": [
            "===============**Tonga**===================\n"
          ]
        },
        {
          "output_type": "display_data",
          "data": {
            "text/plain": [
              "'DAILY VACCINATIONS RAW (Statistics):'"
            ],
            "application/vnd.google.colaboratory.intrinsic+json": {
              "type": "string"
            }
          },
          "metadata": {}
        },
        {
          "output_type": "display_data",
          "data": {
            "text/plain": [
              "count    315.0\n",
              "mean       0.0\n",
              "std        0.0\n",
              "min        0.0\n",
              "25%        0.0\n",
              "50%        0.0\n",
              "75%        0.0\n",
              "max        0.0\n",
              "Name: daily_vaccinations_raw, dtype: float64"
            ]
          },
          "metadata": {}
        },
        {
          "output_type": "stream",
          "name": "stdout",
          "text": [
            "===============**Trinidad and Tobago**===================\n"
          ]
        },
        {
          "output_type": "display_data",
          "data": {
            "text/plain": [
              "'DAILY VACCINATIONS RAW (Statistics):'"
            ],
            "application/vnd.google.colaboratory.intrinsic+json": {
              "type": "string"
            }
          },
          "metadata": {}
        },
        {
          "output_type": "display_data",
          "data": {
            "text/plain": [
              "count      408.000000\n",
              "mean      3725.688725\n",
              "std       4212.535054\n",
              "min          0.000000\n",
              "25%        324.000000\n",
              "50%       2550.500000\n",
              "75%       5296.250000\n",
              "max      22019.000000\n",
              "Name: daily_vaccinations_raw, dtype: float64"
            ]
          },
          "metadata": {}
        },
        {
          "output_type": "stream",
          "name": "stdout",
          "text": [
            "===============**Tunisia**===================\n"
          ]
        },
        {
          "output_type": "display_data",
          "data": {
            "text/plain": [
              "'DAILY VACCINATIONS RAW (Statistics):'"
            ],
            "application/vnd.google.colaboratory.intrinsic+json": {
              "type": "string"
            }
          },
          "metadata": {}
        },
        {
          "output_type": "display_data",
          "data": {
            "text/plain": [
              "count       375.000000\n",
              "mean      22789.952000\n",
              "std       38879.372007\n",
              "min           0.000000\n",
              "25%           0.000000\n",
              "50%       18215.000000\n",
              "75%       33978.500000\n",
              "max      428453.000000\n",
              "Name: daily_vaccinations_raw, dtype: float64"
            ]
          },
          "metadata": {}
        },
        {
          "output_type": "stream",
          "name": "stdout",
          "text": [
            "===============**Turkey**===================\n"
          ]
        },
        {
          "output_type": "display_data",
          "data": {
            "text/plain": [
              "'DAILY VACCINATIONS RAW (Statistics):'"
            ],
            "application/vnd.google.colaboratory.intrinsic+json": {
              "type": "string"
            }
          },
          "metadata": {}
        },
        {
          "output_type": "display_data",
          "data": {
            "text/plain": [
              "count    4.410000e+02\n",
              "mean     3.277244e+05\n",
              "std      3.166901e+05\n",
              "min      0.000000e+00\n",
              "25%      1.123070e+05\n",
              "50%      2.180580e+05\n",
              "75%      4.456520e+05\n",
              "max      1.796891e+06\n",
              "Name: daily_vaccinations_raw, dtype: float64"
            ]
          },
          "metadata": {}
        },
        {
          "output_type": "stream",
          "name": "stdout",
          "text": [
            "===============**Turkmenistan**===================\n"
          ]
        },
        {
          "output_type": "display_data",
          "data": {
            "text/plain": [
              "'DAILY VACCINATIONS RAW (Statistics):'"
            ],
            "application/vnd.google.colaboratory.intrinsic+json": {
              "type": "string"
            }
          },
          "metadata": {}
        },
        {
          "output_type": "display_data",
          "data": {
            "text/plain": [
              "count    190.0\n",
              "mean       0.0\n",
              "std        0.0\n",
              "min        0.0\n",
              "25%        0.0\n",
              "50%        0.0\n",
              "75%        0.0\n",
              "max        0.0\n",
              "Name: daily_vaccinations_raw, dtype: float64"
            ]
          },
          "metadata": {}
        },
        {
          "output_type": "stream",
          "name": "stdout",
          "text": [
            "===============**Turks and Caicos Islands**===================\n"
          ]
        },
        {
          "output_type": "display_data",
          "data": {
            "text/plain": [
              "'DAILY VACCINATIONS RAW (Statistics):'"
            ],
            "application/vnd.google.colaboratory.intrinsic+json": {
              "type": "string"
            }
          },
          "metadata": {}
        },
        {
          "output_type": "display_data",
          "data": {
            "text/plain": [
              "count    440.0\n",
              "mean       0.0\n",
              "std        0.0\n",
              "min        0.0\n",
              "25%        0.0\n",
              "50%        0.0\n",
              "75%        0.0\n",
              "max        0.0\n",
              "Name: daily_vaccinations_raw, dtype: float64"
            ]
          },
          "metadata": {}
        },
        {
          "output_type": "stream",
          "name": "stdout",
          "text": [
            "===============**Tuvalu**===================\n"
          ]
        },
        {
          "output_type": "display_data",
          "data": {
            "text/plain": [
              "'DAILY VACCINATIONS RAW (Statistics):'"
            ],
            "application/vnd.google.colaboratory.intrinsic+json": {
              "type": "string"
            }
          },
          "metadata": {}
        },
        {
          "output_type": "display_data",
          "data": {
            "text/plain": [
              "count    179.0\n",
              "mean       0.0\n",
              "std        0.0\n",
              "min        0.0\n",
              "25%        0.0\n",
              "50%        0.0\n",
              "75%        0.0\n",
              "max        0.0\n",
              "Name: daily_vaccinations_raw, dtype: float64"
            ]
          },
          "metadata": {}
        },
        {
          "output_type": "stream",
          "name": "stdout",
          "text": [
            "===============**Uganda**===================\n"
          ]
        },
        {
          "output_type": "display_data",
          "data": {
            "text/plain": [
              "'DAILY VACCINATIONS RAW (Statistics):'"
            ],
            "application/vnd.google.colaboratory.intrinsic+json": {
              "type": "string"
            }
          },
          "metadata": {}
        },
        {
          "output_type": "display_data",
          "data": {
            "text/plain": [
              "count       371.000000\n",
              "mean       1940.908356\n",
              "std        8514.340814\n",
              "min           0.000000\n",
              "25%           0.000000\n",
              "50%           0.000000\n",
              "75%           0.000000\n",
              "max      134275.000000\n",
              "Name: daily_vaccinations_raw, dtype: float64"
            ]
          },
          "metadata": {}
        },
        {
          "output_type": "stream",
          "name": "stdout",
          "text": [
            "===============**Ukraine**===================\n"
          ]
        },
        {
          "output_type": "display_data",
          "data": {
            "text/plain": [
              "'DAILY VACCINATIONS RAW (Statistics):'"
            ],
            "application/vnd.google.colaboratory.intrinsic+json": {
              "type": "string"
            }
          },
          "metadata": {}
        },
        {
          "output_type": "display_data",
          "data": {
            "text/plain": [
              "count       365.000000\n",
              "mean      86803.153425\n",
              "std       79009.721181\n",
              "min           0.000000\n",
              "25%       18814.000000\n",
              "50%       70469.000000\n",
              "75%      129533.000000\n",
              "max      317209.000000\n",
              "Name: daily_vaccinations_raw, dtype: float64"
            ]
          },
          "metadata": {}
        },
        {
          "output_type": "stream",
          "name": "stdout",
          "text": [
            "===============**United Arab Emirates**===================\n"
          ]
        },
        {
          "output_type": "display_data",
          "data": {
            "text/plain": [
              "'DAILY VACCINATIONS RAW (Statistics):'"
            ],
            "application/vnd.google.colaboratory.intrinsic+json": {
              "type": "string"
            }
          },
          "metadata": {}
        },
        {
          "output_type": "display_data",
          "data": {
            "text/plain": [
              "count       449.000000\n",
              "mean      44953.982183\n",
              "std       44996.073172\n",
              "min           0.000000\n",
              "25%           0.000000\n",
              "50%       31923.000000\n",
              "75%       75957.000000\n",
              "max      220000.000000\n",
              "Name: daily_vaccinations_raw, dtype: float64"
            ]
          },
          "metadata": {}
        },
        {
          "output_type": "stream",
          "name": "stdout",
          "text": [
            "===============**United Kingdom**===================\n"
          ]
        },
        {
          "output_type": "display_data",
          "data": {
            "text/plain": [
              "'DAILY VACCINATIONS RAW (Statistics):'"
            ],
            "application/vnd.google.colaboratory.intrinsic+json": {
              "type": "string"
            }
          },
          "metadata": {}
        },
        {
          "output_type": "display_data",
          "data": {
            "text/plain": [
              "count    4.430000e+02\n",
              "mean     3.120446e+05\n",
              "std      2.086954e+05\n",
              "min      0.000000e+00\n",
              "25%      1.437100e+05\n",
              "50%      2.877970e+05\n",
              "75%      4.531645e+05\n",
              "max      1.062705e+06\n",
              "Name: daily_vaccinations_raw, dtype: float64"
            ]
          },
          "metadata": {}
        },
        {
          "output_type": "stream",
          "name": "stdout",
          "text": [
            "===============**United States**===================\n"
          ]
        },
        {
          "output_type": "display_data",
          "data": {
            "text/plain": [
              "'DAILY VACCINATIONS RAW (Statistics):'"
            ],
            "application/vnd.google.colaboratory.intrinsic+json": {
              "type": "string"
            }
          },
          "metadata": {}
        },
        {
          "output_type": "display_data",
          "data": {
            "text/plain": [
              "count    4.710000e+02\n",
              "mean     1.189281e+06\n",
              "std      9.342943e+05\n",
              "min      0.000000e+00\n",
              "25%      5.121605e+05\n",
              "50%      9.194000e+05\n",
              "75%      1.639966e+06\n",
              "max      4.555627e+06\n",
              "Name: daily_vaccinations_raw, dtype: float64"
            ]
          },
          "metadata": {}
        },
        {
          "output_type": "stream",
          "name": "stdout",
          "text": [
            "===============**Uruguay**===================\n"
          ]
        },
        {
          "output_type": "display_data",
          "data": {
            "text/plain": [
              "'DAILY VACCINATIONS RAW (Statistics):'"
            ],
            "application/vnd.google.colaboratory.intrinsic+json": {
              "type": "string"
            }
          },
          "metadata": {}
        },
        {
          "output_type": "display_data",
          "data": {
            "text/plain": [
              "count      396.000000\n",
              "mean     20271.131313\n",
              "std      18417.327367\n",
              "min          0.000000\n",
              "25%       2873.250000\n",
              "50%      15609.500000\n",
              "75%      35528.750000\n",
              "max      63775.000000\n",
              "Name: daily_vaccinations_raw, dtype: float64"
            ]
          },
          "metadata": {}
        },
        {
          "output_type": "stream",
          "name": "stdout",
          "text": [
            "===============**Uzbekistan**===================\n"
          ]
        },
        {
          "output_type": "display_data",
          "data": {
            "text/plain": [
              "'DAILY VACCINATIONS RAW (Statistics):'"
            ],
            "application/vnd.google.colaboratory.intrinsic+json": {
              "type": "string"
            }
          },
          "metadata": {}
        },
        {
          "output_type": "display_data",
          "data": {
            "text/plain": [
              "count       348.000000\n",
              "mean      43468.597701\n",
              "std      101339.141520\n",
              "min           0.000000\n",
              "25%           0.000000\n",
              "50%           0.000000\n",
              "75%           0.000000\n",
              "max      720866.000000\n",
              "Name: daily_vaccinations_raw, dtype: float64"
            ]
          },
          "metadata": {}
        },
        {
          "output_type": "stream",
          "name": "stdout",
          "text": [
            "===============**Vanuatu**===================\n"
          ]
        },
        {
          "output_type": "display_data",
          "data": {
            "text/plain": [
              "'DAILY VACCINATIONS RAW (Statistics):'"
            ],
            "application/vnd.google.colaboratory.intrinsic+json": {
              "type": "string"
            }
          },
          "metadata": {}
        },
        {
          "output_type": "display_data",
          "data": {
            "text/plain": [
              "count    273.0\n",
              "mean       0.0\n",
              "std        0.0\n",
              "min        0.0\n",
              "25%        0.0\n",
              "50%        0.0\n",
              "75%        0.0\n",
              "max        0.0\n",
              "Name: daily_vaccinations_raw, dtype: float64"
            ]
          },
          "metadata": {}
        },
        {
          "output_type": "stream",
          "name": "stdout",
          "text": [
            "===============**Venezuela**===================\n"
          ]
        },
        {
          "output_type": "display_data",
          "data": {
            "text/plain": [
              "'DAILY VACCINATIONS RAW (Statistics):'"
            ],
            "application/vnd.google.colaboratory.intrinsic+json": {
              "type": "string"
            }
          },
          "metadata": {}
        },
        {
          "output_type": "display_data",
          "data": {
            "text/plain": [
              "count    402.0\n",
              "mean       0.0\n",
              "std        0.0\n",
              "min        0.0\n",
              "25%        0.0\n",
              "50%        0.0\n",
              "75%        0.0\n",
              "max        0.0\n",
              "Name: daily_vaccinations_raw, dtype: float64"
            ]
          },
          "metadata": {}
        },
        {
          "output_type": "stream",
          "name": "stdout",
          "text": [
            "===============**Vietnam**===================\n"
          ]
        },
        {
          "output_type": "display_data",
          "data": {
            "text/plain": [
              "'DAILY VACCINATIONS RAW (Statistics):'"
            ],
            "application/vnd.google.colaboratory.intrinsic+json": {
              "type": "string"
            }
          },
          "metadata": {}
        },
        {
          "output_type": "display_data",
          "data": {
            "text/plain": [
              "count    3.810000e+02\n",
              "mean     3.263483e+05\n",
              "std      4.788904e+05\n",
              "min      0.000000e+00\n",
              "25%      0.000000e+00\n",
              "50%      3.417500e+04\n",
              "75%      5.181240e+05\n",
              "max      2.091069e+06\n",
              "Name: daily_vaccinations_raw, dtype: float64"
            ]
          },
          "metadata": {}
        },
        {
          "output_type": "stream",
          "name": "stdout",
          "text": [
            "===============**Wales**===================\n"
          ]
        },
        {
          "output_type": "display_data",
          "data": {
            "text/plain": [
              "'DAILY VACCINATIONS RAW (Statistics):'"
            ],
            "application/vnd.google.colaboratory.intrinsic+json": {
              "type": "string"
            }
          },
          "metadata": {}
        },
        {
          "output_type": "display_data",
          "data": {
            "text/plain": [
              "count       443.000000\n",
              "mean      15413.042889\n",
              "std       18466.848015\n",
              "min           0.000000\n",
              "25%        4190.500000\n",
              "50%       13989.000000\n",
              "75%       22784.000000\n",
              "max      324429.000000\n",
              "Name: daily_vaccinations_raw, dtype: float64"
            ]
          },
          "metadata": {}
        },
        {
          "output_type": "stream",
          "name": "stdout",
          "text": [
            "===============**Wallis and Futuna**===================\n"
          ]
        },
        {
          "output_type": "display_data",
          "data": {
            "text/plain": [
              "'DAILY VACCINATIONS RAW (Statistics):'"
            ],
            "application/vnd.google.colaboratory.intrinsic+json": {
              "type": "string"
            }
          },
          "metadata": {}
        },
        {
          "output_type": "display_data",
          "data": {
            "text/plain": [
              "count    371.0\n",
              "mean       0.0\n",
              "std        0.0\n",
              "min        0.0\n",
              "25%        0.0\n",
              "50%        0.0\n",
              "75%        0.0\n",
              "max        0.0\n",
              "Name: daily_vaccinations_raw, dtype: float64"
            ]
          },
          "metadata": {}
        },
        {
          "output_type": "stream",
          "name": "stdout",
          "text": [
            "===============**Yemen**===================\n"
          ]
        },
        {
          "output_type": "display_data",
          "data": {
            "text/plain": [
              "'DAILY VACCINATIONS RAW (Statistics):'"
            ],
            "application/vnd.google.colaboratory.intrinsic+json": {
              "type": "string"
            }
          },
          "metadata": {}
        },
        {
          "output_type": "display_data",
          "data": {
            "text/plain": [
              "count    312.0\n",
              "mean       0.0\n",
              "std        0.0\n",
              "min        0.0\n",
              "25%        0.0\n",
              "50%        0.0\n",
              "75%        0.0\n",
              "max        0.0\n",
              "Name: daily_vaccinations_raw, dtype: float64"
            ]
          },
          "metadata": {}
        },
        {
          "output_type": "stream",
          "name": "stdout",
          "text": [
            "===============**Zambia**===================\n"
          ]
        },
        {
          "output_type": "display_data",
          "data": {
            "text/plain": [
              "'DAILY VACCINATIONS RAW (Statistics):'"
            ],
            "application/vnd.google.colaboratory.intrinsic+json": {
              "type": "string"
            }
          },
          "metadata": {}
        },
        {
          "output_type": "display_data",
          "data": {
            "text/plain": [
              "count      350.000000\n",
              "mean      3987.474286\n",
              "std       8436.898564\n",
              "min          0.000000\n",
              "25%          0.000000\n",
              "50%          0.000000\n",
              "75%       4565.000000\n",
              "max      50201.000000\n",
              "Name: daily_vaccinations_raw, dtype: float64"
            ]
          },
          "metadata": {}
        },
        {
          "output_type": "stream",
          "name": "stdout",
          "text": [
            "===============**Zimbabwe**===================\n"
          ]
        },
        {
          "output_type": "display_data",
          "data": {
            "text/plain": [
              "'DAILY VACCINATIONS RAW (Statistics):'"
            ],
            "application/vnd.google.colaboratory.intrinsic+json": {
              "type": "string"
            }
          },
          "metadata": {}
        },
        {
          "output_type": "display_data",
          "data": {
            "text/plain": [
              "count       405.000000\n",
              "mean      20271.313580\n",
              "std       26615.856625\n",
              "min           0.000000\n",
              "25%        5149.000000\n",
              "50%       12648.000000\n",
              "75%       24602.000000\n",
              "max      180005.000000\n",
              "Name: daily_vaccinations_raw, dtype: float64"
            ]
          },
          "metadata": {}
        }
      ]
    },
    {
      "cell_type": "markdown",
      "source": [
        "# 10 maiores indices de vacinação globais"
      ],
      "metadata": {
        "id": "Ou4FxTSbuM7T"
      }
    },
    {
      "cell_type": "code",
      "source": [
        "dez_maiores = df[['iso_code','country','total_vaccinations']].groupby(by='country').sum().sort_values(by='total_vaccinations', ascending = False)\n",
        "dez_maiores"
      ],
      "metadata": {
        "colab": {
          "base_uri": "https://localhost:8080/",
          "height": 510
        },
        "id": "NWjb97LMrV-D",
        "outputId": "7c5ea913-0bf1-4182-8c74-ef2111f30e81"
      },
      "execution_count": null,
      "outputs": [
        {
          "output_type": "stream",
          "name": "stderr",
          "text": [
            "<ipython-input-120-db639f064606>:1: FutureWarning: The default value of numeric_only in DataFrameGroupBy.sum is deprecated. In a future version, numeric_only will default to False. Either specify numeric_only or select only columns which should be valid for the function.\n",
            "  dez_maiores = df[['iso_code','country','total_vaccinations']].groupby(by='country').sum().sort_values(by='total_vaccinations', ascending = False)\n"
          ]
        },
        {
          "output_type": "execute_result",
          "data": {
            "text/plain": [
              "                  total_vaccinations\n",
              "country                             \n",
              "China                   7.094527e+11\n",
              "India                   3.234403e+11\n",
              "United States           1.550139e+11\n",
              "Brazil                  7.906717e+10\n",
              "Indonesia               4.521462e+10\n",
              "...                              ...\n",
              "Saint Helena            2.423300e+04\n",
              "Falkland Islands        1.416300e+04\n",
              "Niue                    1.105500e+04\n",
              "Tokelau                 3.857000e+03\n",
              "Pitcairn                3.480000e+02\n",
              "\n",
              "[223 rows x 1 columns]"
            ],
            "text/html": [
              "\n",
              "  <div id=\"df-9c45e07f-e931-41ce-926f-522a47db0f9a\" class=\"colab-df-container\">\n",
              "    <div>\n",
              "<style scoped>\n",
              "    .dataframe tbody tr th:only-of-type {\n",
              "        vertical-align: middle;\n",
              "    }\n",
              "\n",
              "    .dataframe tbody tr th {\n",
              "        vertical-align: top;\n",
              "    }\n",
              "\n",
              "    .dataframe thead th {\n",
              "        text-align: right;\n",
              "    }\n",
              "</style>\n",
              "<table border=\"1\" class=\"dataframe\">\n",
              "  <thead>\n",
              "    <tr style=\"text-align: right;\">\n",
              "      <th></th>\n",
              "      <th>total_vaccinations</th>\n",
              "    </tr>\n",
              "    <tr>\n",
              "      <th>country</th>\n",
              "      <th></th>\n",
              "    </tr>\n",
              "  </thead>\n",
              "  <tbody>\n",
              "    <tr>\n",
              "      <th>China</th>\n",
              "      <td>7.094527e+11</td>\n",
              "    </tr>\n",
              "    <tr>\n",
              "      <th>India</th>\n",
              "      <td>3.234403e+11</td>\n",
              "    </tr>\n",
              "    <tr>\n",
              "      <th>United States</th>\n",
              "      <td>1.550139e+11</td>\n",
              "    </tr>\n",
              "    <tr>\n",
              "      <th>Brazil</th>\n",
              "      <td>7.906717e+10</td>\n",
              "    </tr>\n",
              "    <tr>\n",
              "      <th>Indonesia</th>\n",
              "      <td>4.521462e+10</td>\n",
              "    </tr>\n",
              "    <tr>\n",
              "      <th>...</th>\n",
              "      <td>...</td>\n",
              "    </tr>\n",
              "    <tr>\n",
              "      <th>Saint Helena</th>\n",
              "      <td>2.423300e+04</td>\n",
              "    </tr>\n",
              "    <tr>\n",
              "      <th>Falkland Islands</th>\n",
              "      <td>1.416300e+04</td>\n",
              "    </tr>\n",
              "    <tr>\n",
              "      <th>Niue</th>\n",
              "      <td>1.105500e+04</td>\n",
              "    </tr>\n",
              "    <tr>\n",
              "      <th>Tokelau</th>\n",
              "      <td>3.857000e+03</td>\n",
              "    </tr>\n",
              "    <tr>\n",
              "      <th>Pitcairn</th>\n",
              "      <td>3.480000e+02</td>\n",
              "    </tr>\n",
              "  </tbody>\n",
              "</table>\n",
              "<p>223 rows × 1 columns</p>\n",
              "</div>\n",
              "    <div class=\"colab-df-buttons\">\n",
              "\n",
              "  <div class=\"colab-df-container\">\n",
              "    <button class=\"colab-df-convert\" onclick=\"convertToInteractive('df-9c45e07f-e931-41ce-926f-522a47db0f9a')\"\n",
              "            title=\"Convert this dataframe to an interactive table.\"\n",
              "            style=\"display:none;\">\n",
              "\n",
              "  <svg xmlns=\"http://www.w3.org/2000/svg\" height=\"24px\" viewBox=\"0 -960 960 960\">\n",
              "    <path d=\"M120-120v-720h720v720H120Zm60-500h600v-160H180v160Zm220 220h160v-160H400v160Zm0 220h160v-160H400v160ZM180-400h160v-160H180v160Zm440 0h160v-160H620v160ZM180-180h160v-160H180v160Zm440 0h160v-160H620v160Z\"/>\n",
              "  </svg>\n",
              "    </button>\n",
              "\n",
              "  <style>\n",
              "    .colab-df-container {\n",
              "      display:flex;\n",
              "      gap: 12px;\n",
              "    }\n",
              "\n",
              "    .colab-df-convert {\n",
              "      background-color: #E8F0FE;\n",
              "      border: none;\n",
              "      border-radius: 50%;\n",
              "      cursor: pointer;\n",
              "      display: none;\n",
              "      fill: #1967D2;\n",
              "      height: 32px;\n",
              "      padding: 0 0 0 0;\n",
              "      width: 32px;\n",
              "    }\n",
              "\n",
              "    .colab-df-convert:hover {\n",
              "      background-color: #E2EBFA;\n",
              "      box-shadow: 0px 1px 2px rgba(60, 64, 67, 0.3), 0px 1px 3px 1px rgba(60, 64, 67, 0.15);\n",
              "      fill: #174EA6;\n",
              "    }\n",
              "\n",
              "    .colab-df-buttons div {\n",
              "      margin-bottom: 4px;\n",
              "    }\n",
              "\n",
              "    [theme=dark] .colab-df-convert {\n",
              "      background-color: #3B4455;\n",
              "      fill: #D2E3FC;\n",
              "    }\n",
              "\n",
              "    [theme=dark] .colab-df-convert:hover {\n",
              "      background-color: #434B5C;\n",
              "      box-shadow: 0px 1px 3px 1px rgba(0, 0, 0, 0.15);\n",
              "      filter: drop-shadow(0px 1px 2px rgba(0, 0, 0, 0.3));\n",
              "      fill: #FFFFFF;\n",
              "    }\n",
              "  </style>\n",
              "\n",
              "    <script>\n",
              "      const buttonEl =\n",
              "        document.querySelector('#df-9c45e07f-e931-41ce-926f-522a47db0f9a button.colab-df-convert');\n",
              "      buttonEl.style.display =\n",
              "        google.colab.kernel.accessAllowed ? 'block' : 'none';\n",
              "\n",
              "      async function convertToInteractive(key) {\n",
              "        const element = document.querySelector('#df-9c45e07f-e931-41ce-926f-522a47db0f9a');\n",
              "        const dataTable =\n",
              "          await google.colab.kernel.invokeFunction('convertToInteractive',\n",
              "                                                    [key], {});\n",
              "        if (!dataTable) return;\n",
              "\n",
              "        const docLinkHtml = 'Like what you see? Visit the ' +\n",
              "          '<a target=\"_blank\" href=https://colab.research.google.com/notebooks/data_table.ipynb>data table notebook</a>'\n",
              "          + ' to learn more about interactive tables.';\n",
              "        element.innerHTML = '';\n",
              "        dataTable['output_type'] = 'display_data';\n",
              "        await google.colab.output.renderOutput(dataTable, element);\n",
              "        const docLink = document.createElement('div');\n",
              "        docLink.innerHTML = docLinkHtml;\n",
              "        element.appendChild(docLink);\n",
              "      }\n",
              "    </script>\n",
              "  </div>\n",
              "\n",
              "\n",
              "<div id=\"df-89c26fea-15ea-4b57-8b94-b0cb570ba50f\">\n",
              "  <button class=\"colab-df-quickchart\" onclick=\"quickchart('df-89c26fea-15ea-4b57-8b94-b0cb570ba50f')\"\n",
              "            title=\"Suggest charts\"\n",
              "            style=\"display:none;\">\n",
              "\n",
              "<svg xmlns=\"http://www.w3.org/2000/svg\" height=\"24px\"viewBox=\"0 0 24 24\"\n",
              "     width=\"24px\">\n",
              "    <g>\n",
              "        <path d=\"M19 3H5c-1.1 0-2 .9-2 2v14c0 1.1.9 2 2 2h14c1.1 0 2-.9 2-2V5c0-1.1-.9-2-2-2zM9 17H7v-7h2v7zm4 0h-2V7h2v10zm4 0h-2v-4h2v4z\"/>\n",
              "    </g>\n",
              "</svg>\n",
              "  </button>\n",
              "\n",
              "<style>\n",
              "  .colab-df-quickchart {\n",
              "      --bg-color: #E8F0FE;\n",
              "      --fill-color: #1967D2;\n",
              "      --hover-bg-color: #E2EBFA;\n",
              "      --hover-fill-color: #174EA6;\n",
              "      --disabled-fill-color: #AAA;\n",
              "      --disabled-bg-color: #DDD;\n",
              "  }\n",
              "\n",
              "  [theme=dark] .colab-df-quickchart {\n",
              "      --bg-color: #3B4455;\n",
              "      --fill-color: #D2E3FC;\n",
              "      --hover-bg-color: #434B5C;\n",
              "      --hover-fill-color: #FFFFFF;\n",
              "      --disabled-bg-color: #3B4455;\n",
              "      --disabled-fill-color: #666;\n",
              "  }\n",
              "\n",
              "  .colab-df-quickchart {\n",
              "    background-color: var(--bg-color);\n",
              "    border: none;\n",
              "    border-radius: 50%;\n",
              "    cursor: pointer;\n",
              "    display: none;\n",
              "    fill: var(--fill-color);\n",
              "    height: 32px;\n",
              "    padding: 0;\n",
              "    width: 32px;\n",
              "  }\n",
              "\n",
              "  .colab-df-quickchart:hover {\n",
              "    background-color: var(--hover-bg-color);\n",
              "    box-shadow: 0 1px 2px rgba(60, 64, 67, 0.3), 0 1px 3px 1px rgba(60, 64, 67, 0.15);\n",
              "    fill: var(--button-hover-fill-color);\n",
              "  }\n",
              "\n",
              "  .colab-df-quickchart-complete:disabled,\n",
              "  .colab-df-quickchart-complete:disabled:hover {\n",
              "    background-color: var(--disabled-bg-color);\n",
              "    fill: var(--disabled-fill-color);\n",
              "    box-shadow: none;\n",
              "  }\n",
              "\n",
              "  .colab-df-spinner {\n",
              "    border: 2px solid var(--fill-color);\n",
              "    border-color: transparent;\n",
              "    border-bottom-color: var(--fill-color);\n",
              "    animation:\n",
              "      spin 1s steps(1) infinite;\n",
              "  }\n",
              "\n",
              "  @keyframes spin {\n",
              "    0% {\n",
              "      border-color: transparent;\n",
              "      border-bottom-color: var(--fill-color);\n",
              "      border-left-color: var(--fill-color);\n",
              "    }\n",
              "    20% {\n",
              "      border-color: transparent;\n",
              "      border-left-color: var(--fill-color);\n",
              "      border-top-color: var(--fill-color);\n",
              "    }\n",
              "    30% {\n",
              "      border-color: transparent;\n",
              "      border-left-color: var(--fill-color);\n",
              "      border-top-color: var(--fill-color);\n",
              "      border-right-color: var(--fill-color);\n",
              "    }\n",
              "    40% {\n",
              "      border-color: transparent;\n",
              "      border-right-color: var(--fill-color);\n",
              "      border-top-color: var(--fill-color);\n",
              "    }\n",
              "    60% {\n",
              "      border-color: transparent;\n",
              "      border-right-color: var(--fill-color);\n",
              "    }\n",
              "    80% {\n",
              "      border-color: transparent;\n",
              "      border-right-color: var(--fill-color);\n",
              "      border-bottom-color: var(--fill-color);\n",
              "    }\n",
              "    90% {\n",
              "      border-color: transparent;\n",
              "      border-bottom-color: var(--fill-color);\n",
              "    }\n",
              "  }\n",
              "</style>\n",
              "\n",
              "  <script>\n",
              "    async function quickchart(key) {\n",
              "      const quickchartButtonEl =\n",
              "        document.querySelector('#' + key + ' button');\n",
              "      quickchartButtonEl.disabled = true;  // To prevent multiple clicks.\n",
              "      quickchartButtonEl.classList.add('colab-df-spinner');\n",
              "      try {\n",
              "        const charts = await google.colab.kernel.invokeFunction(\n",
              "            'suggestCharts', [key], {});\n",
              "      } catch (error) {\n",
              "        console.error('Error during call to suggestCharts:', error);\n",
              "      }\n",
              "      quickchartButtonEl.classList.remove('colab-df-spinner');\n",
              "      quickchartButtonEl.classList.add('colab-df-quickchart-complete');\n",
              "    }\n",
              "    (() => {\n",
              "      let quickchartButtonEl =\n",
              "        document.querySelector('#df-89c26fea-15ea-4b57-8b94-b0cb570ba50f button');\n",
              "      quickchartButtonEl.style.display =\n",
              "        google.colab.kernel.accessAllowed ? 'block' : 'none';\n",
              "    })();\n",
              "  </script>\n",
              "</div>\n",
              "    </div>\n",
              "  </div>\n"
            ]
          },
          "metadata": {},
          "execution_count": 120
        }
      ]
    },
    {
      "cell_type": "code",
      "source": [
        "\n",
        "dez_maiores = df[['iso_code','country','total_vaccinations']].groupby(by='iso_code').sum().sort_values(by='total_vaccinations', ascending = False)\n",
        "sns.stripplot(data=dez_maiores[:10],x='iso_code',hue='iso_code',y='total_vaccinations',size=9).set_title('10 Maiores Índices de Vacinações Global')"
      ],
      "metadata": {
        "colab": {
          "base_uri": "https://localhost:8080/",
          "height": 546
        },
        "id": "XI1dlOTfVmAX",
        "outputId": "ec40843f-6134-466d-8fa8-53275adc3a89"
      },
      "execution_count": null,
      "outputs": [
        {
          "output_type": "stream",
          "name": "stderr",
          "text": [
            "<ipython-input-121-859c942afe8b>:1: FutureWarning: The default value of numeric_only in DataFrameGroupBy.sum is deprecated. In a future version, numeric_only will default to False. Either specify numeric_only or select only columns which should be valid for the function.\n",
            "  dez_maiores = df[['iso_code','country','total_vaccinations']].groupby(by='iso_code').sum().sort_values(by='total_vaccinations', ascending = False)\n"
          ]
        },
        {
          "output_type": "execute_result",
          "data": {
            "text/plain": [
              "Text(0.5, 1.0, '10 Maiores Índices de Vacinações Global')"
            ]
          },
          "metadata": {},
          "execution_count": 121
        },
        {
          "output_type": "display_data",
          "data": {
            "text/plain": [
              "<Figure size 640x480 with 1 Axes>"
            ],
            "image/png": "[encoded data removed]"
          },
          "metadata": {}
        }
      ]
    },
    {
      "cell_type": "markdown",
      "source": [
        "# Correlaciomento de Colunas da tabela\n",
        "\n",
        "---\n",
        "\n",
        "\n",
        "\n",
        "---\n",
        "\n"
      ],
      "metadata": {
        "id": "m-WHZJtnu4UQ"
      }
    },
    {
      "cell_type": "code",
      "source": [
        "sns.heatmap(df.corr(), annot = True) #correlacionamento de variáveis"
      ],
      "metadata": {
        "colab": {
          "base_uri": "https://localhost:8080/",
          "height": 756
        },
        "id": "ahVAmUWt5pqu",
        "outputId": "a7a4220f-addc-4a07-c481-779557f3a667"
      },
      "execution_count": null,
      "outputs": [
        {
          "output_type": "stream",
          "name": "stderr",
          "text": [
            "<ipython-input-11-fe43fffaf13b>:1: FutureWarning: The default value of numeric_only in DataFrame.corr is deprecated. In a future version, it will default to False. Select only valid columns or specify the value of numeric_only to silence this warning.\n",
            "  sns.heatmap(df.corr(), annot = True)\n"
          ]
        },
        {
          "output_type": "execute_result",
          "data": {
            "text/plain": [
              "<Axes: >"
            ]
          },
          "metadata": {},
          "execution_count": 11
        },
        {
          "output_type": "display_data",
          "data": {
            "text/plain": [
              "<Figure size 640x480 with 2 Axes>"
            ],
            "image/png": "[encoded data removed]"
          },
          "metadata": {}
        }
      ]
    }
  ]
}